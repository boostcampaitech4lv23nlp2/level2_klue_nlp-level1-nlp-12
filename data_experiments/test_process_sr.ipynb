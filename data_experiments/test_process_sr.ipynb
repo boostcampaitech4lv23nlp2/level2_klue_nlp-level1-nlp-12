{
 "cells": [
  {
   "cell_type": "markdown",
   "metadata": {},
   "source": [
    "Data Augmentation : EDA:SR"
   ]
  },
  {
   "cell_type": "markdown",
   "metadata": {},
   "source": [
    "# **setting**"
   ]
  },
  {
   "cell_type": "code",
   "execution_count": 21,
   "metadata": {},
   "outputs": [],
   "source": [
    "import pandas as pd\n",
    "import numpy as np\n",
    "from tqdm import tqdm\n",
    "import pickle\n",
    "\n",
    "#import os\n",
    "#os.chdir('./data')\n",
    "#os.getcwd()"
   ]
  },
  {
   "cell_type": "code",
   "execution_count": 22,
   "metadata": {},
   "outputs": [],
   "source": [
    "def preprocessing_dataset(dataset):\n",
    "    \"\"\"처음 불러온 csv 파일을 원하는 형태의 DataFrame으로 변경 시켜줍니다.\"\"\"\n",
    "    subject_entity = []\n",
    "    object_entity = []\n",
    "\n",
    "    for i, j in tqdm(zip(dataset[\"subject_entity\"], dataset[\"object_entity\"]), desc=\"preprocessing\"):\n",
    "        i = i[1:-1].split(\",\")[0].split(\":\")[1]\n",
    "        j = j[1:-1].split(\",\")[0].split(\":\")[1]\n",
    "\n",
    "        subject_entity.append(i)\n",
    "        object_entity.append(j)\n",
    "\n",
    "    out_dataset = pd.DataFrame(\n",
    "        {\n",
    "            \"id\": dataset[\"id\"],\n",
    "            \"sentence\": dataset[\"sentence\"],\n",
    "            \"subject_entity\": subject_entity,\n",
    "            \"object_entity\": object_entity,\n",
    "            \"label\": dataset[\"label\"],\n",
    "        }\n",
    "    )\n",
    "    return out_dataset\n",
    "\n",
    "\n",
    "def load_data(dataset_dir):\n",
    "    \"\"\"csv 파일을 경로에 맡게 불러 옵니다.\"\"\"\n",
    "    pd_dataset = pd.read_csv(dataset_dir)\n",
    "    dataset = preprocessing_dataset(pd_dataset)\n",
    "\n",
    "    return dataset\n",
    "\n",
    "def label_to_num(label):\n",
    "    num_label = []\n",
    "    with open(\"/opt/ml/code/dict_label_to_num.pkl\", \"rb\") as f:\n",
    "        dict_label_to_num = pickle.load(f)\n",
    "    for v in label:\n",
    "        num_label.append(dict_label_to_num[v])\n",
    "\n",
    "    return num_label"
   ]
  },
  {
   "cell_type": "markdown",
   "metadata": {},
   "source": [
    "# **데이터 불러오기**"
   ]
  },
  {
   "cell_type": "code",
   "execution_count": 23,
   "metadata": {},
   "outputs": [
    {
     "name": "stderr",
     "output_type": "stream",
     "text": [
      "preprocessing: 32470it [00:00, 371483.11it/s]\n"
     ]
    }
   ],
   "source": [
    "train_path = '/opt/ml/dataset/train/train.csv'\n",
    "total_data = load_data(train_path)\n",
    "# total_data.columns"
   ]
  },
  {
   "cell_type": "code",
   "execution_count": 24,
   "metadata": {},
   "outputs": [],
   "source": [
    "train_data = total_data.sample(frac=0.9, random_state=42)\n",
    "val_data = total_data.drop(train_data.index)\n",
    "\n",
    "train_label = label_to_num(train_data[\"label\"].values)\n",
    "val_label = label_to_num(val_data[\"label\"].values)"
   ]
  },
  {
   "cell_type": "code",
   "execution_count": 76,
   "metadata": {},
   "outputs": [],
   "source": [
    "pd.options.display.max_colwidth = 2000"
   ]
  },
  {
   "cell_type": "markdown",
   "metadata": {},
   "source": [
    "# **SR**   \n",
    "- pororo를 활용한 유의어로 대체\n",
    "- sub,obj entity 단어를 비슷한 의미의 유의어로 교체"
   ]
  },
  {
   "cell_type": "markdown",
   "metadata": {},
   "source": [
    "### **Base Code**"
   ]
  },
  {
   "cell_type": "code",
   "execution_count": 23,
   "metadata": {},
   "outputs": [],
   "source": [
    "#pip install pororo\n",
    "from pororo import Pororo\n",
    "\n",
    "pg = Pororo(task=\"pg\", lang=\"ko\")\n",
    "\n",
    "def pororo_pg(faq_question):\n",
    "    question_based_q = pg(faq_question)\n",
    "    return question_based_q"
   ]
  },
  {
   "cell_type": "code",
   "execution_count": 11,
   "metadata": {},
   "outputs": [
    {
     "data": {
      "text/plain": [
       "'결제가 안 되는데 무엇을 하면 좋을까요?'"
      ]
     },
     "execution_count": 11,
     "metadata": {},
     "output_type": "execute_result"
    }
   ],
   "source": [
    "sentence = \"결제가 안되는데 무엇을 어떻게 해야되나요?\"\n",
    "pg(sentence)"
   ]
  },
  {
   "cell_type": "markdown",
   "metadata": {},
   "source": [
    "### **TEST**"
   ]
  },
  {
   "cell_type": "code",
   "execution_count": 41,
   "metadata": {},
   "outputs": [
    {
     "data": {
      "text/plain": [
       "2893                                                                                                                           문하시중 이자연의 조카이고 인예왕후, 인경현비, 인절현비와는 사촌간이다.\n",
       "25844                                                                                                 1년 후, 바이에른은 전설적인 오스트리아인 감독 에른스트 하펠이 이끄는 함부르크 SV와 DFB-포칼 결승에서 만났다.\n",
       "17759    그러다가 1949년 6월 6일 이승만 대통령과 신성모 내무부 장관의 사주를 받은 친일 경찰이 반민특위 사무실을 습격하는 사건 발생 후 반민특위가 사실상 무력화되면서 서울 마포형무소에 구금되었던 하판락은 서울에서 3회, 부산에서 1회 등 모두 4차 공판을 거쳐 최종 무혐의로 풀려났다.\n",
       "10515                                                                무라트 1세의 아들 바예지드 1세는 1396년에 불가리아 북부에서 니코폴리스 전투를 벌여, 이 전투에서 헝가리 왕국을 필두로 한 십자군을 격파, 오히려 영토를 더 크게 넓혔다.\n",
       "12680                                       실제로 남한 쪽에서는 남조선로동당·근로인민당 등 좌익계열 정당뿐 아니라 한국독립당·민족자주연맹 등 우익계열 정당들도 참여하였을 뿐만 아니라, 박헌영·백남운·김구·김규식·조소앙 등 명망있는 좌익 및 우익 인사들도 참석했다.\n",
       "16401                                                                                                                    1983년 한국 프로야구(KBO)의 삼미에 입단하면서 장명부라는 등록명을 사용했다.\n",
       "13741                       최남곤 유안타증권 연구원은 “지난달 30일 자로 과학기술정보통신부가 SK브로드밴드의 티브로드 M&A(인수·합병)에 대한 조건부 인가를 결정했다”라며 “SK텔레콤 입장에서는 향후 방통위 승인 이후 연결 범위 확대 효과를 얻게 될 전망”이라고 분석했다.\n",
       "19987                                                                         화순군(군수 구충곤)이 신종 코로나바이러스 감염증(코로나19) 장기화로 어려움을 겪고 있는 지역 외식업소를 돕기 위해 ‘공직자 점심 나드리 day’를 운영한다.\n",
       "5601                                                                    시애틀 레인의 감독을 역임하고 있던 로라 하비는 킴 리틀의 시애틀 레인 이적을 주선했는데 로라 하비는 시애틀 레인의 감독으로 임명되기 1년 전까지 아스널의 감독을 맡았다.\n",
       "2678                                                                                                                     아일랜드 공화국은 1919년 1월 그레이트브리튼으로부터의 독립을 선언한 혁명정체다.\n",
       "Name: sentence, dtype: object"
      ]
     },
     "execution_count": 41,
     "metadata": {},
     "output_type": "execute_result"
    }
   ],
   "source": [
    "train_data[:10].sentence"
   ]
  },
  {
   "cell_type": "markdown",
   "metadata": {},
   "source": [
    "---"
   ]
  },
  {
   "cell_type": "markdown",
   "metadata": {},
   "source": [
    "# **Fill in the Blank**   \n",
    "- pororo 빈칸 채우기 활용\n",
    "- sub,obj entity 단어를 masking"
   ]
  },
  {
   "cell_type": "markdown",
   "metadata": {},
   "source": [
    "### **Base Code**"
   ]
  },
  {
   "cell_type": "code",
   "execution_count": 86,
   "metadata": {},
   "outputs": [],
   "source": [
    "from pororo import Pororo\n",
    "fib= Pororo(task=\"fib\", lang=\"ko\")\n",
    "# ko,en,ja,zh"
   ]
  },
  {
   "cell_type": "code",
   "execution_count": 66,
   "metadata": {},
   "outputs": [],
   "source": [
    "# fib(\"손흥민은 __의 축구선수이다.\")"
   ]
  },
  {
   "cell_type": "markdown",
   "metadata": {},
   "source": [
    "### **TEST**"
   ]
  },
  {
   "cell_type": "code",
   "execution_count": 77,
   "metadata": {},
   "outputs": [
    {
     "data": {
      "text/html": [
       "<div>\n",
       "<style scoped>\n",
       "    .dataframe tbody tr th:only-of-type {\n",
       "        vertical-align: middle;\n",
       "    }\n",
       "\n",
       "    .dataframe tbody tr th {\n",
       "        vertical-align: top;\n",
       "    }\n",
       "\n",
       "    .dataframe thead th {\n",
       "        text-align: right;\n",
       "    }\n",
       "</style>\n",
       "<table border=\"1\" class=\"dataframe\">\n",
       "  <thead>\n",
       "    <tr style=\"text-align: right;\">\n",
       "      <th></th>\n",
       "      <th>id</th>\n",
       "      <th>sentence</th>\n",
       "      <th>subject_entity</th>\n",
       "      <th>object_entity</th>\n",
       "      <th>label</th>\n",
       "    </tr>\n",
       "  </thead>\n",
       "  <tbody>\n",
       "    <tr>\n",
       "      <th>25844</th>\n",
       "      <td>25844</td>\n",
       "      <td>1년 후, 바이에른은 전설적인 오스트리아인 감독 에른스트 하펠이 이끄는 함부르크 SV와 DFB-포칼 결승에서 만났다.</td>\n",
       "      <td>'에른스트 하펠'</td>\n",
       "      <td>'오스트리아'</td>\n",
       "      <td>per:origin</td>\n",
       "    </tr>\n",
       "    <tr>\n",
       "      <th>9773</th>\n",
       "      <td>9773</td>\n",
       "      <td>마닐라에서 야당 정치인 베니그노 아키노와 필리핀 11대 대통령 코라손 아키노 사이의 1남 4녀 중 셋째로 태어났다.</td>\n",
       "      <td>'코라손 아키노'</td>\n",
       "      <td>'필리핀'</td>\n",
       "      <td>per:origin</td>\n",
       "    </tr>\n",
       "    <tr>\n",
       "      <th>4845</th>\n",
       "      <td>4845</td>\n",
       "      <td>이날 행사에는 김승남지역위원장을 비롯 우원식(전)원내대표, 송갑석광주시당위원장, 김철우보성군수, 이승옥강진군수, 박병종(전)고흥군수, 김성(전)장흥군수와 4개지역 더불어민주당 소속 도의원 9명, 군의원 31명을 포함 당직자 및 당원 3,500여명이 참석하여 성황리에 개최됐다.</td>\n",
       "      <td>'우원식'</td>\n",
       "      <td>'원내대표'</td>\n",
       "      <td>per:origin</td>\n",
       "    </tr>\n",
       "    <tr>\n",
       "      <th>18461</th>\n",
       "      <td>18461</td>\n",
       "      <td>메수드 1세는 39년 동안 군주로 군림하여 룸 셀주크 군주들 가운데 가장 오랜 기간 통치한 술탄이 되었다.</td>\n",
       "      <td>'메수드 1세'</td>\n",
       "      <td>'룸 셀주크'</td>\n",
       "      <td>per:origin</td>\n",
       "    </tr>\n",
       "    <tr>\n",
       "      <th>30566</th>\n",
       "      <td>30566</td>\n",
       "      <td>김명수(金命洙, 1959년 10월 12일 ~)는 대한민국의 제16대 대법원장이다.</td>\n",
       "      <td>'김명수'</td>\n",
       "      <td>'대한민국'</td>\n",
       "      <td>per:origin</td>\n",
       "    </tr>\n",
       "    <tr>\n",
       "      <th>...</th>\n",
       "      <td>...</td>\n",
       "      <td>...</td>\n",
       "      <td>...</td>\n",
       "      <td>...</td>\n",
       "      <td>...</td>\n",
       "    </tr>\n",
       "    <tr>\n",
       "      <th>27177</th>\n",
       "      <td>27177</td>\n",
       "      <td>해주 최씨로, 가수 최성수, 탤런트 최불암, 최수종, 최경록 전 육군참모총장하고 문중이다.</td>\n",
       "      <td>'최불암'</td>\n",
       "      <td>'해주 최씨'</td>\n",
       "      <td>per:origin</td>\n",
       "    </tr>\n",
       "    <tr>\n",
       "      <th>21223</th>\n",
       "      <td>21223</td>\n",
       "      <td>위르비 에마뉘엘손(1986년 6월 16일 ~)은 남아메리카 수리남 계통의 집안에서 태어난 네덜란드 국적의 축구 선수로, 2017년 현재 에레디비시의 FC 위트레흐트에서 뛰고 있다.</td>\n",
       "      <td>'위르비 에마뉘엘손'</td>\n",
       "      <td>'네덜란드'</td>\n",
       "      <td>per:origin</td>\n",
       "    </tr>\n",
       "    <tr>\n",
       "      <th>18677</th>\n",
       "      <td>18677</td>\n",
       "      <td>또한 캐나다의 추수감사절에 대한 기원은 종종 17세기 초 탐험가 사무엘 드 샹플랭과 함께 뉴프랑스에 온 프랑스 개척민들이 성공적인 수확을 경축한 행사로까지 거슬러 올라가기도 한다.</td>\n",
       "      <td>'사무엘 드 샹플랭'</td>\n",
       "      <td>'뉴프랑스'</td>\n",
       "      <td>per:origin</td>\n",
       "    </tr>\n",
       "    <tr>\n",
       "      <th>1549</th>\n",
       "      <td>1549</td>\n",
       "      <td>방패 속 얼굴 주인공은 그리스 신화의 ‘제우스’에 해당하는 '유피테르'다.</td>\n",
       "      <td>'제우스'</td>\n",
       "      <td>'그리스'</td>\n",
       "      <td>per:origin</td>\n",
       "    </tr>\n",
       "    <tr>\n",
       "      <th>767</th>\n",
       "      <td>767</td>\n",
       "      <td>1989년 대한민국 민주정의당 국회의원 김종호 등의 노력으로 국회의원 스카우트 연맹에 결성되었다.</td>\n",
       "      <td>'김종호'</td>\n",
       "      <td>'대한민국'</td>\n",
       "      <td>per:origin</td>\n",
       "    </tr>\n",
       "  </tbody>\n",
       "</table>\n",
       "<p>1094 rows × 5 columns</p>\n",
       "</div>"
      ],
      "text/plain": [
       "          id  \\\n",
       "25844  25844   \n",
       "9773    9773   \n",
       "4845    4845   \n",
       "18461  18461   \n",
       "30566  30566   \n",
       "...      ...   \n",
       "27177  27177   \n",
       "21223  21223   \n",
       "18677  18677   \n",
       "1549    1549   \n",
       "767      767   \n",
       "\n",
       "                                                                                                                                                         sentence  \\\n",
       "25844                                                                                           1년 후, 바이에른은 전설적인 오스트리아인 감독 에른스트 하펠이 이끄는 함부르크 SV와 DFB-포칼 결승에서 만났다.   \n",
       "9773                                                                                             마닐라에서 야당 정치인 베니그노 아키노와 필리핀 11대 대통령 코라손 아키노 사이의 1남 4녀 중 셋째로 태어났다.   \n",
       "4845   이날 행사에는 김승남지역위원장을 비롯 우원식(전)원내대표, 송갑석광주시당위원장, 김철우보성군수, 이승옥강진군수, 박병종(전)고흥군수, 김성(전)장흥군수와 4개지역 더불어민주당 소속 도의원 9명, 군의원 31명을 포함 당직자 및 당원 3,500여명이 참석하여 성황리에 개최됐다.   \n",
       "18461                                                                                                 메수드 1세는 39년 동안 군주로 군림하여 룸 셀주크 군주들 가운데 가장 오랜 기간 통치한 술탄이 되었다.   \n",
       "30566                                                                                                               김명수(金命洙, 1959년 10월 12일 ~)는 대한민국의 제16대 대법원장이다.   \n",
       "...                                                                                                                                                           ...   \n",
       "27177                                                                                                          해주 최씨로, 가수 최성수, 탤런트 최불암, 최수종, 최경록 전 육군참모총장하고 문중이다.   \n",
       "21223                                                        위르비 에마뉘엘손(1986년 6월 16일 ~)은 남아메리카 수리남 계통의 집안에서 태어난 네덜란드 국적의 축구 선수로, 2017년 현재 에레디비시의 FC 위트레흐트에서 뛰고 있다.   \n",
       "18677                                                        또한 캐나다의 추수감사절에 대한 기원은 종종 17세기 초 탐험가 사무엘 드 샹플랭과 함께 뉴프랑스에 온 프랑스 개척민들이 성공적인 수확을 경축한 행사로까지 거슬러 올라가기도 한다.   \n",
       "1549                                                                                                                    방패 속 얼굴 주인공은 그리스 신화의 ‘제우스’에 해당하는 '유피테르'다.   \n",
       "767                                                                                                        1989년 대한민국 민주정의당 국회의원 김종호 등의 노력으로 국회의원 스카우트 연맹에 결성되었다.   \n",
       "\n",
       "      subject_entity object_entity       label  \n",
       "25844      '에른스트 하펠'       '오스트리아'  per:origin  \n",
       "9773       '코라손 아키노'         '필리핀'  per:origin  \n",
       "4845           '우원식'        '원내대표'  per:origin  \n",
       "18461       '메수드 1세'       '룸 셀주크'  per:origin  \n",
       "30566          '김명수'        '대한민국'  per:origin  \n",
       "...              ...           ...         ...  \n",
       "27177          '최불암'       '해주 최씨'  per:origin  \n",
       "21223    '위르비 에마뉘엘손'        '네덜란드'  per:origin  \n",
       "18677    '사무엘 드 샹플랭'        '뉴프랑스'  per:origin  \n",
       "1549           '제우스'         '그리스'  per:origin  \n",
       "767            '김종호'        '대한민국'  per:origin  \n",
       "\n",
       "[1094 rows x 5 columns]"
      ]
     },
     "execution_count": 77,
     "metadata": {},
     "output_type": "execute_result"
    }
   ],
   "source": [
    "train_data[train_data.label =='per:origin']"
   ]
  },
  {
   "cell_type": "code",
   "execution_count": 78,
   "metadata": {},
   "outputs": [],
   "source": [
    "text = '1년 후, 바이에른은 전설적인 오스트리아인 감독 에른스트 하펠이 이끄는 함부르크 SV와 DFB-포칼 결승에서 만났다.'\n",
    "s = '에른스트 하펠'\n",
    "o = '오스트리아'\n",
    "text_s = text.replace(s,\"__\")\n",
    "text_o = text.replace(o,\"__\")"
   ]
  },
  {
   "cell_type": "code",
   "execution_count": 82,
   "metadata": {},
   "outputs": [
    {
     "data": {
      "text/plain": [
       "['들', '님', '대행', '만', '팀', '감독', '직', '등', ')', '급', '경력', '본인', '단장']"
      ]
     },
     "execution_count": 82,
     "metadata": {},
     "output_type": "execute_result"
    }
   ],
   "source": [
    "fib(text_s)"
   ]
  }
 ],
 "metadata": {
  "kernelspec": {
   "display_name": "Python 3.8.15 ('lv2')",
   "language": "python",
   "name": "python3"
  },
  "language_info": {
   "codemirror_mode": {
    "name": "ipython",
    "version": 3
   },
   "file_extension": ".py",
   "mimetype": "text/x-python",
   "name": "python",
   "nbconvert_exporter": "python",
   "pygments_lexer": "ipython3",
   "version": "3.8.15"
  },
  "orig_nbformat": 4,
  "vscode": {
   "interpreter": {
    "hash": "460daaacedb28129c65ab758cd23a5a0183e369e52854b14e0ab0a12ea940b5a"
   }
  }
 },
 "nbformat": 4,
 "nbformat_minor": 2
}
