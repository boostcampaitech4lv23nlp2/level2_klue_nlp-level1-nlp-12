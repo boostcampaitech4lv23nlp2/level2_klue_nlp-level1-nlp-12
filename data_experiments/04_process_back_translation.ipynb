{
 "cells": [
  {
   "cell_type": "markdown",
   "metadata": {},
   "source": [
    "# **Back_Trainslation Process**"
   ]
  },
  {
   "cell_type": "markdown",
   "metadata": {},
   "source": [
    "# **setting**"
   ]
  },
  {
   "cell_type": "code",
   "execution_count": 1,
   "metadata": {},
   "outputs": [],
   "source": [
    "import pandas as pd\n",
    "import numpy as np\n",
    "from tqdm import tqdm\n",
    "import pickle\n",
    "\n",
    "#import os\n",
    "#os.chdir('./data')\n",
    "#os.getcwd()"
   ]
  },
  {
   "cell_type": "code",
   "execution_count": 2,
   "metadata": {},
   "outputs": [],
   "source": [
    "def preprocessing_dataset(dataset):\n",
    "    \"\"\"처음 불러온 csv 파일을 원하는 형태의 DataFrame으로 변경 시켜줍니다.\"\"\"\n",
    "    subject_entity = []\n",
    "    object_entity = []\n",
    "\n",
    "    for i, j in tqdm(zip(dataset[\"subject_entity\"], dataset[\"object_entity\"]), desc=\"preprocessing\"):\n",
    "        i = i[1:-1].split(\",\")[0].split(\":\")[1]\n",
    "        j = j[1:-1].split(\",\")[0].split(\":\")[1]\n",
    "\n",
    "        subject_entity.append(i)\n",
    "        object_entity.append(j)\n",
    "\n",
    "    out_dataset = pd.DataFrame(\n",
    "        {\n",
    "            \"id\": dataset[\"id\"],\n",
    "            \"sentence\": dataset[\"sentence\"],\n",
    "            \"subject_entity\": subject_entity,\n",
    "            \"object_entity\": object_entity,\n",
    "            \"label\": dataset[\"label\"],\n",
    "        }\n",
    "    )\n",
    "    return out_dataset\n",
    "\n",
    "\n",
    "def load_data(dataset_dir):\n",
    "    \"\"\"csv 파일을 경로에 맡게 불러 옵니다.\"\"\"\n",
    "    pd_dataset = pd.read_csv(dataset_dir)\n",
    "    dataset = preprocessing_dataset(pd_dataset)\n",
    "\n",
    "    return dataset\n",
    "\n",
    "def label_to_num(label):\n",
    "    num_label = []\n",
    "    with open(\"/opt/ml/code/dict_label_to_num.pkl\", \"rb\") as f:\n",
    "        dict_label_to_num = pickle.load(f)\n",
    "    for v in label:\n",
    "        num_label.append(dict_label_to_num[v])\n",
    "\n",
    "    return num_label"
   ]
  },
  {
   "cell_type": "markdown",
   "metadata": {},
   "source": [
    "# **데이터 불러오기**"
   ]
  },
  {
   "cell_type": "code",
   "execution_count": 3,
   "metadata": {},
   "outputs": [
    {
     "name": "stderr",
     "output_type": "stream",
     "text": [
      "preprocessing: 32470it [00:00, 347413.07it/s]\n"
     ]
    }
   ],
   "source": [
    "train_path = '/opt/ml/dataset/train/train.csv'\n",
    "total_data = load_data(train_path)\n",
    "# total_data.columns"
   ]
  },
  {
   "cell_type": "code",
   "execution_count": 4,
   "metadata": {},
   "outputs": [],
   "source": [
    "train_data = total_data.sample(frac=0.9, random_state=42)\n",
    "val_data = total_data.drop(train_data.index)\n",
    "\n",
    "train_label = label_to_num(train_data[\"label\"].values)\n",
    "val_label = label_to_num(val_data[\"label\"].values)"
   ]
  },
  {
   "cell_type": "markdown",
   "metadata": {},
   "source": [
    "# **Back Translation**"
   ]
  },
  {
   "cell_type": "markdown",
   "metadata": {},
   "source": [
    "git clone https://github.com/kakaobrain/pororo.git     #라이브러리 설치   \n",
    "cd pororo         # 디렉토리 이동   \n",
    "pip install -e ."
   ]
  },
  {
   "cell_type": "code",
   "execution_count": 5,
   "metadata": {},
   "outputs": [
    {
     "name": "stderr",
     "output_type": "stream",
     "text": [
      "2022-11-30 08:28:12.495555: I tensorflow/core/platform/cpu_feature_guard.cc:193] This TensorFlow binary is optimized with oneAPI Deep Neural Network Library (oneDNN) to use the following CPU instructions in performance-critical operations:  SSE4.1 SSE4.2 AVX AVX2 FMA\n",
      "To enable them in other operations, rebuild TensorFlow with the appropriate compiler flags.\n"
     ]
    }
   ],
   "source": [
    "from pororo import Pororo\n",
    "mt = Pororo(task=\"translation\", lang=\"multi\")\n",
    "#mt = Pororo(task=\"machine_translation\", lang=\"multi\")"
   ]
  },
  {
   "cell_type": "code",
   "execution_count": 6,
   "metadata": {},
   "outputs": [],
   "source": [
    "pd.options.display.max_colwidth = 2000"
   ]
  },
  {
   "cell_type": "markdown",
   "metadata": {},
   "source": [
    "### **Base Code**"
   ]
  },
  {
   "cell_type": "code",
   "execution_count": 7,
   "metadata": {},
   "outputs": [],
   "source": [
    "def back_trans_pororo(original_text, lang):\n",
    "    text_to_lang = mt(original_text, src=\"ko\", tgt=lang)\n",
    "    new_text = mt(text_to_lang, src=lang, tgt=\"ko\")\n",
    "    return new_text"
   ]
  },
  {
   "cell_type": "markdown",
   "metadata": {},
   "source": [
    "## TEST"
   ]
  },
  {
   "cell_type": "markdown",
   "metadata": {},
   "source": [
    "- 한-일-한 역번역\n",
    "- 문법 검사기 X "
   ]
  },
  {
   "cell_type": "code",
   "execution_count": 8,
   "metadata": {},
   "outputs": [],
   "source": [
    "def kjk_mt(dataset,lang):           \n",
    "    # plan01 : 역변역 진행 후, sub,obj 존재하면 return\n",
    "    # plan02 : sub -> ^$&S / obj -> ^$&O 로 변환하여 masking_sentence를 만들고 역변역 진행 후, 원래 sub,obj로 변환.\n",
    "    # plan03 : ''\n",
    "    \n",
    "    count = 0\n",
    "    result = list()\n",
    "    for sub,obj,sent,id in zip(dataset[\"subject_entity\"], dataset[\"object_entity\"],dataset[\"sentence\"],dataset['id']):\n",
    "        print(\"processing... [\",id,\"] \")\n",
    "        sub = sub.strip()[1:-1]\n",
    "        obj = obj.strip()[1:-1]\n",
    "        # 이모지 제거(pororo)\n",
    "        input_sentence = sent.replace('®',\"\")\n",
    "        \n",
    "        #print(\"###### 원본 문장[\",id,\"] : \",input_sentence)\n",
    "        \n",
    "        # 한-일-한\n",
    "        try :\n",
    "            trans_sentence = mt(mt(input_sentence, src=\"ko\", tgt=lang), src=lang, tgt=\"ko\") \n",
    "        except :                                                                                        #\n",
    "            print(\">>> ERROR >>> \",input_sentence)\n",
    "            print(\">>> re : ID >>> \",id)\n",
    "            result.append('')\n",
    "            count +=1\n",
    "            continue\n",
    "        \n",
    "        if sub in trans_sentence and obj in trans_sentence :        # plan01\n",
    "            #print(\"== plan01 == 역번역된 문장[\",id,\"] : \",trans_sentence)\n",
    "            result.append(trans_sentence)\n",
    "            continue\n",
    "        else :                                                      # plan02\n",
    "            # sub -> ^$&S / obj -> ^$&O로 변환\n",
    "            masking_sentence = input_sentence.replace(sub,\"^$&S\").replace(obj,\"^$&O\")\n",
    "            trans_sentence = mt(mt(masking_sentence, src=\"ko\", tgt=lang), src=lang, tgt=\"ko\")\n",
    "            re_sentence = trans_sentence.replace(\"^$&S\",sub).replace(\"^$&O\",obj)\n",
    "            #print(\">> plan02 >> 역번역된 문장[\",id,\"] : \",re_sentence)\n",
    "            \n",
    "            if sub not in re_sentence or obj not in re_sentence :       # plan03\n",
    "                #print(\">> plan03 >> 역번역된 문장[\",id,\"] : \",re_sentence)\n",
    "                result.append('')\n",
    "                count +=1\n",
    "            else :\n",
    "                result.append(re_sentence)\n",
    "                \n",
    "    print(\"#### 완료 #### 빈값 rows : \",count)\n",
    "    return result"
   ]
  },
  {
   "cell_type": "code",
   "execution_count": 9,
   "metadata": {},
   "outputs": [],
   "source": [
    "#test01_train = train_data.sort_values(by=[\"id\"], ascending=[True])\n",
    "#lang = \"ja\"\n",
    "#kjk_sentence = kjk_mt(test01_train,lang)        # list\n",
    "## 8시 40 ~ 다음날 12:30"
   ]
  },
  {
   "cell_type": "code",
   "execution_count": 10,
   "metadata": {},
   "outputs": [],
   "source": [
    "#df = pd.DataFrame(kjk_sentence,columns = ['re_sentence'])\n",
    "#df.to_csv('/opt/ml/workspace/save_kjk_mt.csv',index=False,encoding = 'utf-8')\n",
    "#### 완료 #### 빈값 rows :  3394"
   ]
  },
  {
   "cell_type": "markdown",
   "metadata": {},
   "source": [
    "### 역번역 데이터 원본 데이터에 합치기"
   ]
  },
  {
   "cell_type": "code",
   "execution_count": 11,
   "metadata": {},
   "outputs": [],
   "source": [
    "def reformat(dataset):\n",
    "    out_dataset = pd.DataFrame(\n",
    "            {\n",
    "                \"id\": dataset[\"id\"],\n",
    "                \"sentence\": dataset[\"sentence\"],\n",
    "                \"subject_entity\": \"{'word' : \"+dataset[\"subject_entity\"]+\", 'start_idx': 0, 'end_idx': 0, 'type': 'None'\",\n",
    "                \"object_entity\": \"{'word' : \"+dataset[\"object_entity\"]+\", 'start_idx': 0, 'end_idx': 0, 'type': 'None'\",\n",
    "                \"label\": dataset[\"label\"],\n",
    "            }\n",
    "    )\n",
    "    return out_dataset"
   ]
  },
  {
   "cell_type": "code",
   "execution_count": 12,
   "metadata": {},
   "outputs": [],
   "source": [
    "# 01. 불러오기\n",
    "sentence_kjk = pd.read_csv('/opt/ml/workspace/save_kjk_mt.csv')\n",
    "#sentence_kjk : list"
   ]
  },
  {
   "cell_type": "code",
   "execution_count": 13,
   "metadata": {},
   "outputs": [
    {
     "data": {
      "text/html": [
       "<div>\n",
       "<style scoped>\n",
       "    .dataframe tbody tr th:only-of-type {\n",
       "        vertical-align: middle;\n",
       "    }\n",
       "\n",
       "    .dataframe tbody tr th {\n",
       "        vertical-align: top;\n",
       "    }\n",
       "\n",
       "    .dataframe thead th {\n",
       "        text-align: right;\n",
       "    }\n",
       "</style>\n",
       "<table border=\"1\" class=\"dataframe\">\n",
       "  <thead>\n",
       "    <tr style=\"text-align: right;\">\n",
       "      <th></th>\n",
       "      <th>id</th>\n",
       "      <th>sentence</th>\n",
       "      <th>subject_entity</th>\n",
       "      <th>object_entity</th>\n",
       "      <th>label</th>\n",
       "    </tr>\n",
       "  </thead>\n",
       "  <tbody>\n",
       "    <tr>\n",
       "      <th>0</th>\n",
       "      <td>0</td>\n",
       "      <td>&lt;소메팅&gt;은 조지 해리슨가 써서비틀즈가 1969년 앨범 &lt;AbbeyRoad&gt;에 담긴 노래다.</td>\n",
       "      <td>{'word' :  '비틀즈', 'start_idx': 0, 'end_idx': 0, 'type': 'None'</td>\n",
       "      <td>{'word' :  '조지 해리슨', 'start_idx': 0, 'end_idx': 0, 'type': 'None'</td>\n",
       "      <td>no_relation</td>\n",
       "    </tr>\n",
       "    <tr>\n",
       "      <th>1</th>\n",
       "      <td>1</td>\n",
       "      <td>호남 기반의 발른 미래당·대안신당·민주평화당이 우여곡절 끝에 합쳐 민생당(가칭)으로 재생한다.</td>\n",
       "      <td>{'word' :  '민주평화당', 'start_idx': 0, 'end_idx': 0, 'type': 'None'</td>\n",
       "      <td>{'word' :  '대안신당', 'start_idx': 0, 'end_idx': 0, 'type': 'None'</td>\n",
       "      <td>no_relation</td>\n",
       "    </tr>\n",
       "    <tr>\n",
       "      <th>2</th>\n",
       "      <td>2</td>\n",
       "      <td>K리그2에서 성적 1위를 달리고 있는 광주FC는 26일, 한국프로축구연맹으로부터 관중 유치의 성과와 마케팅 성과를 인정받아 풀스타디움상과 플라스타지움상을 수상했다.</td>\n",
       "      <td>{'word' :  '광주FC', 'start_idx': 0, 'end_idx': 0, 'type': 'None'</td>\n",
       "      <td>{'word' :  '한국프로축구연맹', 'start_idx': 0, 'end_idx': 0, 'type': 'None'</td>\n",
       "      <td>org:member_of</td>\n",
       "    </tr>\n",
       "    <tr>\n",
       "      <th>3</th>\n",
       "      <td>3</td>\n",
       "      <td>균일가의 생활용품점(주)아성다이소(대표박정부)는 코로나 19바이러스로 어려움을 겪고 있는 대구광역시에 행복박스를 신고했다고 10일 밝혔다.</td>\n",
       "      <td>{'word' :  '아성다이소', 'start_idx': 0, 'end_idx': 0, 'type': 'None'</td>\n",
       "      <td>{'word' :  '박정부', 'start_idx': 0, 'end_idx': 0, 'type': 'None'</td>\n",
       "      <td>org:top_members/employees</td>\n",
       "    </tr>\n",
       "    <tr>\n",
       "      <th>4</th>\n",
       "      <td>4</td>\n",
       "      <td>1967년 프로야구 드래프트 1위로 요미우리 자이언츠에 입단해 등번호는 8번으로 배정되었다.</td>\n",
       "      <td>{'word' :  '요미우리 자이언츠', 'start_idx': 0, 'end_idx': 0, 'type': 'None'</td>\n",
       "      <td>{'word' :  '1967', 'start_idx': 0, 'end_idx': 0, 'type': 'None'</td>\n",
       "      <td>no_relation</td>\n",
       "    </tr>\n",
       "    <tr>\n",
       "      <th>...</th>\n",
       "      <td>...</td>\n",
       "      <td>...</td>\n",
       "      <td>...</td>\n",
       "      <td>...</td>\n",
       "      <td>...</td>\n",
       "    </tr>\n",
       "    <tr>\n",
       "      <th>29216</th>\n",
       "      <td>29216</td>\n",
       "      <td>1852년 미국 대통령 선거에서 휘그당는 미-멕시코 전쟁의 영웅 테일러 장군의 죽음으로, 총통직을 계승한 현직 대선밀러드 필모어를 후보지명으로 거절했다.</td>\n",
       "      <td>{'word' :  '송제헌', 'start_idx': 0, 'end_idx': 0, 'type': 'None'</td>\n",
       "      <td>{'word' :  '1986년 7월 17일', 'start_idx': 0, 'end_idx': 0, 'type': 'None'</td>\n",
       "      <td>per:date_of_birth</td>\n",
       "    </tr>\n",
       "    <tr>\n",
       "      <th>29218</th>\n",
       "      <td>29218</td>\n",
       "      <td>그의 할아버지는 루이 13세이고, 남편의루이 14세는 할머니가 된다.</td>\n",
       "      <td>{'word' :  '보카 주니어스', 'start_idx': 0, 'end_idx': 0, 'type': 'None'</td>\n",
       "      <td>{'word' :  '아르헨티나', 'start_idx': 0, 'end_idx': 0, 'type': 'None'</td>\n",
       "      <td>org:place_of_headquarters</td>\n",
       "    </tr>\n",
       "    <tr>\n",
       "      <th>29219</th>\n",
       "      <td>29219</td>\n",
       "      <td>KIA 타이거즈외야수이창진가 롯데백화점의 광주점이 상하는 9월간 MVP로 선정돼 28일 광주 LG전에 앞서 상식을 치렀다.</td>\n",
       "      <td>{'word' :  '다니엘 파사레야', 'start_idx': 0, 'end_idx': 0, 'type': 'None'</td>\n",
       "      <td>{'word' :  '리버 플레이트', 'start_idx': 0, 'end_idx': 0, 'type': 'None'</td>\n",
       "      <td>per:employee_of</td>\n",
       "    </tr>\n",
       "    <tr>\n",
       "      <th>29220</th>\n",
       "      <td>29220</td>\n",
       "      <td>한국당은 7일 오전 9시부터 오후 5시까지 진행된 원내대표와 정책위원장 후보자 등록 마감 결과, 강석호(3선·경북·영양·영덕·봉덕·울진)-이장우(재선·대전·동구),유기준(4선·부산 서구·동구)-파크 성중(초선·서울), 김선동(재선・서울 도봉을)-김정석(초선,비례), 심재철(5선·경기·안양시</td>\n",
       "      <td>{'word' :  '곽영주', 'start_idx': 0, 'end_idx': 0, 'type': 'None'</td>\n",
       "      <td>{'word' :  '경무대', 'start_idx': 0, 'end_idx': 0, 'type': 'None'</td>\n",
       "      <td>per:employee_of</td>\n",
       "    </tr>\n",
       "    <tr>\n",
       "      <th>29221</th>\n",
       "      <td>29221</td>\n",
       "      <td>완도군(군장신우철)가 국토교통부에서 실시된 '2019교통문화지수실태조사'에서 최상위 A등급 among 229 basic local governments로 전국에서 가장 높은 교통안전인식 수준을 갖게 되었다.</td>\n",
       "      <td>{'word' :  '하포엘 텔아비브', 'start_idx': 0, 'end_idx': 0, 'type': 'None'</td>\n",
       "      <td>{'word' :  '1923년', 'start_idx': 0, 'end_idx': 0, 'type': 'None'</td>\n",
       "      <td>org:founded</td>\n",
       "    </tr>\n",
       "  </tbody>\n",
       "</table>\n",
       "<p>23258 rows × 5 columns</p>\n",
       "</div>"
      ],
      "text/plain": [
       "          id  \\\n",
       "0          0   \n",
       "1          1   \n",
       "2          2   \n",
       "3          3   \n",
       "4          4   \n",
       "...      ...   \n",
       "29216  29216   \n",
       "29218  29218   \n",
       "29219  29219   \n",
       "29220  29220   \n",
       "29221  29221   \n",
       "\n",
       "                                                                                                                                                                 sentence  \\\n",
       "0                                                                                                                     <소메팅>은 조지 해리슨가 써서비틀즈가 1969년 앨범 <AbbeyRoad>에 담긴 노래다.   \n",
       "1                                                                                                                    호남 기반의 발른 미래당·대안신당·민주평화당이 우여곡절 끝에 합쳐 민생당(가칭)으로 재생한다.   \n",
       "2                                                                             K리그2에서 성적 1위를 달리고 있는 광주FC는 26일, 한국프로축구연맹으로부터 관중 유치의 성과와 마케팅 성과를 인정받아 풀스타디움상과 플라스타지움상을 수상했다.   \n",
       "3                                                                                           균일가의 생활용품점(주)아성다이소(대표박정부)는 코로나 19바이러스로 어려움을 겪고 있는 대구광역시에 행복박스를 신고했다고 10일 밝혔다.   \n",
       "4                                                                                                                     1967년 프로야구 드래프트 1위로 요미우리 자이언츠에 입단해 등번호는 8번으로 배정되었다.   \n",
       "...                                                                                                                                                                   ...   \n",
       "29216                                                                               1852년 미국 대통령 선거에서 휘그당는 미-멕시코 전쟁의 영웅 테일러 장군의 죽음으로, 총통직을 계승한 현직 대선밀러드 필모어를 후보지명으로 거절했다.   \n",
       "29218                                                                                                                              그의 할아버지는 루이 13세이고, 남편의루이 14세는 할머니가 된다.   \n",
       "29219                                                                                                KIA 타이거즈외야수이창진가 롯데백화점의 광주점이 상하는 9월간 MVP로 선정돼 28일 광주 LG전에 앞서 상식을 치렀다.   \n",
       "29220  한국당은 7일 오전 9시부터 오후 5시까지 진행된 원내대표와 정책위원장 후보자 등록 마감 결과, 강석호(3선·경북·영양·영덕·봉덕·울진)-이장우(재선·대전·동구),유기준(4선·부산 서구·동구)-파크 성중(초선·서울), 김선동(재선・서울 도봉을)-김정석(초선,비례), 심재철(5선·경기·안양시   \n",
       "29221                                                 완도군(군장신우철)가 국토교통부에서 실시된 '2019교통문화지수실태조사'에서 최상위 A등급 among 229 basic local governments로 전국에서 가장 높은 교통안전인식 수준을 갖게 되었다.   \n",
       "\n",
       "                                                             subject_entity  \\\n",
       "0            {'word' :  '비틀즈', 'start_idx': 0, 'end_idx': 0, 'type': 'None'   \n",
       "1          {'word' :  '민주평화당', 'start_idx': 0, 'end_idx': 0, 'type': 'None'   \n",
       "2           {'word' :  '광주FC', 'start_idx': 0, 'end_idx': 0, 'type': 'None'   \n",
       "3          {'word' :  '아성다이소', 'start_idx': 0, 'end_idx': 0, 'type': 'None'   \n",
       "4      {'word' :  '요미우리 자이언츠', 'start_idx': 0, 'end_idx': 0, 'type': 'None'   \n",
       "...                                                                     ...   \n",
       "29216        {'word' :  '송제헌', 'start_idx': 0, 'end_idx': 0, 'type': 'None'   \n",
       "29218    {'word' :  '보카 주니어스', 'start_idx': 0, 'end_idx': 0, 'type': 'None'   \n",
       "29219   {'word' :  '다니엘 파사레야', 'start_idx': 0, 'end_idx': 0, 'type': 'None'   \n",
       "29220        {'word' :  '곽영주', 'start_idx': 0, 'end_idx': 0, 'type': 'None'   \n",
       "29221   {'word' :  '하포엘 텔아비브', 'start_idx': 0, 'end_idx': 0, 'type': 'None'   \n",
       "\n",
       "                                                                 object_entity  \\\n",
       "0            {'word' :  '조지 해리슨', 'start_idx': 0, 'end_idx': 0, 'type': 'None'   \n",
       "1              {'word' :  '대안신당', 'start_idx': 0, 'end_idx': 0, 'type': 'None'   \n",
       "2          {'word' :  '한국프로축구연맹', 'start_idx': 0, 'end_idx': 0, 'type': 'None'   \n",
       "3               {'word' :  '박정부', 'start_idx': 0, 'end_idx': 0, 'type': 'None'   \n",
       "4              {'word' :  '1967', 'start_idx': 0, 'end_idx': 0, 'type': 'None'   \n",
       "...                                                                        ...   \n",
       "29216  {'word' :  '1986년 7월 17일', 'start_idx': 0, 'end_idx': 0, 'type': 'None'   \n",
       "29218         {'word' :  '아르헨티나', 'start_idx': 0, 'end_idx': 0, 'type': 'None'   \n",
       "29219       {'word' :  '리버 플레이트', 'start_idx': 0, 'end_idx': 0, 'type': 'None'   \n",
       "29220           {'word' :  '경무대', 'start_idx': 0, 'end_idx': 0, 'type': 'None'   \n",
       "29221         {'word' :  '1923년', 'start_idx': 0, 'end_idx': 0, 'type': 'None'   \n",
       "\n",
       "                           label  \n",
       "0                    no_relation  \n",
       "1                    no_relation  \n",
       "2                  org:member_of  \n",
       "3      org:top_members/employees  \n",
       "4                    no_relation  \n",
       "...                          ...  \n",
       "29216          per:date_of_birth  \n",
       "29218  org:place_of_headquarters  \n",
       "29219            per:employee_of  \n",
       "29220            per:employee_of  \n",
       "29221                org:founded  \n",
       "\n",
       "[23258 rows x 5 columns]"
      ]
     },
     "execution_count": 13,
     "metadata": {},
     "output_type": "execute_result"
    }
   ],
   "source": [
    "# 02. 데이터 프레임 형태로 바꾸기\n",
    "kjk_data =train_data.copy()\n",
    "kjk_data = kjk_data.sort_values(by=[\"id\"], ascending=[True])\n",
    "kjk_data['sentence'] = sentence_kjk['re_sentence']\n",
    "\n",
    "# 빈 값 제거\n",
    "kjk_data = kjk_data.dropna()\n",
    "# kjk_data\n",
    "#29223 >>  23258(-5965)\n",
    "\n",
    "# 형식 맞추기\n",
    "re_kjk = reformat(kjk_data)\n",
    "re_kjk"
   ]
  },
  {
   "cell_type": "code",
   "execution_count": 14,
   "metadata": {},
   "outputs": [],
   "source": [
    "# 03 .원본 데이터 불러와서 합치기\n",
    "train_path = '/opt/ml/dataset/train/train.csv'\n",
    "pd_dataset = pd.read_csv(train_path)\n",
    "\n",
    "add_kjk_train_data = pd.concat([pd_dataset,re_kjk])\n",
    "add_kjk_train_data = add_kjk_train_data.drop_duplicates(keep=False, inplace=False, ignore_index=False)\n",
    "#add_kjk_train_data\n",
    "# # 중복없음 확인"
   ]
  },
  {
   "cell_type": "code",
   "execution_count": 15,
   "metadata": {},
   "outputs": [],
   "source": [
    "# 04. 저장\n",
    "#add_kjk_train_data.to_csv('/opt/ml/dataset/train/aug_kjk.csv',index=False,encoding = 'utf-8')"
   ]
  },
  {
   "cell_type": "markdown",
   "metadata": {},
   "source": [
    "- 성능 확인하기"
   ]
  }
 ],
 "metadata": {
  "kernelspec": {
   "display_name": "Python 3.8.15 ('lv2')",
   "language": "python",
   "name": "python3"
  },
  "language_info": {
   "codemirror_mode": {
    "name": "ipython",
    "version": 3
   },
   "file_extension": ".py",
   "mimetype": "text/x-python",
   "name": "python",
   "nbconvert_exporter": "python",
   "pygments_lexer": "ipython3",
   "version": "3.8.15"
  },
  "orig_nbformat": 4,
  "vscode": {
   "interpreter": {
    "hash": "460daaacedb28129c65ab758cd23a5a0183e369e52854b14e0ab0a12ea940b5a"
   }
  }
 },
 "nbformat": 4,
 "nbformat_minor": 2
}
