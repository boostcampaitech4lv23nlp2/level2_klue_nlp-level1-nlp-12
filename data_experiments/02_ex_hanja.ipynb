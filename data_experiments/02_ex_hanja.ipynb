{
 "cells": [
  {
   "cell_type": "markdown",
   "metadata": {},
   "source": [
    "# EDA ver2 : \n",
    "- 한자 전처리"
   ]
  },
  {
   "cell_type": "markdown",
   "metadata": {},
   "source": [
    "# **setting**"
   ]
  },
  {
   "cell_type": "code",
   "execution_count": 1,
   "metadata": {},
   "outputs": [],
   "source": [
    "import pandas as pd\n",
    "import numpy as np\n",
    "from tqdm import tqdm\n",
    "import pickle\n",
    "\n",
    "#import os\n",
    "#os.chdir('./data')\n",
    "#os.getcwd()"
   ]
  },
  {
   "cell_type": "code",
   "execution_count": 2,
   "metadata": {},
   "outputs": [],
   "source": [
    "def preprocessing_dataset(dataset):\n",
    "    \"\"\"처음 불러온 csv 파일을 원하는 형태의 DataFrame으로 변경 시켜줍니다.\"\"\"\n",
    "    subject_entity = []\n",
    "    object_entity = []\n",
    "\n",
    "    for i, j in tqdm(zip(dataset[\"subject_entity\"], dataset[\"object_entity\"]), desc=\"preprocessing\"):\n",
    "        i = i[1:-1].split(\",\")[0].split(\":\")[1]\n",
    "        j = j[1:-1].split(\",\")[0].split(\":\")[1]\n",
    "\n",
    "        subject_entity.append(i)\n",
    "        object_entity.append(j)\n",
    "\n",
    "    out_dataset = pd.DataFrame(\n",
    "        {\n",
    "            \"id\": dataset[\"id\"],\n",
    "            \"sentence\": dataset[\"sentence\"],\n",
    "            \"subject_entity\": subject_entity,\n",
    "            \"object_entity\": object_entity,\n",
    "            \"label\": dataset[\"label\"],\n",
    "        }\n",
    "    )\n",
    "    return out_dataset\n",
    "\n",
    "\n",
    "def load_data(dataset_dir):\n",
    "    \"\"\"csv 파일을 경로에 맡게 불러 옵니다.\"\"\"\n",
    "    pd_dataset = pd.read_csv(dataset_dir)\n",
    "    dataset = preprocessing_dataset(pd_dataset)\n",
    "\n",
    "    return dataset\n",
    "\n",
    "def label_to_num(label):\n",
    "    num_label = []\n",
    "    with open(\"/opt/ml/code/dict_label_to_num.pkl\", \"rb\") as f:\n",
    "        dict_label_to_num = pickle.load(f)\n",
    "    for v in label:\n",
    "        num_label.append(dict_label_to_num[v])\n",
    "\n",
    "    return num_label"
   ]
  },
  {
   "cell_type": "code",
   "execution_count": 3,
   "metadata": {},
   "outputs": [
    {
     "name": "stderr",
     "output_type": "stream",
     "text": [
      "preprocessing: 32470it [00:00, 381303.57it/s]\n"
     ]
    }
   ],
   "source": [
    "train_path = '/opt/ml/dataset/train/train.csv'\n",
    "total_data = load_data(train_path)\n",
    "# total_data.columns"
   ]
  },
  {
   "cell_type": "code",
   "execution_count": 4,
   "metadata": {},
   "outputs": [],
   "source": [
    "train_data = total_data.sample(frac=0.9, random_state=42)\n",
    "val_data = total_data.drop(train_data.index)\n",
    "\n",
    "train_label = label_to_num(train_data[\"label\"].values)\n",
    "val_label = label_to_num(val_data[\"label\"].values)"
   ]
  },
  {
   "cell_type": "code",
   "execution_count": 5,
   "metadata": {},
   "outputs": [],
   "source": [
    "#train_data"
   ]
  },
  {
   "cell_type": "markdown",
   "metadata": {},
   "source": [
    "# **EDA : Hanja preprocessing**   \n",
    "\n",
    "> 한자 확인하기 :   \n",
    ">> 한자 포함된 데이터 : 2073 rows   \n",
    ">> subject_entitiy : 2 rows   \n",
    ">> object_entity : 147 rows\n",
    "   \n",
    "   - 한자는 대체적으로 사람 이름이 많았음."
   ]
  },
  {
   "cell_type": "markdown",
   "metadata": {},
   "source": [
    "**한자가 포함된 데이터만 서칭****   "
   ]
  },
  {
   "cell_type": "code",
   "execution_count": 6,
   "metadata": {},
   "outputs": [],
   "source": [
    "import re\n",
    "def language_searching(dataset):          # datafreame\n",
    "    redataset = pd.DataFrame()\n",
    "    sub = pd.DataFrame()\n",
    "    obj = pd.DataFrame()\n",
    "    \n",
    "    for ind in dataset.index:\n",
    "        search_language = re.compile('([一-鿕]|[㐀-䶵]|[豈-龎])+')\n",
    "        result = search_language.findall(dataset.loc[ind]['sentence'] or dataset.loc[ind]['subject_entity'] or dataset.loc[ind]['object_entity'])\n",
    "        result_sub = search_language.findall(dataset.loc[ind]['subject_entity'])\n",
    "        result_obj = search_language.findall(dataset.loc[ind]['object_entity'])\n",
    "        \n",
    "        if result :\n",
    "            redataset = redataset.append(dataset.loc[ind],ignore_index = True)\n",
    "        if result_sub :\n",
    "            sub = sub.append(dataset.loc[ind],ignore_index = True)\n",
    "        if result_obj :\n",
    "            obj = obj.append(dataset.loc[ind],ignore_index = True)\n",
    "            \n",
    "    return redataset,sub,obj"
   ]
  },
  {
   "cell_type": "code",
   "execution_count": 7,
   "metadata": {},
   "outputs": [
    {
     "data": {
      "text/html": [
       "<div>\n",
       "<style scoped>\n",
       "    .dataframe tbody tr th:only-of-type {\n",
       "        vertical-align: middle;\n",
       "    }\n",
       "\n",
       "    .dataframe tbody tr th {\n",
       "        vertical-align: top;\n",
       "    }\n",
       "\n",
       "    .dataframe thead th {\n",
       "        text-align: right;\n",
       "    }\n",
       "</style>\n",
       "<table border=\"1\" class=\"dataframe\">\n",
       "  <thead>\n",
       "    <tr style=\"text-align: right;\">\n",
       "      <th></th>\n",
       "      <th>id</th>\n",
       "      <th>label</th>\n",
       "      <th>object_entity</th>\n",
       "      <th>sentence</th>\n",
       "      <th>subject_entity</th>\n",
       "    </tr>\n",
       "  </thead>\n",
       "  <tbody>\n",
       "    <tr>\n",
       "      <th>0</th>\n",
       "      <td>22493.0</td>\n",
       "      <td>per:title</td>\n",
       "      <td>'전라북도지사'</td>\n",
       "      <td>송하진 전라북도지사는 “삼락농정 농업人 농촌in 수상작 전시회는 농업․농촌의 우수한...</td>\n",
       "      <td>'송하진'</td>\n",
       "    </tr>\n",
       "    <tr>\n",
       "      <th>1</th>\n",
       "      <td>18560.0</td>\n",
       "      <td>per:other_family</td>\n",
       "      <td>'김약선'</td>\n",
       "      <td>고려 원종의 비 순경태후의 외할아버지로, 전주 김씨 김약선(金若先)이 그의 맏사위였다.</td>\n",
       "      <td>'순경태후'</td>\n",
       "    </tr>\n",
       "    <tr>\n",
       "      <th>2</th>\n",
       "      <td>28540.0</td>\n",
       "      <td>no_relation</td>\n",
       "      <td>'르네상스'</td>\n",
       "      <td>미켈란젤로도 조각가·화가·건축가·해부학자이자 동시에 시인이기도 하였으며, 이 점에서...</td>\n",
       "      <td>'미켈란젤로'</td>\n",
       "    </tr>\n",
       "    <tr>\n",
       "      <th>3</th>\n",
       "      <td>27528.0</td>\n",
       "      <td>per:date_of_birth</td>\n",
       "      <td>'1989년 6월 13일'</td>\n",
       "      <td>양준아(梁準我, 1989년 6월 13일 ~)는 대한민국의 축구 선수로서 포지션은 미...</td>\n",
       "      <td>'양준아'</td>\n",
       "    </tr>\n",
       "    <tr>\n",
       "      <th>4</th>\n",
       "      <td>29563.0</td>\n",
       "      <td>per:title</td>\n",
       "      <td>'스페인 왕비'</td>\n",
       "      <td>그녀의 대모(代母)는 당시 스페인 왕비 바텐베르크의 빅토리아 에우헤니아였다.</td>\n",
       "      <td>'바텐베르크의 빅토리아 에우헤니아'</td>\n",
       "    </tr>\n",
       "    <tr>\n",
       "      <th>...</th>\n",
       "      <td>...</td>\n",
       "      <td>...</td>\n",
       "      <td>...</td>\n",
       "      <td>...</td>\n",
       "      <td>...</td>\n",
       "    </tr>\n",
       "    <tr>\n",
       "      <th>2069</th>\n",
       "      <td>31748.0</td>\n",
       "      <td>org:alternate_names</td>\n",
       "      <td>'CCTV'</td>\n",
       "      <td>중국에서는 중국중앙텔레비전(CCTV)의 어린이 전문 채널인 CCTV-14 채널을 통...</td>\n",
       "      <td>'중국중앙텔레비전'</td>\n",
       "    </tr>\n",
       "    <tr>\n",
       "      <th>2070</th>\n",
       "      <td>32117.0</td>\n",
       "      <td>per:date_of_birth</td>\n",
       "      <td>'1988년 3월 28일'</td>\n",
       "      <td>백다은(白多恩, (姜恩惠)(姜恩惠), 1988년 3월 28일 ~ )은 대한민국의 배...</td>\n",
       "      <td>'백다은'</td>\n",
       "    </tr>\n",
       "    <tr>\n",
       "      <th>2071</th>\n",
       "      <td>24282.0</td>\n",
       "      <td>per:date_of_death</td>\n",
       "      <td>'234년'</td>\n",
       "      <td>구수왕(仇首王, ~ 234년, 재위: 214년 ~ 234년)은 백제의 제6대 국왕이다.</td>\n",
       "      <td>'구수왕'</td>\n",
       "    </tr>\n",
       "    <tr>\n",
       "      <th>2072</th>\n",
       "      <td>29181.0</td>\n",
       "      <td>no_relation</td>\n",
       "      <td>'500명'</td>\n",
       "      <td>20일 정오，주마카오부대 사령관 류유에(劉粤)의 약 500명의 부대원들이 주하이 주...</td>\n",
       "      <td>'마카오'</td>\n",
       "    </tr>\n",
       "    <tr>\n",
       "      <th>2073</th>\n",
       "      <td>19686.0</td>\n",
       "      <td>per:date_of_birth</td>\n",
       "      <td>'1895년'</td>\n",
       "      <td>이광민(李光民 1895년 ~ 1945년 10월 18일)은 일제 강점기 독립운동가이다.</td>\n",
       "      <td>'이광민'</td>\n",
       "    </tr>\n",
       "  </tbody>\n",
       "</table>\n",
       "<p>2074 rows × 5 columns</p>\n",
       "</div>"
      ],
      "text/plain": [
       "           id                label    object_entity  \\\n",
       "0     22493.0            per:title         '전라북도지사'   \n",
       "1     18560.0     per:other_family            '김약선'   \n",
       "2     28540.0          no_relation           '르네상스'   \n",
       "3     27528.0    per:date_of_birth   '1989년 6월 13일'   \n",
       "4     29563.0            per:title         '스페인 왕비'   \n",
       "...       ...                  ...              ...   \n",
       "2069  31748.0  org:alternate_names           'CCTV'   \n",
       "2070  32117.0    per:date_of_birth   '1988년 3월 28일'   \n",
       "2071  24282.0    per:date_of_death           '234년'   \n",
       "2072  29181.0          no_relation           '500명'   \n",
       "2073  19686.0    per:date_of_birth          '1895년'   \n",
       "\n",
       "                                               sentence        subject_entity  \n",
       "0     송하진 전라북도지사는 “삼락농정 농업人 농촌in 수상작 전시회는 농업․농촌의 우수한...                 '송하진'  \n",
       "1      고려 원종의 비 순경태후의 외할아버지로, 전주 김씨 김약선(金若先)이 그의 맏사위였다.                '순경태후'  \n",
       "2     미켈란젤로도 조각가·화가·건축가·해부학자이자 동시에 시인이기도 하였으며, 이 점에서...               '미켈란젤로'  \n",
       "3     양준아(梁準我, 1989년 6월 13일 ~)는 대한민국의 축구 선수로서 포지션은 미...                 '양준아'  \n",
       "4            그녀의 대모(代母)는 당시 스페인 왕비 바텐베르크의 빅토리아 에우헤니아였다.   '바텐베르크의 빅토리아 에우헤니아'  \n",
       "...                                                 ...                   ...  \n",
       "2069  중국에서는 중국중앙텔레비전(CCTV)의 어린이 전문 채널인 CCTV-14 채널을 통...            '중국중앙텔레비전'  \n",
       "2070  백다은(白多恩, (姜恩惠)(姜恩惠), 1988년 3월 28일 ~ )은 대한민국의 배...                 '백다은'  \n",
       "2071   구수왕(仇首王, ~ 234년, 재위: 214년 ~ 234년)은 백제의 제6대 국왕이다.                 '구수왕'  \n",
       "2072  20일 정오，주마카오부대 사령관 류유에(劉粤)의 약 500명의 부대원들이 주하이 주...                 '마카오'  \n",
       "2073    이광민(李光民 1895년 ~ 1945년 10월 18일)은 일제 강점기 독립운동가이다.                 '이광민'  \n",
       "\n",
       "[2074 rows x 5 columns]"
      ]
     },
     "execution_count": 7,
     "metadata": {},
     "output_type": "execute_result"
    }
   ],
   "source": [
    "hanja_total,hanja_sub,hanja_obj = language_searching(train_data)\n",
    "hanja_total\n",
    "# 2074 rows \n"
   ]
  },
  {
   "cell_type": "code",
   "execution_count": 8,
   "metadata": {},
   "outputs": [],
   "source": [
    "# hanja_sub\n",
    "# 2 rows"
   ]
  },
  {
   "cell_type": "code",
   "execution_count": 9,
   "metadata": {},
   "outputs": [],
   "source": [
    "# hanja_obj\n",
    "# 147 rows "
   ]
  },
  {
   "cell_type": "markdown",
   "metadata": {},
   "source": [
    "## **라벨 분포 : Hanja**   "
   ]
  },
  {
   "cell_type": "code",
   "execution_count": 10,
   "metadata": {},
   "outputs": [],
   "source": [
    "import matplotlib.pyplot as plt\n",
    "import seaborn as sns"
   ]
  },
  {
   "cell_type": "code",
   "execution_count": 11,
   "metadata": {},
   "outputs": [],
   "source": [
    "def view_count(dataset,labels : str):\n",
    "    # count 분포\n",
    "    view = sns.countplot(data=dataset,x=labels,order = dataset[labels].value_counts().index)\n",
    "    # label명 표시\n",
    "    view.set_xticklabels(view.get_xticklabels(), rotation=90)\n",
    "\n",
    "    # 각 막대에 숫자 표시\n",
    "    for p in view.patches:\n",
    "        height = p.get_height()\n",
    "        view.text(p.get_x() + p.get_width() / 2., height + 3, int(height), ha = 'center', size = 6.5)\n",
    "\n",
    "    plt.show()\n",
    "    return "
   ]
  },
  {
   "cell_type": "code",
   "execution_count": 12,
   "metadata": {},
   "outputs": [
    {
     "data": {
      "image/png": "[encoded data removed]",
      "text/plain": [
       "<Figure size 640x480 with 1 Axes>"
      ]
     },
     "metadata": {},
     "output_type": "display_data"
    }
   ],
   "source": [
    "# dataset : hanja_total\n",
    "# labels : 'lable'\n",
    "view_count(hanja_total,'label')"
   ]
  },
  {
   "cell_type": "markdown",
   "metadata": {},
   "source": [
    "# **Pre-Processing**   \n",
    "### **Hanja preprocessing**   \n",
    "> 한자 형태 바꾸기 :    \n",
    ">> 㐀 -> (한자)"
   ]
  },
  {
   "cell_type": "code",
   "execution_count": 13,
   "metadata": {},
   "outputs": [],
   "source": [
    "import re"
   ]
  },
  {
   "cell_type": "code",
   "execution_count": 14,
   "metadata": {},
   "outputs": [],
   "source": [
    "hanja = re.compile('([一-鿕]|[㐀-䶵]|[豈-龎])+')\n",
    "replace = '(한자)'\n",
    "re_train_data = train_data.replace(hanja,replace)"
   ]
  },
  {
   "cell_type": "code",
   "execution_count": 15,
   "metadata": {},
   "outputs": [],
   "source": [
    "#re_train_data"
   ]
  },
  {
   "cell_type": "markdown",
   "metadata": {},
   "source": [
    "# **성능 테스트**\n",
    "- model : klue/roberta-base\n",
    "- batch_size: 16, max_epoch: 3, learning_rate: 1e-5"
   ]
  },
  {
   "cell_type": "markdown",
   "metadata": {},
   "source": [
    "| model | test_accuracy | test_auprc | test_f1 |\n",
    "| --- | --- | --- | --- |\n",
    "| base | 0.8094 | 72.465 | 82.546 |\n",
    "| hanja | 0.8054 | 72.93 | 82.222 |"
   ]
  },
  {
   "cell_type": "markdown",
   "metadata": {},
   "source": [
    "## **결과**\n",
    "- 한자 전처리한 모델(roberta-base_hanja_16_1e-05) : test_auprc 0.465 향상\n",
    "- 하지만 test_accuracy,test_f1는 기존 데이터 모델이 더 높은 점수를 가짐.\n",
    "- 유의미한 결과로 판단되지 않음 > 기존 데이터 활용"
   ]
  }
 ],
 "metadata": {
  "kernelspec": {
   "display_name": "Python 3.8.15 ('lv2')",
   "language": "python",
   "name": "python3"
  },
  "language_info": {
   "codemirror_mode": {
    "name": "ipython",
    "version": 3
   },
   "file_extension": ".py",
   "mimetype": "text/x-python",
   "name": "python",
   "nbconvert_exporter": "python",
   "pygments_lexer": "ipython3",
   "version": "3.8.15"
  },
  "orig_nbformat": 4,
  "vscode": {
   "interpreter": {
    "hash": "460daaacedb28129c65ab758cd23a5a0183e369e52854b14e0ab0a12ea940b5a"
   }
  }
 },
 "nbformat": 4,
 "nbformat_minor": 2
}
