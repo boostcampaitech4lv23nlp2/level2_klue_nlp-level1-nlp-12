{
 "cells": [
  {
   "cell_type": "markdown",
   "metadata": {},
   "source": [
    "# 라이브러리 불러오기"
   ]
  },
  {
   "cell_type": "code",
   "execution_count": 2,
   "metadata": {},
   "outputs": [
    {
     "name": "stderr",
     "output_type": "stream",
     "text": [
      "/opt/conda/envs/klue/lib/python3.8/site-packages/tqdm/auto.py:22: TqdmWarning: IProgress not found. Please update jupyter and ipywidgets. See https://ipywidgets.readthedocs.io/en/stable/user_install.html\n",
      "  from .autonotebook import tqdm as notebook_tqdm\n"
     ]
    }
   ],
   "source": [
    "import pandas as pd\n",
    "import transformers\n",
    "import torch\n",
    "import matplotlib.pyplot as plt\n",
    "import re\n",
    "from collections import Counter\n",
    "from itertools import combinations, permutations"
   ]
  },
  {
   "cell_type": "markdown",
   "metadata": {},
   "source": [
    "# 파일 불러오기"
   ]
  },
  {
   "cell_type": "code",
   "execution_count": 3,
   "metadata": {},
   "outputs": [],
   "source": [
    "train_data = pd.read_csv('../../dataset/train/train.csv')\n",
    "test_data = pd.read_csv('../../dataset/test/test_data.csv')"
   ]
  },
  {
   "cell_type": "code",
   "execution_count": 4,
   "metadata": {},
   "outputs": [
    {
     "data": {
      "text/html": [
       "<div>\n",
       "<style scoped>\n",
       "    .dataframe tbody tr th:only-of-type {\n",
       "        vertical-align: middle;\n",
       "    }\n",
       "\n",
       "    .dataframe tbody tr th {\n",
       "        vertical-align: top;\n",
       "    }\n",
       "\n",
       "    .dataframe thead th {\n",
       "        text-align: right;\n",
       "    }\n",
       "</style>\n",
       "<table border=\"1\" class=\"dataframe\">\n",
       "  <thead>\n",
       "    <tr style=\"text-align: right;\">\n",
       "      <th></th>\n",
       "      <th>id</th>\n",
       "      <th>sentence</th>\n",
       "      <th>subject_entity</th>\n",
       "      <th>object_entity</th>\n",
       "      <th>label</th>\n",
       "      <th>source</th>\n",
       "    </tr>\n",
       "  </thead>\n",
       "  <tbody>\n",
       "    <tr>\n",
       "      <th>0</th>\n",
       "      <td>24121</td>\n",
       "      <td>인천도시공사(사장 박인서)는 에너지절감 및 친환경 경영을 실천하고자 관용차량 일부를...</td>\n",
       "      <td>{'word': '한국GM', 'start_idx': 47, 'end_idx': 5...</td>\n",
       "      <td>{'word': '자동차', 'start_idx': 61, 'end_idx': 63...</td>\n",
       "      <td>org:product</td>\n",
       "      <td>wikitree</td>\n",
       "    </tr>\n",
       "    <tr>\n",
       "      <th>1</th>\n",
       "      <td>10907</td>\n",
       "      <td>스위스군은 7,000명의 보병부대와 2,000명의 기병부대로 이루어진 전위부대(포어...</td>\n",
       "      <td>{'word': '스위스군', 'start_idx': 0, 'end_idx': 3,...</td>\n",
       "      <td>{'word': '2,000명', 'start_idx': 20, 'end_idx':...</td>\n",
       "      <td>no_relation</td>\n",
       "      <td>wikipedia</td>\n",
       "    </tr>\n",
       "    <tr>\n",
       "      <th>2</th>\n",
       "      <td>20809</td>\n",
       "      <td>2002년 한빛은행에서 우리은행으로 행명을 변경하였다.</td>\n",
       "      <td>{'word': '한빛은행', 'start_idx': 6, 'end_idx': 9,...</td>\n",
       "      <td>{'word': '우리은행', 'start_idx': 13, 'end_idx': 1...</td>\n",
       "      <td>org:alternate_names</td>\n",
       "      <td>wikipedia</td>\n",
       "    </tr>\n",
       "    <tr>\n",
       "      <th>3</th>\n",
       "      <td>18935</td>\n",
       "      <td>지난 10일 국회가 확정한 내년도 여수시 정부예산을 보면 전체 예산 중 국가(도) ...</td>\n",
       "      <td>{'word': '여수시', 'start_idx': 66, 'end_idx': 68...</td>\n",
       "      <td>{'word': '1282억 원', 'start_idx': 52, 'end_idx'...</td>\n",
       "      <td>no_relation</td>\n",
       "      <td>wikitree</td>\n",
       "    </tr>\n",
       "    <tr>\n",
       "      <th>4</th>\n",
       "      <td>24880</td>\n",
       "      <td>가라스마 역은 일본 교토부 교토시 시모교구에 있는 한큐 전철 교토 본선의 역이다.</td>\n",
       "      <td>{'word': '한큐 전철', 'start_idx': 28, 'end_idx': ...</td>\n",
       "      <td>{'word': '교토부', 'start_idx': 11, 'end_idx': 13...</td>\n",
       "      <td>org:place_of_headquarters</td>\n",
       "      <td>wikipedia</td>\n",
       "    </tr>\n",
       "    <tr>\n",
       "      <th>...</th>\n",
       "      <td>...</td>\n",
       "      <td>...</td>\n",
       "      <td>...</td>\n",
       "      <td>...</td>\n",
       "      <td>...</td>\n",
       "      <td>...</td>\n",
       "    </tr>\n",
       "    <tr>\n",
       "      <th>25971</th>\n",
       "      <td>6542</td>\n",
       "      <td>카를 5세와 그의 후계자 펠리페 2세는 개신교를 로마 가톨릭 교회에 대한 이단으로 ...</td>\n",
       "      <td>{'word': '카를 5세', 'start_idx': 0, 'end_idx': 4...</td>\n",
       "      <td>{'word': '펠리페 2세', 'start_idx': 14, 'end_idx':...</td>\n",
       "      <td>per:children</td>\n",
       "      <td>wikipedia</td>\n",
       "    </tr>\n",
       "    <tr>\n",
       "      <th>25972</th>\n",
       "      <td>31215</td>\n",
       "      <td>광양시는 동계훈련 훈련지로 축구와 씨름, 육상, 태권도, 야구 등 10개 종목, 1...</td>\n",
       "      <td>{'word': '광양시', 'start_idx': 0, 'end_idx': 2, ...</td>\n",
       "      <td>{'word': '10개', 'start_idx': 37, 'end_idx': 39...</td>\n",
       "      <td>no_relation</td>\n",
       "      <td>wikitree</td>\n",
       "    </tr>\n",
       "    <tr>\n",
       "      <th>25973</th>\n",
       "      <td>32247</td>\n",
       "      <td>그리고 2015년 EMI 간판 피아니스트로 활동한 피아니스트 임동혁과 슈베르트의 바...</td>\n",
       "      <td>{'word': '임동혁', 'start_idx': 34, 'end_idx': 36...</td>\n",
       "      <td>{'word': 'EMI', 'start_idx': 10, 'end_idx': 12...</td>\n",
       "      <td>per:employee_of</td>\n",
       "      <td>wikipedia</td>\n",
       "    </tr>\n",
       "    <tr>\n",
       "      <th>25974</th>\n",
       "      <td>14114</td>\n",
       "      <td>1939년 11월 조선유도연합회 상임이사로 임명되었으며 1941년 2월 경학원 강사...</td>\n",
       "      <td>{'word': '경학원', 'start_idx': 40, 'end_idx': 42...</td>\n",
       "      <td>{'word': '조선유도연합회', 'start_idx': 10, 'end_idx'...</td>\n",
       "      <td>no_relation</td>\n",
       "      <td>wikipedia</td>\n",
       "    </tr>\n",
       "    <tr>\n",
       "      <th>25975</th>\n",
       "      <td>51</td>\n",
       "      <td>새정치국민회의는 한나라당 내 민주계 의원들을, 자유민주연합은 민정계 의원들을 각각 ...</td>\n",
       "      <td>{'word': '자유민주연합', 'start_idx': 26, 'end_idx':...</td>\n",
       "      <td>{'word': '한나라당', 'start_idx': 9, 'end_idx': 12...</td>\n",
       "      <td>no_relation</td>\n",
       "      <td>wikipedia</td>\n",
       "    </tr>\n",
       "  </tbody>\n",
       "</table>\n",
       "<p>25976 rows × 6 columns</p>\n",
       "</div>"
      ],
      "text/plain": [
       "          id                                           sentence  \\\n",
       "0      24121  인천도시공사(사장 박인서)는 에너지절감 및 친환경 경영을 실천하고자 관용차량 일부를...   \n",
       "1      10907  스위스군은 7,000명의 보병부대와 2,000명의 기병부대로 이루어진 전위부대(포어...   \n",
       "2      20809                     2002년 한빛은행에서 우리은행으로 행명을 변경하였다.   \n",
       "3      18935  지난 10일 국회가 확정한 내년도 여수시 정부예산을 보면 전체 예산 중 국가(도) ...   \n",
       "4      24880      가라스마 역은 일본 교토부 교토시 시모교구에 있는 한큐 전철 교토 본선의 역이다.   \n",
       "...      ...                                                ...   \n",
       "25971   6542  카를 5세와 그의 후계자 펠리페 2세는 개신교를 로마 가톨릭 교회에 대한 이단으로 ...   \n",
       "25972  31215  광양시는 동계훈련 훈련지로 축구와 씨름, 육상, 태권도, 야구 등 10개 종목, 1...   \n",
       "25973  32247  그리고 2015년 EMI 간판 피아니스트로 활동한 피아니스트 임동혁과 슈베르트의 바...   \n",
       "25974  14114  1939년 11월 조선유도연합회 상임이사로 임명되었으며 1941년 2월 경학원 강사...   \n",
       "25975     51  새정치국민회의는 한나라당 내 민주계 의원들을, 자유민주연합은 민정계 의원들을 각각 ...   \n",
       "\n",
       "                                          subject_entity  \\\n",
       "0      {'word': '한국GM', 'start_idx': 47, 'end_idx': 5...   \n",
       "1      {'word': '스위스군', 'start_idx': 0, 'end_idx': 3,...   \n",
       "2      {'word': '한빛은행', 'start_idx': 6, 'end_idx': 9,...   \n",
       "3      {'word': '여수시', 'start_idx': 66, 'end_idx': 68...   \n",
       "4      {'word': '한큐 전철', 'start_idx': 28, 'end_idx': ...   \n",
       "...                                                  ...   \n",
       "25971  {'word': '카를 5세', 'start_idx': 0, 'end_idx': 4...   \n",
       "25972  {'word': '광양시', 'start_idx': 0, 'end_idx': 2, ...   \n",
       "25973  {'word': '임동혁', 'start_idx': 34, 'end_idx': 36...   \n",
       "25974  {'word': '경학원', 'start_idx': 40, 'end_idx': 42...   \n",
       "25975  {'word': '자유민주연합', 'start_idx': 26, 'end_idx':...   \n",
       "\n",
       "                                           object_entity  \\\n",
       "0      {'word': '자동차', 'start_idx': 61, 'end_idx': 63...   \n",
       "1      {'word': '2,000명', 'start_idx': 20, 'end_idx':...   \n",
       "2      {'word': '우리은행', 'start_idx': 13, 'end_idx': 1...   \n",
       "3      {'word': '1282억 원', 'start_idx': 52, 'end_idx'...   \n",
       "4      {'word': '교토부', 'start_idx': 11, 'end_idx': 13...   \n",
       "...                                                  ...   \n",
       "25971  {'word': '펠리페 2세', 'start_idx': 14, 'end_idx':...   \n",
       "25972  {'word': '10개', 'start_idx': 37, 'end_idx': 39...   \n",
       "25973  {'word': 'EMI', 'start_idx': 10, 'end_idx': 12...   \n",
       "25974  {'word': '조선유도연합회', 'start_idx': 10, 'end_idx'...   \n",
       "25975  {'word': '한나라당', 'start_idx': 9, 'end_idx': 12...   \n",
       "\n",
       "                           label     source  \n",
       "0                    org:product   wikitree  \n",
       "1                    no_relation  wikipedia  \n",
       "2            org:alternate_names  wikipedia  \n",
       "3                    no_relation   wikitree  \n",
       "4      org:place_of_headquarters  wikipedia  \n",
       "...                          ...        ...  \n",
       "25971               per:children  wikipedia  \n",
       "25972                no_relation   wikitree  \n",
       "25973            per:employee_of  wikipedia  \n",
       "25974                no_relation  wikipedia  \n",
       "25975                no_relation  wikipedia  \n",
       "\n",
       "[25976 rows x 6 columns]"
      ]
     },
     "execution_count": 4,
     "metadata": {},
     "output_type": "execute_result"
    }
   ],
   "source": [
    "train_data"
   ]
  },
  {
   "cell_type": "code",
   "execution_count": 8,
   "metadata": {},
   "outputs": [
    {
     "data": {
      "text/html": [
       "<div>\n",
       "<style scoped>\n",
       "    .dataframe tbody tr th:only-of-type {\n",
       "        vertical-align: middle;\n",
       "    }\n",
       "\n",
       "    .dataframe tbody tr th {\n",
       "        vertical-align: top;\n",
       "    }\n",
       "\n",
       "    .dataframe thead th {\n",
       "        text-align: right;\n",
       "    }\n",
       "</style>\n",
       "<table border=\"1\" class=\"dataframe\">\n",
       "  <thead>\n",
       "    <tr style=\"text-align: right;\">\n",
       "      <th></th>\n",
       "      <th>id</th>\n",
       "      <th>sentence</th>\n",
       "      <th>subject_entity</th>\n",
       "      <th>object_entity</th>\n",
       "      <th>label</th>\n",
       "      <th>source</th>\n",
       "    </tr>\n",
       "  </thead>\n",
       "  <tbody>\n",
       "    <tr>\n",
       "      <th>0</th>\n",
       "      <td>0</td>\n",
       "      <td>지난 15일 MBC '탐사기획 스트레이트'가 이 사실을 보도했다.</td>\n",
       "      <td>{'word': 'MBC', 'start_idx': 7, 'end_idx': 9, ...</td>\n",
       "      <td>{'word': '탐사기획 스트레이트', 'start_idx': 12, 'end_i...</td>\n",
       "      <td>100</td>\n",
       "      <td>wikitree</td>\n",
       "    </tr>\n",
       "    <tr>\n",
       "      <th>1</th>\n",
       "      <td>1</td>\n",
       "      <td>사랑스러운 ‘프린세스 프링’의 이름은 봄의 공주님: Princess(s)Pring이...</td>\n",
       "      <td>{'word': '프린세스 프링', 'start_idx': 7, 'end_idx':...</td>\n",
       "      <td>{'word': '공주', 'start_idx': 84, 'end_idx': 85,...</td>\n",
       "      <td>100</td>\n",
       "      <td>wikipedia</td>\n",
       "    </tr>\n",
       "    <tr>\n",
       "      <th>2</th>\n",
       "      <td>2</td>\n",
       "      <td>한편, 본인(이근안)을 모델로 한 MBC 특집드라마 가 1995년 6.25 특집극으...</td>\n",
       "      <td>{'word': '경찰', 'start_idx': 121, 'end_idx': 12...</td>\n",
       "      <td>{'word': '1995년', 'start_idx': 31, 'end_idx': ...</td>\n",
       "      <td>100</td>\n",
       "      <td>wikipedia</td>\n",
       "    </tr>\n",
       "    <tr>\n",
       "      <th>3</th>\n",
       "      <td>3</td>\n",
       "      <td>정창손은 김질과 같이 대궐로 달려가 고변하며 '신은 실로 모르고 김질만 혼자 참여하...</td>\n",
       "      <td>{'word': '세조', 'start_idx': 78, 'end_idx': 79,...</td>\n",
       "      <td>{'word': '정창손', 'start_idx': 0, 'end_idx': 2, ...</td>\n",
       "      <td>100</td>\n",
       "      <td>wikipedia</td>\n",
       "    </tr>\n",
       "    <tr>\n",
       "      <th>4</th>\n",
       "      <td>4</td>\n",
       "      <td>당시 민주당 이진련 시의원은 권영진 시장에게 \"긴급 생계자금을 왜 현금으로 지원하지...</td>\n",
       "      <td>{'word': '민주당', 'start_idx': 3, 'end_idx': 5, ...</td>\n",
       "      <td>{'word': '권영진', 'start_idx': 16, 'end_idx': 18...</td>\n",
       "      <td>100</td>\n",
       "      <td>wikitree</td>\n",
       "    </tr>\n",
       "    <tr>\n",
       "      <th>...</th>\n",
       "      <td>...</td>\n",
       "      <td>...</td>\n",
       "      <td>...</td>\n",
       "      <td>...</td>\n",
       "      <td>...</td>\n",
       "      <td>...</td>\n",
       "    </tr>\n",
       "    <tr>\n",
       "      <th>7760</th>\n",
       "      <td>7760</td>\n",
       "      <td>코로나19 방역 조치의 일환으로 국민의 움직임을 통제하려는 정부의 시도를 이탈리아 ...</td>\n",
       "      <td>{'word': '정부', 'start_idx': 33, 'end_idx': 34,...</td>\n",
       "      <td>{'word': '이탈리아', 'start_idx': 41, 'end_idx': 4...</td>\n",
       "      <td>100</td>\n",
       "      <td>wikitree</td>\n",
       "    </tr>\n",
       "    <tr>\n",
       "      <th>7761</th>\n",
       "      <td>7761</td>\n",
       "      <td>선 연구원은 “위식도역류질환치료제인 케이캡이 92억원 판매되면서 2019년 연간 3...</td>\n",
       "      <td>{'word': '종근당', 'start_idx': 133, 'end_idx': 1...</td>\n",
       "      <td>{'word': '전년', 'start_idx': 143, 'end_idx': 14...</td>\n",
       "      <td>100</td>\n",
       "      <td>wikitree</td>\n",
       "    </tr>\n",
       "    <tr>\n",
       "      <th>7762</th>\n",
       "      <td>7762</td>\n",
       "      <td>한국전기안전공사(사장 조성완)는 8월 1일부로, 3급 간부직원에 대한 승진·이동 인...</td>\n",
       "      <td>{'word': '한국전기안전공사', 'start_idx': 0, 'end_idx'...</td>\n",
       "      <td>{'word': '조성완', 'start_idx': 12, 'end_idx': 14...</td>\n",
       "      <td>100</td>\n",
       "      <td>wikitree</td>\n",
       "    </tr>\n",
       "    <tr>\n",
       "      <th>7763</th>\n",
       "      <td>7763</td>\n",
       "      <td>1987년 B. 슈나이더(B. Schneider)에 의해 만들어졌다.</td>\n",
       "      <td>{'word': 'B. 슈나이더', 'start_idx': 6, 'end_idx':...</td>\n",
       "      <td>{'word': '1987년', 'start_idx': 0, 'end_idx': 4...</td>\n",
       "      <td>100</td>\n",
       "      <td>wikipedia</td>\n",
       "    </tr>\n",
       "    <tr>\n",
       "      <th>7764</th>\n",
       "      <td>7764</td>\n",
       "      <td>이승옥 강진군수는 2일 NH농협은행 강진군지부(지부장 강대형)를 방문해 부품·소재·...</td>\n",
       "      <td>{'word': '이승옥', 'start_idx': 0, 'end_idx': 2, ...</td>\n",
       "      <td>{'word': '2일', 'start_idx': 10, 'end_idx': 11,...</td>\n",
       "      <td>100</td>\n",
       "      <td>wikitree</td>\n",
       "    </tr>\n",
       "  </tbody>\n",
       "</table>\n",
       "<p>7765 rows × 6 columns</p>\n",
       "</div>"
      ],
      "text/plain": [
       "        id                                           sentence  \\\n",
       "0        0               지난 15일 MBC '탐사기획 스트레이트'가 이 사실을 보도했다.   \n",
       "1        1  사랑스러운 ‘프린세스 프링’의 이름은 봄의 공주님: Princess(s)Pring이...   \n",
       "2        2  한편, 본인(이근안)을 모델로 한 MBC 특집드라마 가 1995년 6.25 특집극으...   \n",
       "3        3  정창손은 김질과 같이 대궐로 달려가 고변하며 '신은 실로 모르고 김질만 혼자 참여하...   \n",
       "4        4  당시 민주당 이진련 시의원은 권영진 시장에게 \"긴급 생계자금을 왜 현금으로 지원하지...   \n",
       "...    ...                                                ...   \n",
       "7760  7760  코로나19 방역 조치의 일환으로 국민의 움직임을 통제하려는 정부의 시도를 이탈리아 ...   \n",
       "7761  7761  선 연구원은 “위식도역류질환치료제인 케이캡이 92억원 판매되면서 2019년 연간 3...   \n",
       "7762  7762  한국전기안전공사(사장 조성완)는 8월 1일부로, 3급 간부직원에 대한 승진·이동 인...   \n",
       "7763  7763             1987년 B. 슈나이더(B. Schneider)에 의해 만들어졌다.   \n",
       "7764  7764  이승옥 강진군수는 2일 NH농협은행 강진군지부(지부장 강대형)를 방문해 부품·소재·...   \n",
       "\n",
       "                                         subject_entity  \\\n",
       "0     {'word': 'MBC', 'start_idx': 7, 'end_idx': 9, ...   \n",
       "1     {'word': '프린세스 프링', 'start_idx': 7, 'end_idx':...   \n",
       "2     {'word': '경찰', 'start_idx': 121, 'end_idx': 12...   \n",
       "3     {'word': '세조', 'start_idx': 78, 'end_idx': 79,...   \n",
       "4     {'word': '민주당', 'start_idx': 3, 'end_idx': 5, ...   \n",
       "...                                                 ...   \n",
       "7760  {'word': '정부', 'start_idx': 33, 'end_idx': 34,...   \n",
       "7761  {'word': '종근당', 'start_idx': 133, 'end_idx': 1...   \n",
       "7762  {'word': '한국전기안전공사', 'start_idx': 0, 'end_idx'...   \n",
       "7763  {'word': 'B. 슈나이더', 'start_idx': 6, 'end_idx':...   \n",
       "7764  {'word': '이승옥', 'start_idx': 0, 'end_idx': 2, ...   \n",
       "\n",
       "                                          object_entity  label     source  \n",
       "0     {'word': '탐사기획 스트레이트', 'start_idx': 12, 'end_i...    100   wikitree  \n",
       "1     {'word': '공주', 'start_idx': 84, 'end_idx': 85,...    100  wikipedia  \n",
       "2     {'word': '1995년', 'start_idx': 31, 'end_idx': ...    100  wikipedia  \n",
       "3     {'word': '정창손', 'start_idx': 0, 'end_idx': 2, ...    100  wikipedia  \n",
       "4     {'word': '권영진', 'start_idx': 16, 'end_idx': 18...    100   wikitree  \n",
       "...                                                 ...    ...        ...  \n",
       "7760  {'word': '이탈리아', 'start_idx': 41, 'end_idx': 4...    100   wikitree  \n",
       "7761  {'word': '전년', 'start_idx': 143, 'end_idx': 14...    100   wikitree  \n",
       "7762  {'word': '조성완', 'start_idx': 12, 'end_idx': 14...    100   wikitree  \n",
       "7763  {'word': '1987년', 'start_idx': 0, 'end_idx': 4...    100  wikipedia  \n",
       "7764  {'word': '2일', 'start_idx': 10, 'end_idx': 11,...    100   wikitree  \n",
       "\n",
       "[7765 rows x 6 columns]"
      ]
     },
     "execution_count": 8,
     "metadata": {},
     "output_type": "execute_result"
    }
   ],
   "source": [
    "test_data"
   ]
  },
  {
   "cell_type": "code",
   "execution_count": 16,
   "metadata": {},
   "outputs": [
    {
     "data": {
      "text/html": [
       "<div>\n",
       "<style scoped>\n",
       "    .dataframe tbody tr th:only-of-type {\n",
       "        vertical-align: middle;\n",
       "    }\n",
       "\n",
       "    .dataframe tbody tr th {\n",
       "        vertical-align: top;\n",
       "    }\n",
       "\n",
       "    .dataframe thead th {\n",
       "        text-align: right;\n",
       "    }\n",
       "</style>\n",
       "<table border=\"1\" class=\"dataframe\">\n",
       "  <thead>\n",
       "    <tr style=\"text-align: right;\">\n",
       "      <th></th>\n",
       "      <th>id</th>\n",
       "      <th>sentence</th>\n",
       "      <th>subject_entity</th>\n",
       "      <th>object_entity</th>\n",
       "      <th>label</th>\n",
       "      <th>source</th>\n",
       "    </tr>\n",
       "  </thead>\n",
       "  <tbody>\n",
       "  </tbody>\n",
       "</table>\n",
       "</div>"
      ],
      "text/plain": [
       "Empty DataFrame\n",
       "Columns: [id, sentence, subject_entity, object_entity, label, source]\n",
       "Index: []"
      ]
     },
     "execution_count": 16,
     "metadata": {},
     "output_type": "execute_result"
    }
   ],
   "source": [
    "train_data[train_data.duplicated()]"
   ]
  },
  {
   "cell_type": "code",
   "execution_count": 14,
   "metadata": {},
   "outputs": [
    {
     "name": "stdout",
     "output_type": "stream",
     "text": [
      "<class 'pandas.core.frame.DataFrame'>\n",
      "RangeIndex: 32470 entries, 0 to 32469\n",
      "Data columns (total 5 columns):\n",
      " #   Column          Non-Null Count  Dtype \n",
      "---  ------          --------------  ----- \n",
      " 0   sentence        32470 non-null  object\n",
      " 1   subject_entity  32470 non-null  object\n",
      " 2   object_entity   32470 non-null  object\n",
      " 3   label           32470 non-null  object\n",
      " 4   source          32470 non-null  object\n",
      "dtypes: object(5)\n",
      "memory usage: 1.2+ MB\n"
     ]
    }
   ],
   "source": [
    "train_data.info()"
   ]
  },
  {
   "cell_type": "code",
   "execution_count": 15,
   "metadata": {},
   "outputs": [
    {
     "name": "stdout",
     "output_type": "stream",
     "text": [
      "<class 'pandas.core.frame.DataFrame'>\n",
      "RangeIndex: 7765 entries, 0 to 7764\n",
      "Data columns (total 6 columns):\n",
      " #   Column          Non-Null Count  Dtype \n",
      "---  ------          --------------  ----- \n",
      " 0   id              7765 non-null   int64 \n",
      " 1   sentence        7765 non-null   object\n",
      " 2   subject_entity  7765 non-null   object\n",
      " 3   object_entity   7765 non-null   object\n",
      " 4   label           7765 non-null   int64 \n",
      " 5   source          7765 non-null   object\n",
      "dtypes: int64(2), object(4)\n",
      "memory usage: 364.1+ KB\n"
     ]
    }
   ],
   "source": [
    "test_data.info()"
   ]
  },
  {
   "cell_type": "markdown",
   "metadata": {},
   "source": [
    "# Sentence Column"
   ]
  },
  {
   "cell_type": "markdown",
   "metadata": {},
   "source": [
    "## 중복값과 Null값 제거\n",
    "train, test data 둘다 Null값은 존재하지 않지만 train data sentence 칼럼 중 중복 값은 3667개 있고, test data 경우에는 한 개 있습니다"
   ]
  },
  {
   "cell_type": "code",
   "execution_count": 11,
   "metadata": {},
   "outputs": [
    {
     "name": "stdout",
     "output_type": "stream",
     "text": [
      "32470 7765\n"
     ]
    }
   ],
   "source": [
    "print(len(train_data), len(test_data))"
   ]
  },
  {
   "cell_type": "code",
   "execution_count": 12,
   "metadata": {},
   "outputs": [
    {
     "name": "stdout",
     "output_type": "stream",
     "text": [
      "32470 7765\n"
     ]
    }
   ],
   "source": [
    "train_data.dropna(inplace=True)\n",
    "test_data.dropna(inplace=True)\n",
    "print(len(train_data), len(test_data))"
   ]
  },
  {
   "cell_type": "code",
   "execution_count": 20,
   "metadata": {},
   "outputs": [
    {
     "name": "stdout",
     "output_type": "stream",
     "text": [
      "train data 중복 제외 전에는 32470개가 있고, 중복 제외 후에는 28803개가 있습니다\n"
     ]
    }
   ],
   "source": [
    "print(f\"train data 중복 제외 전에는 {len(train_data['sentence'])}개가 있고, 중복 제외 후에는 {len(train_data['sentence'].unique())}개가 있습니다\")"
   ]
  },
  {
   "cell_type": "code",
   "execution_count": 21,
   "metadata": {},
   "outputs": [
    {
     "name": "stdout",
     "output_type": "stream",
     "text": [
      "test data 중복 제외 전에는7765개가 있고, 중복 제외 후에는 7764개가 있습니다\n"
     ]
    }
   ],
   "source": [
    "print(f\"test data 중복 제외 전에는{len(test_data['sentence'])}개가 있고, 중복 제외 후에는 {len(test_data['sentence'].unique())}개가 있습니다\")"
   ]
  },
  {
   "cell_type": "markdown",
   "metadata": {},
   "source": [
    "## sentence 칼럼 문장 길이 시각화\n",
    "train data와 test data 문장 길이 시각화 결과 두 데이터셋의 문장 길이 분포는 동일한 것으로 확인 되었습니다"
   ]
  },
  {
   "cell_type": "markdown",
   "metadata": {},
   "source": [
    "train data 문장 길이 시각화"
   ]
  },
  {
   "cell_type": "code",
   "execution_count": 25,
   "metadata": {},
   "outputs": [
    {
     "data": {
      "text/plain": [
       "(array([6.2240e+03, 1.4638e+04, 7.4180e+03, 2.6710e+03, 9.0700e+02,\n",
       "        3.8200e+02, 1.2100e+02, 7.0000e+01, 2.9000e+01, 1.0000e+01]),\n",
       " array([ 14. ,  58.1, 102.2, 146.3, 190.4, 234.5, 278.6, 322.7, 366.8,\n",
       "        410.9, 455. ]),\n",
       " <BarContainer object of 10 artists>)"
      ]
     },
     "execution_count": 25,
     "metadata": {},
     "output_type": "execute_result"
    },
    {
     "data": {
      "image/png": "[encoded data removed]",
      "text/plain": [
       "<Figure size 640x480 with 1 Axes>"
      ]
     },
     "metadata": {},
     "output_type": "display_data"
    }
   ],
   "source": [
    "train_word_len_per_sent = list(map(len, train_data['sentence']))\n",
    "plt.hist(train_word_len_per_sent)"
   ]
  },
  {
   "cell_type": "markdown",
   "metadata": {},
   "source": [
    "test data 문장 길이 시각화"
   ]
  },
  {
   "cell_type": "code",
   "execution_count": 26,
   "metadata": {},
   "outputs": [
    {
     "data": {
      "text/plain": [
       "(array([1.725e+03, 3.214e+03, 1.806e+03, 7.160e+02, 2.070e+02, 6.200e+01,\n",
       "        2.300e+01, 7.000e+00, 4.000e+00, 1.000e+00]),\n",
       " array([ 17. ,  58.5, 100. , 141.5, 183. , 224.5, 266. , 307.5, 349. ,\n",
       "        390.5, 432. ]),\n",
       " <BarContainer object of 10 artists>)"
      ]
     },
     "execution_count": 26,
     "metadata": {},
     "output_type": "execute_result"
    },
    {
     "data": {
      "image/png": "[encoded data removed]",
      "text/plain": [
       "<Figure size 640x480 with 1 Axes>"
      ]
     },
     "metadata": {},
     "output_type": "display_data"
    }
   ],
   "source": [
    "test_word_len_per_sent = list(map(len, test_data['sentence']))\n",
    "plt.hist(test_word_len_per_sent)"
   ]
  },
  {
   "cell_type": "markdown",
   "metadata": {},
   "source": [
    "## 한자가 포함되어 있는 데이터"
   ]
  },
  {
   "cell_type": "code",
   "execution_count": 39,
   "metadata": {},
   "outputs": [
    {
     "name": "stdout",
     "output_type": "stream",
     "text": [
      "Train data Sentence에 한자가 포함되어 있는 데이터의 개수는 2504개이고, subject에 포함된 데이터는 3개이고, object는 175개입니다\n"
     ]
    }
   ],
   "source": [
    "sentence_with_chin = 0\n",
    "subject_with_chin = 0\n",
    "object_with_chin = 0\n",
    "for i in range(len(train_data)):\n",
    "    if re.findall('[/一-龥/]+', train_data.iloc[i, 1]):\n",
    "        sentence_with_chin += 1\n",
    "    if re.findall('[/一-龥/]+', train_data.iloc[i, 2]):\n",
    "        subject_with_chin += 1\n",
    "    if re.findall('[/一-龥/]+', train_data.iloc[i, 3]):\n",
    "        object_with_chin += 1\n",
    "print(f\"Train data Sentence에 한자가 포함되어 있는 데이터의 개수는 {sentence_with_chin}개이고, subject에 포함된 데이터는 {subject_with_chin}개이고, object는 {object_with_chin}개입니다\")"
   ]
  },
  {
   "cell_type": "code",
   "execution_count": 41,
   "metadata": {},
   "outputs": [
    {
     "name": "stdout",
     "output_type": "stream",
     "text": [
      "Test data Sentence에 한자가 포함되어 있는 데이터의 개수는 406개이고, subject에 포함된 데이터는 33개이고, object는 24개입니다\n"
     ]
    }
   ],
   "source": [
    "sentence_with_chin = 0\n",
    "subject_with_chin = 0\n",
    "object_with_chin = 0\n",
    "for i in range(len(test_data)):\n",
    "    if re.findall('[/一-龥/]+', test_data.iloc[i, 1]):\n",
    "        sentence_with_chin += 1\n",
    "    if re.findall('[/一-龥/]+', test_data.iloc[i, 2]):\n",
    "        subject_with_chin += 1\n",
    "    if re.findall('[/一-龥/]+', test_data.iloc[i, 3]):\n",
    "        object_with_chin += 1\n",
    "print(f\"Test data Sentence에 한자가 포함되어 있는 데이터의 개수는 {sentence_with_chin}개이고, subject에 포함된 데이터는 {subject_with_chin}개이고, object는 {object_with_chin}개입니다\")"
   ]
  },
  {
   "cell_type": "code",
   "execution_count": 37,
   "metadata": {},
   "outputs": [
    {
     "name": "stdout",
     "output_type": "stream",
     "text": [
      "{'word': '金基昶', 'start_idx': 4, 'end_idx': 6, 'type': 'PER'}\n",
      "{'word': '가톨릭平和放送', 'start_idx': 8, 'end_idx': 14, 'type': 'ORG'}\n",
      "{'word': '크루즈/와그너 프로덕션스', 'start_idx': 0, 'end_idx': 12, 'type': 'ORG'}\n"
     ]
    }
   ],
   "source": [
    "for i in range(len(train_data)):\n",
    "    if re.findall('[/一-龥/]+', train_data.iloc[i, 2]):\n",
    "        print(train_data.iloc[i, 2])"
   ]
  },
  {
   "cell_type": "code",
   "execution_count": 31,
   "metadata": {},
   "outputs": [
    {
     "data": {
      "text/plain": [
       "'박용오(朴容旿, 1937년 4월 29일(음력 3월 19일)(음력 3월 19일) ~ 2009년 11월 4일)는 서울에서 태어난 대한민국의 기업인으로 두산그룹 회장, KBO 총재 등을 역임했다.'"
      ]
     },
     "execution_count": 31,
     "metadata": {},
     "output_type": "execute_result"
    }
   ],
   "source": [
    "train_data.iloc[7, 1]"
   ]
  },
  {
   "cell_type": "code",
   "execution_count": 32,
   "metadata": {},
   "outputs": [],
   "source": [
    "for i in range(len(train_data)):\n",
    "    train_data.iloc[i, 1] = re.sub(r'[/一-龥/]+', '', train_data.iloc[i, 1])"
   ]
  },
  {
   "cell_type": "code",
   "execution_count": 33,
   "metadata": {},
   "outputs": [
    {
     "data": {
      "text/plain": [
       "'박용오(, 1937년 4월 29일(음력 3월 19일)(음력 3월 19일) ~ 2009년 11월 4일)는 서울에서 태어난 대한민국의 기업인으로 두산그룹 회장, KBO 총재 등을 역임했다.'"
      ]
     },
     "execution_count": 33,
     "metadata": {},
     "output_type": "execute_result"
    }
   ],
   "source": [
    "train_data.iloc[7, 1]"
   ]
  },
  {
   "cell_type": "markdown",
   "metadata": {},
   "source": [
    "## 토큰화 후 embedding 길이\n",
    "subject_entity[SEP]object_entity[SEP]sentence[SEP]으로 입력 시퀀스를 정해준 후, 토큰화 된 후 train, test data 최대 길이는 512입니다"
   ]
  },
  {
   "cell_type": "code",
   "execution_count": 12,
   "metadata": {},
   "outputs": [],
   "source": [
    "tokenizer = transformers.AutoTokenizer.from_pretrained('klue/roberta-large', max_length=400)"
   ]
  },
  {
   "cell_type": "code",
   "execution_count": 6,
   "metadata": {},
   "outputs": [
    {
     "name": "stdout",
     "output_type": "stream",
     "text": [
      "토큰화 된 후 train data 최대 길이는 512입니다\n"
     ]
    }
   ],
   "source": [
    "sub_ent = []\n",
    "obj_ent = []\n",
    "for i in range(len(train_data)):\n",
    "    sub_ent.append(train_data.iloc[i, 2].split(',')[0].split(':')[1][2:-1])\n",
    "    obj_ent.append(train_data.iloc[i, 3].split(',')[0].split(':')[1][2:-1])\n",
    "total_emb = []\n",
    "for i in range(len(train_data)):\n",
    "    total_emb.append(sub_ent[i]+'[SEP]'+obj_ent[i]+'[SEP]'+train_data.iloc[i, 1]+'[SEP]')\n",
    "tokenized_emb = tokenizer(total_emb, add_special_tokens=True, padding='max_length')['input_ids']\n",
    "print(f'토큰화 된 후 train data 최대 길이는 {max(list(map(len, tokenized_emb)))}입니다')"
   ]
  },
  {
   "cell_type": "code",
   "execution_count": 13,
   "metadata": {},
   "outputs": [
    {
     "name": "stdout",
     "output_type": "stream",
     "text": [
      "토큰화 된 후 test data 최대 길이는 512입니다\n"
     ]
    }
   ],
   "source": [
    "sub_ent = []\n",
    "obj_ent = []\n",
    "for i in range(len(test_data)):\n",
    "    sub_ent.append(test_data.iloc[i, 2].split(',')[0].split(':')[1][2:-1])\n",
    "    obj_ent.append(test_data.iloc[i, 3].split(',')[0].split(':')[1][2:-1])\n",
    "total_emb = []\n",
    "for i in range(len(test_data)):\n",
    "    total_emb.append(sub_ent[i]+'[SEP]'+obj_ent[i]+'[SEP]'+test_data.iloc[i, 1]+'[SEP]')\n",
    "tokenized_emb = tokenizer(total_emb, add_special_tokens=True, padding='max_length')['input_ids']\n",
    "print(f'토큰화 된 후 test data 최대 길이는 {max(list(map(len, tokenized_emb)))}입니다')"
   ]
  },
  {
   "cell_type": "markdown",
   "metadata": {},
   "source": [
    "# Subject / Object Entity Column\n",
    "활용 방법: 단어의 type을 토대로 만약 per/colleague일 시 두 개의 entity가 per, per이 아니라면 존재할 수 없으므로 여러 가지 휴리스틱 적용(맞지 않은 레이블에 대하여 가중치 곱해주기 등), maybe CRF 층 추가"
   ]
  },
  {
   "cell_type": "markdown",
   "metadata": {},
   "source": [
    "### Train"
   ]
  },
  {
   "cell_type": "markdown",
   "metadata": {},
   "source": [
    "베이스라인 코드 문제 발견: subject / object Entity 전처리 시 ','를 기준으로 split을 해주는데 이러면 word 안에 쉼표가 존재 할 시에 word 전체가 아닌 부분만 input에 포함 된다\\\n",
    "임시 해결: regex로 '' 안에 있는 값들만 가져와서 마지막 요소 반환 == type, start_index와 end_index 정보 포함 안되있기 떄문에 나중에 고쳐야함"
   ]
  },
  {
   "cell_type": "code",
   "execution_count": 113,
   "metadata": {},
   "outputs": [
    {
     "data": {
      "text/plain": [
       "\"{'word': '희극 배우, MC, 배우, 가수', 'start_idx': 32, 'end_idx': 48, 'type': 'POH'}\""
      ]
     },
     "execution_count": 113,
     "metadata": {},
     "output_type": "execute_result"
    }
   ],
   "source": [
    "train_data.iloc[5872, 3]"
   ]
  },
  {
   "cell_type": "code",
   "execution_count": 123,
   "metadata": {},
   "outputs": [
    {
     "data": {
      "text/plain": [
       "\" '희극 배우\""
      ]
     },
     "execution_count": 123,
     "metadata": {},
     "output_type": "execute_result"
    }
   ],
   "source": [
    "train_data.iloc[5872, 3].split(',')[0].split(':')[1]"
   ]
  },
  {
   "cell_type": "code",
   "execution_count": 137,
   "metadata": {},
   "outputs": [
    {
     "data": {
      "text/plain": [
       "\"'희극 배우, MC, 배우, 가수'\""
      ]
     },
     "execution_count": 137,
     "metadata": {},
     "output_type": "execute_result"
    }
   ],
   "source": [
    "re.findall(r'\\'[\\w\\s\\d,]+\\'', train_data.iloc[5872, 3])[1]"
   ]
  },
  {
   "cell_type": "code",
   "execution_count": 16,
   "metadata": {},
   "outputs": [
    {
     "name": "stdout",
     "output_type": "stream",
     "text": [
      "word 안에 쉼표가 들어간 데이터의 갯수는 0개, 60개입니다\n"
     ]
    }
   ],
   "source": [
    "object_with_comma = 0\n",
    "subject_with_comma = 0\n",
    "for idx, (i, j) in enumerate(zip(train_data['subject_entity'], train_data['object_entity'])):\n",
    "    i, j = eval(i), eval(j)\n",
    "    if ',' in i['word']:\n",
    "        if re.findall(r'[가-힣]+, ', i['word']):\n",
    "            subject_with_comma += 1\n",
    "    if ',' in j['word']:\n",
    "        if re.findall(r'[가-힣]+, ', j['word']):\n",
    "            object_with_comma += 1\n",
    "print(f\"word 안에 쉼표가 들어간 데이터의 갯수는 {subject_with_comma}개, {object_with_comma}개입니다\")"
   ]
  },
  {
   "cell_type": "code",
   "execution_count": 18,
   "metadata": {},
   "outputs": [
    {
     "name": "stdout",
     "output_type": "stream",
     "text": [
      "증강 할 수 있는 데이터의 개수는 1202개입니다\n"
     ]
    }
   ],
   "source": [
    "aug_data = 0\n",
    "for i in range(len(train_data)):\n",
    "    if ',' in re.findall(r'\\'[\\w\\s\\d,]+\\'', train_data.iloc[i, 3])[1]:\n",
    "        aug_data += re.findall(r'\\'[\\w\\s\\d,]+\\'', train_data.iloc[i, 3])[1].count(',') + 1\n",
    "print(f\"증강 할 수 있는 데이터의 개수는 {aug_data}개입니다\")"
   ]
  },
  {
   "cell_type": "markdown",
   "metadata": {},
   "source": [
    "subject 칼럼은 word: 타겟 단어, start_idx: 타겟 단어의 시작 위치, end_idx: 타겟 단어의 종료 위치, type: org, per 등 레이블의 첫 번쨰 값 정보 포함\\\n",
    "object 칼럼은 word: 타겟 단어, start_idx: 타겟 단어의 시작 위치, end_idx: 타겟 단어의 종료 위치, type: \"'DAT'\", \"'PER'\", \"'NOH'\", \"'ORG'\", \"'POH'\", \"'LOC'\" 등 레이블 두 번쨰 값 정보 포함\\\n",
    "PER: 사람\\\n",
    "ORG: 단체\\\n",
    "DAT: 날짜 정보\\\n",
    "NOH: 숫자 관련 정보(키, 몸무게, 인구 등)\\\n",
    "POH: 직업 관련 정보(배우, 아나운서 등)\\\n",
    "LOC: 위치 정보\\\n",
    "혹은 entity 단어 앞 뒤에 PER, ORG, DAT 등 special token 추가해주는 실험 또한 시도해 볼만한 것 같다"
   ]
  },
  {
   "cell_type": "code",
   "execution_count": 87,
   "metadata": {},
   "outputs": [
    {
     "name": "stdout",
     "output_type": "stream",
     "text": [
      "train data subject_entity 고유값은 [\"'PER'\", \"'ORG'\"]이며, object_entity 고유값은 [\"'DAT'\", \"'PER'\", \"'NOH'\", \"'ORG'\", \"'POH'\", \"'LOC'\"]입니다\n"
     ]
    }
   ],
   "source": [
    "sub_types = []\n",
    "obj_types = []\n",
    "for i in range(len(train_data)):\n",
    "    sub_types.append(re.findall(r'\\'[\\w]+\\'', train_data.iloc[i, 2])[-1])\n",
    "    obj_types.append(re.findall(r'\\'[\\w]+\\'', train_data.iloc[i, 3])[-1])\n",
    "print(f'train data subject_entity 고유값은 {list(set(sub_types))}이며, object_entity 고유값은 {list(set(obj_types))}입니다')"
   ]
  },
  {
   "cell_type": "markdown",
   "metadata": {},
   "source": [
    "### Test"
   ]
  },
  {
   "cell_type": "code",
   "execution_count": 92,
   "metadata": {},
   "outputs": [
    {
     "name": "stdout",
     "output_type": "stream",
     "text": [
      "test data subject_entity 고유값은 [\"'LOC'\", \"'PER'\", \"'ORG'\"]이며, object_entity 고유값은 [\"'DAT'\", \"'PER'\", \"'NOH'\", \"'ORG'\", \"'POH'\", \"'LOC'\"]입니다\n"
     ]
    }
   ],
   "source": [
    "sub_types = []\n",
    "obj_types = []\n",
    "for i in range(len(test_data)):\n",
    "    sub_types.append(re.findall(r'\\'[\\w]+\\'', test_data.iloc[i, 2])[-1])\n",
    "    obj_types.append(re.findall(r'\\'[\\w]+\\'', test_data.iloc[i, 3])[-1])\n",
    "print(f'test data subject_entity 고유값은 {list(set(sub_types))}이며, object_entity 고유값은 {list(set(obj_types))}입니다')"
   ]
  },
  {
   "cell_type": "markdown",
   "metadata": {},
   "source": [
    "# Label Column"
   ]
  },
  {
   "cell_type": "markdown",
   "metadata": {},
   "source": [
    "## Label 분포 시각화\n",
    "라벨 분포 시각화 결과 no_relation이 가장 높았고, org와 per의 비율은 비슷하게 포진되어 있으나 org가 조금 더 많은 것으로 확인 되었습니다"
   ]
  },
  {
   "cell_type": "code",
   "execution_count": 122,
   "metadata": {},
   "outputs": [
    {
     "data": {
      "image/png": "[encoded data removed]",
      "text/plain": [
       "<Figure size 640x480 with 1 Axes>"
      ]
     },
     "metadata": {},
     "output_type": "display_data"
    }
   ],
   "source": [
    "plt.bar(train_data['label'].value_counts().index, train_data['label'].value_counts())\n",
    "plt.xticks(rotation=90)\n",
    "plt.show()"
   ]
  },
  {
   "cell_type": "markdown",
   "metadata": {},
   "source": [
    "per, org, no_relation 세 가지 경우에 대해서 평균 문장 길이를 구했고, 각각의 개수 또한 카운트해주었습니다. 평균 길이는 per < org < no_relation 순입니다."
   ]
  },
  {
   "cell_type": "code",
   "execution_count": 124,
   "metadata": {},
   "outputs": [
    {
     "name": "stdout",
     "output_type": "stream",
     "text": [
      "88 12654\n",
      "99 10282\n",
      "104 9534\n"
     ]
    }
   ],
   "source": [
    "per_length = 0\n",
    "org_length = 0\n",
    "per_count = 0\n",
    "org_count = 0\n",
    "no_relation_length = 0\n",
    "no_relation_count = 0\n",
    "for i in range(len(train_data)):\n",
    "    if train_data.iloc[i, 4][:3] == 'per':\n",
    "        per_length += len(train_data.iloc[i, 1])\n",
    "        per_count += 1\n",
    "    elif train_data.iloc[i, 4][:3] == 'org':\n",
    "        org_length += len(train_data.iloc[i, 1])\n",
    "        org_count += 1\n",
    "    else:\n",
    "        no_relation_length += len(train_data.iloc[i, 1])\n",
    "        no_relation_count += 1\n",
    "print(per_length // per_count, per_count)\n",
    "print(org_length // org_count, org_count)\n",
    "print(no_relation_length // no_relation_count, no_relation_count)"
   ]
  },
  {
   "cell_type": "markdown",
   "metadata": {},
   "source": [
    "# Source Column\n",
    "Train data와 test data 모두 source는 wikipedia, wikitree, policy_briefing에서 가져왔으며, 세 가지 데이터셋 특성상 서면어로 이루어진 문장이 주를 이룹니다\\\n",
    "개수 순은 policy_briefing < wikitree < wikipedia순입니다."
   ]
  },
  {
   "cell_type": "code",
   "execution_count": 125,
   "metadata": {},
   "outputs": [
    {
     "name": "stdout",
     "output_type": "stream",
     "text": [
      "Train data의 Source Column의 고유값은 ['wikipedia' 'wikitree' 'policy_briefing']이며, test data는 ['wikitree' 'wikipedia' 'policy_briefing']입니다\n"
     ]
    }
   ],
   "source": [
    "print(f\"Train data의 Source Column의 고유값은 {train_data['source'].unique()}이며, test data는 {test_data['source'].unique()}입니다\")"
   ]
  },
  {
   "cell_type": "code",
   "execution_count": 130,
   "metadata": {},
   "outputs": [
    {
     "data": {
      "text/plain": [
       "<BarContainer object of 3 artists>"
      ]
     },
     "execution_count": 130,
     "metadata": {},
     "output_type": "execute_result"
    },
    {
     "data": {
      "image/png": "[encoded data removed]",
      "text/plain": [
       "<Figure size 640x480 with 1 Axes>"
      ]
     },
     "metadata": {},
     "output_type": "display_data"
    }
   ],
   "source": [
    "plt.bar(train_data['source'].value_counts().index, train_data['source'].value_counts())"
   ]
  },
  {
   "cell_type": "code",
   "execution_count": 131,
   "metadata": {},
   "outputs": [
    {
     "data": {
      "text/plain": [
       "<BarContainer object of 3 artists>"
      ]
     },
     "execution_count": 131,
     "metadata": {},
     "output_type": "execute_result"
    },
    {
     "data": {
      "image/png": "[encoded data removed]",
      "text/plain": [
       "<Figure size 640x480 with 1 Axes>"
      ]
     },
     "metadata": {},
     "output_type": "display_data"
    }
   ],
   "source": [
    "plt.bar(test_data['source'].value_counts().index, test_data['source'].value_counts())"
   ]
  },
  {
   "cell_type": "markdown",
   "metadata": {},
   "source": [
    "# 데이터셋의 편향 확인"
   ]
  },
  {
   "cell_type": "code",
   "execution_count": 20,
   "metadata": {},
   "outputs": [],
   "source": [
    "label_list = ['no_relation', 'org:top_members/employees', 'org:members',\n",
    "       'org:product', 'per:title', 'org:alternate_names',\n",
    "       'per:employee_of', 'org:place_of_headquarters', 'per:product',\n",
    "       'org:number_of_employees/members', 'per:children',\n",
    "       'per:place_of_residence', 'per:alternate_names',\n",
    "       'per:other_family', 'per:colleagues', 'per:origin', 'per:siblings',\n",
    "       'per:spouse', 'org:founded', 'org:political/religious_affiliation',\n",
    "       'org:member_of', 'per:parents', 'org:dissolved',\n",
    "       'per:schools_attended', 'per:date_of_death', 'per:date_of_birth',\n",
    "       'per:place_of_birth', 'per:place_of_death', 'org:founded_by',\n",
    "       'per:religion']"
   ]
  },
  {
   "cell_type": "code",
   "execution_count": 142,
   "metadata": {},
   "outputs": [
    {
     "name": "stdout",
     "output_type": "stream",
     "text": [
      "no_relation의 subject_entity 최대 빈도 수 단어들은 [\"'민주당'\", \"', '\", \"'두산 베어스'\", \"'FC 서울'\", \"'삼성 라이온즈'\"]이며, object_entity 최대 빈도 수 단어들은 [\"', '\", \"'2016년'\", \"'물리학'\", \"'더불어민주당'\", \"'2007'\"]입니다\n",
      "org:top_members/employees의 subject_entity 최대 빈도 수 단어들은 [\"'화순군'\", \"'고흥군'\", \"'광주광역시'\", \"'영암군'\", \"'목포시'\"]이며, object_entity 최대 빈도 수 단어들은 [\"'구충곤'\", \"'송귀근'\", \"'이용섭'\", \"'이선재'\", \"'전동평'\"]입니다\n",
      "org:members의 subject_entity 최대 빈도 수 단어들은 [\"'KBO 리그'\", \"'캐나다'\", \"'제주특별자치도'\", \"'러시아'\", \"'신세계'\"]이며, object_entity 최대 빈도 수 단어들은 [\"'두산 베어스'\", \"'KIA 타이거즈'\", \"'미래한국당'\", \"'제주시'\", \"'모스크바'\"]입니다\n",
      "org:product의 subject_entity 최대 빈도 수 단어들은 [\"'엔씨소프트'\", \"'삼성전자'\", \"'대림산업'\", \"'SK하이닉스'\", \"'영광군'\"]이며, object_entity 최대 빈도 수 단어들은 [\"'자동차'\", \"'반도체'\", \"'제네시스'\", \"'리니지2M'\", \"'e편한세상'\"]입니다\n",
      "per:title의 subject_entity 최대 빈도 수 단어들은 [\"'박능후'\", \"'전희경'\", \"'이재용'\", \"'김영록'\", \"'김정호'\"]이며, object_entity 최대 빈도 수 단어들은 [\"'골키퍼'\", \"'독립운동가'\", \"'아나운서'\", \"'소설가'\", \"'비례대표'\"]입니다\n",
      "org:alternate_names의 subject_entity 최대 빈도 수 단어들은 [\"'문화방송'\", \"'유럽 축구 연맹'\", \"'국제수영연맹'\", \"'국제축구연맹'\", \"', '\"]이며, object_entity 최대 빈도 수 단어들은 [\"'MBC'\", \"'FIFA'\", \"'UEFA'\", \"'FINA'\", \"'IOC'\"]입니다\n",
      "per:employee_of의 subject_entity 최대 빈도 수 단어들은 [\"'나경원'\", \"'문재인'\", \"', '\", \"'안철수'\", \"'심상정'\"]이며, object_entity 최대 빈도 수 단어들은 [\"'자유한국당'\", \"'더불어민주당'\", \"'정의당'\", \"'국민의당'\", \"'공화당'\"]입니다\n",
      "org:place_of_headquarters의 subject_entity 최대 빈도 수 단어들은 [\"'프리미어리그'\", \"'해적당'\", \"'러시아'\", \"'대한민국 임시정부'\", \"'보카 주니어스'\"]이며, object_entity 최대 빈도 수 단어들은 [\"'대한민국'\", \"'스페인'\", \"'캐나다'\", \"'이탈리아'\", \"'네덜란드'\"]입니다\n",
      "per:product의 subject_entity 최대 빈도 수 단어들은 [\"', '\", \"'아이유'\", \"'정다정'\", \"'요한 바이어'\", \"'오다 에이치로'\"]이며, object_entity 최대 빈도 수 단어들은 [\"', '\", \"'우라노메트리아'\", \"'원피스'\", \"'복숭아'\", \"'Thriller'\"]입니다\n",
      "org:number_of_employees/members의 subject_entity 최대 빈도 수 단어들은 [\"'광산구'\", \"'러시아군'\", \"'순천시'\", \"'OECD'\", \"'키몬다'\"]이며, object_entity 최대 빈도 수 단어들은 [\"'21개'\", \"'37개국'\", \"'13개'\", \"'500명'\", \"'18개'\"]입니다\n",
      "per:children의 subject_entity 최대 빈도 수 단어들은 [\"'박정희'\", \"'윤민수'\", \"'카를 5세'\", \"'김영삼'\", \"', '\"]이며, object_entity 최대 빈도 수 단어들은 [\"'아들 윤후'\", \"'김현철'\", \"', '\", \"'펠리페 2세'\", \"'박근혜'\"]입니다\n",
      "per:place_of_residence의 subject_entity 최대 빈도 수 단어들은 [\"'노무현'\", \"'장병완'\", \"'문재인'\", \"'피에트로 바돌리오'\", \"'루자인 알하틀룰'\"]이며, object_entity 최대 빈도 수 단어들은 [\"'대한민국'\", \"'캐나다'\", \"'이탈리아'\", \"'스페인'\", \"'덴마크'\"]입니다\n",
      "per:alternate_names의 subject_entity 최대 빈도 수 단어들은 [\"', '\", \"'유재석'\", \"'강지환'\", \"'아이유'\", \"'한예슬'\"]이며, object_entity 최대 빈도 수 단어들은 [\"', '\", \"'조태규'\", \"'김예슬이'\", \"'권지용'\", \"'이지은'\"]입니다\n",
      "per:other_family의 subject_entity 최대 빈도 수 단어들은 [\"'인경왕후'\", \"'메리 1세'\", \"'리처드 3세'\", \"'김성근'\", \"'루이 15세'\"]이며, object_entity 최대 빈도 수 단어들은 [\"'인현왕후'\", \"'김호규'\", \"'선덕여왕'\", \"'루이 15세'\", \"'쇼와 천황'\"]입니다\n",
      "per:colleagues의 subject_entity 최대 빈도 수 단어들은 [\"'신익희'\", \"'김규식'\", \"'이낙연'\", \"'이시영'\", \"'김종필'\"]이며, object_entity 최대 빈도 수 단어들은 [\"'이승만'\", \"'문재인'\", \"'박정희'\", \"'박근혜'\", \"'노무현'\"]입니다\n",
      "per:origin의 subject_entity 최대 빈도 수 단어들은 [\"'노무현'\", \"'김영삼'\", \"'김연아'\", \"'블라디미르 푸틴'\", \"'판 니스텔로이'\"]이며, object_entity 최대 빈도 수 단어들은 [\"'대한민국'\", \"'캐나다'\", \"'네덜란드'\", \"'브라질'\", \"'스웨덴'\"]입니다\n",
      "per:siblings의 subject_entity 최대 빈도 수 단어들은 [\"'박근혜'\", \"'김여정'\", \"'박유천'\", \"'신익희'\", \"'조승우'\"]이며, object_entity 최대 빈도 수 단어들은 [\"'김정은'\", \"'동생 박유환'\", \"'신재희'\", \"'박근령'\", \"'루이 18세'\"]입니다\n",
      "per:spouse의 subject_entity 최대 빈도 수 단어들은 [\"'김정숙'\", \"'구혜선'\", \"'이효리'\", \"'장윤정'\", \"'강경준'\"]이며, object_entity 최대 빈도 수 단어들은 [\"'문재인'\", \"'안재현'\", \"'공민왕'\", \"'이원수'\", \"'이상순'\"]입니다\n",
      "org:founded의 subject_entity 최대 빈도 수 단어들은 [\"', '\", \"'동아일보'\", \"'동양척식주식회사'\", \"'KBO 리그'\", \"'유엔난민기구'\"]이며, object_entity 최대 빈도 수 단어들은 [\"'1920년'\", \"'1982년'\", \"'2008년'\", \"'1997년'\", \"'1992년'\"]입니다\n",
      "org:political/religious_affiliation의 subject_entity 최대 빈도 수 단어들은 [\"'베트남'\", \"'사회당'\", \"'아일랜드'\", \"'바티칸'\", \"'자유당'\"]이며, object_entity 최대 빈도 수 단어들은 [\"'공화국'\", \"'가톨릭'\", \"'사회주의'\", \"'자유주의'\", \"'이슬람'\"]입니다\n",
      "org:member_of의 subject_entity 최대 빈도 수 단어들은 [\"', '\", \"'요미우리 자이언츠'\", \"'유벤투스'\", \"'맨체스터 유나이티드'\", \"'고양시'\"]이며, object_entity 최대 빈도 수 단어들은 [\"'분데스리가'\", \"'세리에 A'\", \"'프리미어리그'\", \"'NBA'\", \"'경기도'\"]입니다\n",
      "per:parents의 subject_entity 최대 빈도 수 단어들은 [\"'최진실'\", \"'문효세자'\", \"'정종원'\", \"'에드워드 5세'\", \"'연산군'\"]이며, object_entity 최대 빈도 수 단어들은 [\"'아버지'\", \"'의빈 성씨'\", \"'정재학'\", \"'구수왕'\", \"'어머니 정옥숙'\"]입니다\n",
      "org:dissolved의 subject_entity 최대 빈도 수 단어들은 [\"'이스트로'\", \"'현대 유니콘스'\", \"'위메이드 폭스'\", \"'진나라'\", \"'중도개혁통합신당'\"]이며, object_entity 최대 빈도 수 단어들은 [\"'2010년 10월'\", \"'2007년'\", \"'2000년'\", \"'2011년 8월'\", \"'기원전 206년'\"]입니다\n",
      "per:schools_attended의 subject_entity 최대 빈도 수 단어들은 [\"'박정희'\", \"'김주열'\", \"'문성민'\", \"'웨슬리'\", \"'존 웨슬리'\"]이며, object_entity 최대 빈도 수 단어들은 [\"'육군사관학교'\", \"'경기대'\", \"'고려대'\", \"'옥스퍼드 대학교'\", \"'마산상업고등학교'\"]입니다\n",
      "per:date_of_death의 subject_entity 최대 빈도 수 단어들은 [\"'박정희'\", \"'최진실'\", \"'이토 히로부미'\", \"'노무현'\", \"'김정일'\"]이며, object_entity 최대 빈도 수 단어들은 [\"'1979년 10월 26일'\", \"'2008년 10월 2일'\", \"', '\", \"'1909년 10월 26일'\", \"'2009년 5월 23일'\"]입니다\n",
      "per:date_of_birth의 subject_entity 최대 빈도 수 단어들은 [\"'서기석'\", \"'김수자'\", \"'넋업샨'\", \"'김요협'\", \"'장미란'\"]이며, object_entity 최대 빈도 수 단어들은 [\"', '\", \"'1515년 3월 28일'\", \"'1955년 5월 25일'\", \"'1481년'\", \"'1986년 11월 7일'\"]입니다\n",
      "per:place_of_birth의 subject_entity 최대 빈도 수 단어들은 [\"'빌리 오르반'\", \"'리하나'\", \"'가브리엘 오마르 바티스투타'\", \"'우고 차베스'\", \"'보비 클랜시'\"]이며, object_entity 최대 빈도 수 단어들은 [\"'프랑스'\", \"'대한민국'\", \"'뉴질랜드'\", \"'브라질'\", \"'바베이도스'\"]입니다\n",
      "per:place_of_death의 subject_entity 최대 빈도 수 단어들은 [\"'고용희'\", \"'최진영'\", \"'막시밀리아노 1세'\", \"'우범선'\", \"'마리 드 메디시스'\"]이며, object_entity 최대 빈도 수 단어들은 [\"'서울'\", \"'프랑스'\", \"'서울특별시 강남구'\", \"'멕시코 케레타로'\", \"'일본 히로시마현 구레'\"]입니다\n",
      "org:founded_by의 subject_entity 최대 빈도 수 단어들은 [\"'유한양행'\", \"'동아일보'\", \"'국민의당'\", \"'평화민주당'\", \"'삼성그룹'\"]이며, object_entity 최대 빈도 수 단어들은 [\"'김대중'\", \"'안철수'\", \"'유일한'\", \"'정주영'\", \"'여운형'\"]입니다\n",
      "per:religion의 subject_entity 최대 빈도 수 단어들은 [\"'문선명'\", \"'호러스 그랜트 언더우드'\", \"'대각국사'\", \"'무함마드'\", \"'안창호'\"]이며, object_entity 최대 빈도 수 단어들은 [\"'기독교'\", \"'천주교'\", \"'장로교'\", \"'개신교'\", \"'천태종'\"]입니다\n"
     ]
    }
   ],
   "source": [
    "for i in range(30):\n",
    "    sub_bow = []\n",
    "    obj_bow = []\n",
    "    for j in range(len(train_data)):\n",
    "        if train_data.iloc[j, 4] == label_list[i]:\n",
    "            sub_bow.append(re.findall(r'\\'[\\w\\s\\d,]+\\'', train_data.iloc[j, 2])[1])\n",
    "            obj_bow.append(re.findall(r'\\'[\\w\\s\\d,]+\\'', train_data.iloc[j, 3])[1])\n",
    "    sub_counter = Counter(sub_bow)\n",
    "    obj_counter = Counter(obj_bow)\n",
    "    sub_most = sub_counter.most_common(10)\n",
    "    obj_most = obj_counter.most_common(10)\n",
    "    sub_most = [sub_most[i][0] for i in range(5)]\n",
    "    obj_most = [obj_most[i][0] for i in range(5)]\n",
    "    print(f\"{label_list[i]}의 subject_entity 최대 빈도 수 단어들은 {sub_most}이며, object_entity 최대 빈도 수 단어들은 {obj_most}입니다\")"
   ]
  },
  {
   "cell_type": "code",
   "execution_count": 22,
   "metadata": {},
   "outputs": [
    {
     "name": "stdout",
     "output_type": "stream",
     "text": [
      "no_relation의 subject_entity 최대 빈도 수 Entity type들은 [\"'ORG'\", \"'PER'\"]이며, object_entity 최대 빈도 수 Entity type들은 [\"'ORG'\", \"'DAT'\"]입니다\n",
      "org:top_members/employees의 subject_entity 최대 빈도 수 Entity type들은 [\"'ORG'\", \"'PER'\"]이며, object_entity 최대 빈도 수 Entity type들은 [\"'PER'\", \"'POH'\"]입니다\n",
      "org:members의 subject_entity 최대 빈도 수 Entity type들은 [\"'ORG'\", \"'PER'\"]이며, object_entity 최대 빈도 수 Entity type들은 [\"'ORG'\", \"'LOC'\"]입니다\n",
      "org:product의 subject_entity 최대 빈도 수 Entity type들은 'ORG'이며, object_entity 최대 빈도 수 Entity type들은 'POH'입니다\n",
      "per:title의 subject_entity 최대 빈도 수 Entity type들은 'PER'이며, object_entity 최대 빈도 수 Entity type들은 'POH'입니다\n",
      "org:alternate_names의 subject_entity 최대 빈도 수 Entity type들은 'ORG'이며, object_entity 최대 빈도 수 Entity type들은 'ORG'입니다\n",
      "per:employee_of의 subject_entity 최대 빈도 수 Entity type들은 'PER'이며, object_entity 최대 빈도 수 Entity type들은 'ORG'입니다\n",
      "org:place_of_headquarters의 subject_entity 최대 빈도 수 Entity type들은 [\"'ORG'\", \"'PER'\"]이며, object_entity 최대 빈도 수 Entity type들은 [\"'LOC'\", \"'ORG'\"]입니다\n",
      "per:product의 subject_entity 최대 빈도 수 Entity type들은 'PER'이며, object_entity 최대 빈도 수 Entity type들은 'POH'입니다\n",
      "org:number_of_employees/members의 subject_entity 최대 빈도 수 Entity type들은 'ORG'이며, object_entity 최대 빈도 수 Entity type들은 'NOH'입니다\n",
      "per:children의 subject_entity 최대 빈도 수 Entity type들은 'PER'이며, object_entity 최대 빈도 수 Entity type들은 'PER'입니다\n",
      "per:place_of_residence의 subject_entity 최대 빈도 수 Entity type들은 'PER'이며, object_entity 최대 빈도 수 Entity type들은 'LOC'입니다\n",
      "per:alternate_names의 subject_entity 최대 빈도 수 Entity type들은 'PER'이며, object_entity 최대 빈도 수 Entity type들은 'PER'입니다\n",
      "per:other_family의 subject_entity 최대 빈도 수 Entity type들은 'PER'이며, object_entity 최대 빈도 수 Entity type들은 'PER'입니다\n",
      "per:colleagues의 subject_entity 최대 빈도 수 Entity type들은 'PER'이며, object_entity 최대 빈도 수 Entity type들은 'PER'입니다\n",
      "per:origin의 subject_entity 최대 빈도 수 Entity type들은 'PER'이며, object_entity 최대 빈도 수 Entity type들은 'LOC'입니다\n",
      "per:siblings의 subject_entity 최대 빈도 수 Entity type들은 'PER'이며, object_entity 최대 빈도 수 Entity type들은 'PER'입니다\n",
      "per:spouse의 subject_entity 최대 빈도 수 Entity type들은 'PER'이며, object_entity 최대 빈도 수 Entity type들은 'PER'입니다\n",
      "org:founded의 subject_entity 최대 빈도 수 Entity type들은 'ORG'이며, object_entity 최대 빈도 수 Entity type들은 'DAT'입니다\n",
      "org:political/religious_affiliation의 subject_entity 최대 빈도 수 Entity type들은 'ORG'이며, object_entity 최대 빈도 수 Entity type들은 'ORG'입니다\n",
      "org:member_of의 subject_entity 최대 빈도 수 Entity type들은 'ORG'이며, object_entity 최대 빈도 수 Entity type들은 'ORG'입니다\n",
      "per:parents의 subject_entity 최대 빈도 수 Entity type들은 'PER'이며, object_entity 최대 빈도 수 Entity type들은 'PER'입니다\n",
      "org:dissolved의 subject_entity 최대 빈도 수 Entity type들은 'ORG'이며, object_entity 최대 빈도 수 Entity type들은 'DAT'입니다\n",
      "per:schools_attended의 subject_entity 최대 빈도 수 Entity type들은 'PER'이며, object_entity 최대 빈도 수 Entity type들은 'ORG'입니다\n",
      "per:date_of_death의 subject_entity 최대 빈도 수 Entity type들은 'PER'이며, object_entity 최대 빈도 수 Entity type들은 'DAT'입니다\n",
      "per:date_of_birth의 subject_entity 최대 빈도 수 Entity type들은 'PER'이며, object_entity 최대 빈도 수 Entity type들은 'DAT'입니다\n",
      "per:place_of_birth의 subject_entity 최대 빈도 수 Entity type들은 'PER'이며, object_entity 최대 빈도 수 Entity type들은 'LOC'입니다\n",
      "per:place_of_death의 subject_entity 최대 빈도 수 Entity type들은 'PER'이며, object_entity 최대 빈도 수 Entity type들은 'LOC'입니다\n",
      "org:founded_by의 subject_entity 최대 빈도 수 Entity type들은 [\"'ORG'\", \"'PER'\"]이며, object_entity 최대 빈도 수 Entity type들은 [\"'PER'\", \"'ORG'\"]입니다\n",
      "per:religion의 subject_entity 최대 빈도 수 Entity type들은 'PER'이며, object_entity 최대 빈도 수 Entity type들은 'ORG'입니다\n"
     ]
    }
   ],
   "source": [
    "for i in range(30):\n",
    "    sub_bow = []\n",
    "    obj_bow = []\n",
    "    for j in range(len(train_data)):\n",
    "        if train_data.iloc[j, 4] == label_list[i]:\n",
    "            sub_bow.append(re.findall(r'\\'[\\w\\s\\d,]+\\'', train_data.iloc[j, 2])[-1])\n",
    "            obj_bow.append(re.findall(r'\\'[\\w\\s\\d,]+\\'', train_data.iloc[j, 3])[-1])\n",
    "    sub_counter = Counter(sub_bow)\n",
    "    obj_counter = Counter(obj_bow)\n",
    "    sub_most = sub_counter.most_common(2)\n",
    "    obj_most = obj_counter.most_common(2)\n",
    "    if len(sub_most) >= 2 and len(obj_most) >= 2:\n",
    "        sub_most = [sub_most[i][0] for i in range(2)]\n",
    "        obj_most = [obj_most[i][0] for i in range(2)]\n",
    "    elif len(sub_most) >= 2 and len(obj_most) == 1:\n",
    "        sub_most = [sub_most[i][0] for i in range(2)]\n",
    "        obj_most = obj_most[0][0]\n",
    "    elif len(sub_most) == 2 and len(obj_most) >= 2:\n",
    "        sub_most = sub_most[0][0]\n",
    "        obj_most = [obj_most[i][0] for i in range(2)]\n",
    "    else:\n",
    "        sub_most = sub_most[0][0]\n",
    "        obj_most = obj_most[0][0]\n",
    "    print(f\"{label_list[i]}의 subject_entity 최대 빈도 수 Entity type들은 {sub_most}이며, object_entity 최대 빈도 수 Entity type들은 {obj_most}입니다\")"
   ]
  },
  {
   "cell_type": "code",
   "execution_count": 25,
   "metadata": {},
   "outputs": [
    {
     "data": {
      "text/plain": [
       "{'no_relation': [[(\"'ORG'\", 5406), (\"'PER'\", 4128)],\n",
       "  [(\"'ORG'\", 2699),\n",
       "   (\"'DAT'\", 2087),\n",
       "   (\"'PER'\", 1800),\n",
       "   (\"'POH'\", 1780),\n",
       "   (\"'LOC'\", 858),\n",
       "   (\"'NOH'\", 310)]],\n",
       " 'org:top_members/employees': [[(\"'ORG'\", 4283), (\"'PER'\", 1)],\n",
       "  [(\"'PER'\", 4196),\n",
       "   (\"'POH'\", 52),\n",
       "   (\"'ORG'\", 22),\n",
       "   (\"'LOC'\", 13),\n",
       "   (\"'NOH'\", 1)]],\n",
       " 'org:members': [[(\"'ORG'\", 419), (\"'PER'\", 1)],\n",
       "  [(\"'ORG'\", 285),\n",
       "   (\"'LOC'\", 97),\n",
       "   (\"'POH'\", 32),\n",
       "   (\"'PER'\", 3),\n",
       "   (\"'NOH'\", 2),\n",
       "   (\"'DAT'\", 1)]],\n",
       " 'org:product': [[(\"'ORG'\", 380)],\n",
       "  [(\"'POH'\", 304), (\"'ORG'\", 48), (\"'LOC'\", 24), (\"'PER'\", 3), (\"'NOH'\", 1)]],\n",
       " 'per:title': [[(\"'PER'\", 2103)],\n",
       "  [(\"'POH'\", 1845),\n",
       "   (\"'ORG'\", 141),\n",
       "   (\"'LOC'\", 81),\n",
       "   (\"'NOH'\", 19),\n",
       "   (\"'PER'\", 14),\n",
       "   (\"'DAT'\", 3)]],\n",
       " 'org:alternate_names': [[(\"'ORG'\", 1320)],\n",
       "  [(\"'ORG'\", 1154),\n",
       "   (\"'POH'\", 106),\n",
       "   (\"'PER'\", 31),\n",
       "   (\"'LOC'\", 23),\n",
       "   (\"'NOH'\", 5),\n",
       "   (\"'DAT'\", 1)]],\n",
       " 'per:employee_of': [[(\"'PER'\", 3573)],\n",
       "  [(\"'ORG'\", 2857),\n",
       "   (\"'PER'\", 391),\n",
       "   (\"'LOC'\", 165),\n",
       "   (\"'POH'\", 135),\n",
       "   (\"'DAT'\", 19),\n",
       "   (\"'NOH'\", 6)]],\n",
       " 'org:place_of_headquarters': [[(\"'ORG'\", 1194), (\"'PER'\", 1)],\n",
       "  [(\"'LOC'\", 895),\n",
       "   (\"'ORG'\", 254),\n",
       "   (\"'POH'\", 39),\n",
       "   (\"'DAT'\", 4),\n",
       "   (\"'NOH'\", 2),\n",
       "   (\"'PER'\", 1)]],\n",
       " 'per:product': [[(\"'PER'\", 139)],\n",
       "  [(\"'POH'\", 120), (\"'ORG'\", 11), (\"'PER'\", 6), (\"'LOC'\", 2)]],\n",
       " 'org:number_of_employees/members': [[(\"'ORG'\", 48)], [(\"'NOH'\", 48)]],\n",
       " 'per:children': [[(\"'PER'\", 304)],\n",
       "  [(\"'PER'\", 275),\n",
       "   (\"'POH'\", 22),\n",
       "   (\"'LOC'\", 3),\n",
       "   (\"'NOH'\", 2),\n",
       "   (\"'DAT'\", 1),\n",
       "   (\"'ORG'\", 1)]],\n",
       " 'per:place_of_residence': [[(\"'PER'\", 193)],\n",
       "  [(\"'LOC'\", 172), (\"'ORG'\", 11), (\"'POH'\", 6), (\"'DAT'\", 4)]],\n",
       " 'per:alternate_names': [[(\"'PER'\", 1001)],\n",
       "  [(\"'PER'\", 881), (\"'POH'\", 70), (\"'ORG'\", 40), (\"'LOC'\", 9), (\"'NOH'\", 1)]],\n",
       " 'per:other_family': [[(\"'PER'\", 190)],\n",
       "  [(\"'PER'\", 178), (\"'POH'\", 7), (\"'LOC'\", 4), (\"'ORG'\", 1)]],\n",
       " 'per:colleagues': [[(\"'PER'\", 534)],\n",
       "  [(\"'PER'\", 512), (\"'ORG'\", 10), (\"'POH'\", 10), (\"'DAT'\", 1), (\"'LOC'\", 1)]],\n",
       " 'per:origin': [[(\"'PER'\", 1234)],\n",
       "  [(\"'LOC'\", 821),\n",
       "   (\"'ORG'\", 267),\n",
       "   (\"'DAT'\", 60),\n",
       "   (\"'POH'\", 55),\n",
       "   (\"'PER'\", 29),\n",
       "   (\"'NOH'\", 2)]],\n",
       " 'per:siblings': [[(\"'PER'\", 136)], [(\"'PER'\", 113), (\"'POH'\", 23)]],\n",
       " 'per:spouse': [[(\"'PER'\", 795)],\n",
       "  [(\"'PER'\", 761), (\"'POH'\", 26), (\"'LOC'\", 6), (\"'ORG'\", 1), (\"'DAT'\", 1)]],\n",
       " 'org:founded': [[(\"'ORG'\", 450)], [(\"'DAT'\", 450)]],\n",
       " 'org:political/religious_affiliation': [[(\"'ORG'\", 98)],\n",
       "  [(\"'ORG'\", 54), (\"'POH'\", 38), (\"'LOC'\", 4), (\"'PER'\", 1), (\"'DAT'\", 1)]],\n",
       " 'org:member_of': [[(\"'ORG'\", 1866)],\n",
       "  [(\"'ORG'\", 1320),\n",
       "   (\"'POH'\", 358),\n",
       "   (\"'LOC'\", 173),\n",
       "   (\"'NOH'\", 9),\n",
       "   (\"'DAT'\", 5),\n",
       "   (\"'PER'\", 1)]],\n",
       " 'per:parents': [[(\"'PER'\", 520)],\n",
       "  [(\"'PER'\", 443), (\"'POH'\", 64), (\"'LOC'\", 7), (\"'DAT'\", 5), (\"'NOH'\", 1)]],\n",
       " 'org:dissolved': [[(\"'ORG'\", 66)], [(\"'DAT'\", 66)]],\n",
       " 'per:schools_attended': [[(\"'PER'\", 82)], [(\"'ORG'\", 80), (\"'LOC'\", 2)]],\n",
       " 'per:date_of_death': [[(\"'PER'\", 418)],\n",
       "  [(\"'DAT'\", 410), (\"'PER'\", 3), (\"'LOC'\", 2), (\"'NOH'\", 2), (\"'ORG'\", 1)]],\n",
       " 'per:date_of_birth': [[(\"'PER'\", 1130)], [(\"'DAT'\", 1128), (\"'NOH'\", 2)]],\n",
       " 'per:place_of_birth': [[(\"'PER'\", 166)],\n",
       "  [(\"'LOC'\", 161), (\"'ORG'\", 3), (\"'DAT'\", 1), (\"'PER'\", 1)]],\n",
       " 'per:place_of_death': [[(\"'PER'\", 40)],\n",
       "  [(\"'LOC'\", 35), (\"'POH'\", 2), (\"'ORG'\", 1), (\"'PER'\", 1), (\"'DAT'\", 1)]],\n",
       " 'org:founded_by': [[(\"'ORG'\", 154), (\"'PER'\", 1)],\n",
       "  [(\"'PER'\", 144), (\"'ORG'\", 5), (\"'POH'\", 5), (\"'LOC'\", 1)]],\n",
       " 'per:religion': [[(\"'PER'\", 96)],\n",
       "  [(\"'ORG'\", 80), (\"'POH'\", 14), (\"'LOC'\", 2)]]}"
      ]
     },
     "execution_count": 25,
     "metadata": {},
     "output_type": "execute_result"
    }
   ],
   "source": [
    "principal = {}\n",
    "for i in range(30):\n",
    "    sub_bow = []\n",
    "    obj_bow = []\n",
    "    for j in range(len(train_data)):\n",
    "        if train_data.iloc[j, 4] == label_list[i]:\n",
    "            sub_bow.append(re.findall(r'\\'[\\w\\s\\d,]+\\'', train_data.iloc[j, 2])[-1])\n",
    "            obj_bow.append(re.findall(r'\\'[\\w\\s\\d,]+\\'', train_data.iloc[j, 3])[-1])\n",
    "    sub_counter = Counter(sub_bow)\n",
    "    obj_counter = Counter(obj_bow)\n",
    "    sub_most = sub_counter.most_common(6)\n",
    "    obj_most = obj_counter.most_common(6)\n",
    "    sub_most = [sub_most[k] for k in range(len(sub_most))]\n",
    "    obj_most = [obj_most[k] for k in range(len(obj_most))]\n",
    "    principal[label_list[i]] = [sub_most, obj_most]\n",
    "principal"
   ]
  },
  {
   "cell_type": "markdown",
   "metadata": {},
   "source": [
    "각 레이블당 전체 개수 / 등장 횟수를 가중치로 두어 마지막 확률값에 가중치 곱해주기"
   ]
  },
  {
   "cell_type": "markdown",
   "metadata": {},
   "source": [
    "# Multi Entity 데이터 증강\n",
    "word 안에 쉼표가 존재하는 데이터에 대해서 다음과 같은 증강을 해보았다\\\n",
    "1. 쉼표를 기준으로 모든 데이터를 나눈 후, 한 개씩만 넣은 데이터 증강\n",
    "2. 쉼표를 기준으로 모든 데이터의 combination을 구한 후, 증강\n",
    "3. 쉼표를 기준으로 모든 데이터의 permutation을 구한 후, 증강"
   ]
  },
  {
   "cell_type": "code",
   "execution_count": 66,
   "metadata": {},
   "outputs": [
    {
     "name": "stdout",
     "output_type": "stream",
     "text": [
      "[[\"작가, 시인, 싱어송라이터로 불리는 하상욱 씨는 지난 2012년 발행한 시집 '서울 시'가 베스트셀러에 등극하며 크게 인기를 끌었다.\", \"{'word': '하상욱', 'start_idx': 20, 'end_idx': 22, 'type': 'PER'}\", ['시인', '싱어송라이터'], 'POH', 'per:title', 'wikitree'], ['강수지(1967년 5월 20일 ~)는 대한민국의 가수, 작사가, 방송인 등이다.', \"{'word': '강수지', 'start_idx': 0, 'end_idx': 2, 'type': 'PER'}\", ['가수', '작사가', '방송인'], 'POH', 'per:title', 'wikipedia'], ['서민정(1979년 7월 11일 ~)은 대한민국의 배우, 방송인이다.', \"{'word': '서민정', 'start_idx': 0, 'end_idx': 2, 'type': 'PER'}\", ['배우', '방송인'], 'POH', 'per:title', 'wikipedia'], ['랴오이우(1958년 8월 4일 ~)는 필명인 라오웨이로 알려져 있는 중국의 작가, 시인, 언론인, 음악가이다.', \"{'word': '랴오이우', 'start_idx': 0, 'end_idx': 3, 'type': 'PER'}\", ['작가', '시인', '언론인', '음악가'], 'POH', 'per:title', 'wikipedia'], ['안예은(1992년 5월 21일 ~)은 대한민국의 가수, 싱어송라이터이다.', \"{'word': '안예은', 'start_idx': 0, 'end_idx': 2, 'type': 'PER'}\", ['가수', '싱어송라이터'], 'POH', 'per:title', 'wikipedia'], ['노스트라다무스(1503년 12월 14일 ~ 1566년 7월 2일)는 프랑스의 천문학자, 의사, 예언가이다.', \"{'word': '노스트라다무스', 'start_idx': 0, 'end_idx': 6, 'type': 'PER'}\", ['천문학자', '의사'], 'POH', 'per:title', 'wikipedia'], ['라이언 로드니 레이놀즈(1976년 10월 23일 ~)는 간단히 라이언 레이놀즈로 잘 알려진 캐나다의 배우, 영화 제작자이다.', \"{'word': '라이언 레이놀즈', 'start_idx': 35, 'end_idx': 42, 'type': 'PER'}\", ['배우', '영화 제작자'], 'POH', 'per:title', 'wikipedia'], ['버네사 커비(1988년 4월 18일 ~)는 잉글랜드의 배우, 모델이다.', \"{'word': '버네사 커비', 'start_idx': 0, 'end_idx': 5, 'type': 'PER'}\", ['배우', '모델'], 'POH', 'per:title', 'wikipedia'], ['조원흠(趙元欽, 1980년 1월 13일 ~)은 중국의 가수, 배우이면서 대한민국의 가수로, 2017년에 락 그룹 노라조에서 이혁이 탈퇴한 이후 노라조에 새롭게 합류한 멤버로, 2018년 8월 신곡 발표와 함께 정식으로 영입되었다.', \"{'word': '조원흠', 'start_idx': 0, 'end_idx': 2, 'type': 'PER'}\", ['가수', '배우'], 'POH', 'per:title', 'wikipedia'], ['박정숙(朴正淑, 1970년 2월 4일 ~)은 대한민국의 방송인, 연기자, 대학 교수 등이다.', \"{'word': '박정숙', 'start_idx': 0, 'end_idx': 2, 'type': 'PER'}\", ['방송인', '연기자', '대학 교수'], 'POH', 'per:title', 'wikipedia'], ['아오바 이치코(青葉市子, 1990년~)는 일본의 가수, 싱어송라이터이다.', \"{'word': '아오바 이치코', 'start_idx': 0, 'end_idx': 6, 'type': 'PER'}\", ['가수', '싱어송라이터'], 'POH', 'per:title', 'wikipedia'], ['조우식(~)은 일제 강점기의 시인, 작가, 화가, 문학평론가, 언론인으로, 본적은 경성부 광희정(1946년 5월 26일 당시 주소)이다.', \"{'word': '조우식', 'start_idx': 0, 'end_idx': 2, 'type': 'PER'}\", ['시인', '작가', '화가', '문학평론가', '언론인'], 'POH', 'per:title', 'wikipedia'], ['제임스 메이틀랜드 스튜어트(1908년 5월 20일 ~ 1997년 7월 2일)는 미국의 배우, 군인이다.', \"{'word': '제임스 메이틀랜드 스튜어트', 'start_idx': 0, 'end_idx': 13, 'type': 'PER'}\", ['배우', '군인'], 'POH', 'per:title', 'wikipedia'], ['다비드 푸스테르 토리호스(1982년 2월 3일, 발렌시아 지방 올리바 ~)는 스페인의 전 프로 축구 선수로, 포지션은 공격형 미드필더, 공격수이다.', \"{'word': '다비드 푸스테르 토리호스', 'start_idx': 0, 'end_idx': 12, 'type': 'PER'}\", ['공격형 미드필더', '공격수'], 'POH', 'per:title', 'wikipedia'], ['데스먼드 데커(Desmond Dekker, 1941년 7월 16일 ~ 2006년 5월 25일)는 자메이카의 스카, 록스테디, 레게 싱어송라이터이자 음악가였다.', \"{'word': '데스먼드 데커', 'start_idx': 0, 'end_idx': 6, 'type': 'PER'}\", ['스카', '록스테디', '레게'], 'POH', 'no_relation', 'wikipedia'], ['공빈 김씨(恭嬪 金氏, 1553년 11월 16일 ~ 1577년 6월 13일) 또는 공성왕후(恭聖王后)는 조선의 제 14대 임금 선조의 빈이자 추존왕후이며 임해군, 광해군 형제의 생모이다.', \"{'word': '공빈 김씨', 'start_idx': 0, 'end_idx': 4, 'type': 'PER'}\", ['임해군', '광해군'], 'PER', 'per:children', 'wikipedia'], ['엘사 라푸엔테 메디아누(1976년 7월 18일 ~)는 예명인 엘사 파타키로 알려져 있는 스페인의 모델, 배우, 영화 프로듀서이다.', \"{'word': '엘사 라푸엔테 메디아누', 'start_idx': 0, 'end_idx': 11, 'type': 'PER'}\", ['모델', '배우', '영화 프로듀서'], 'POH', 'per:title', 'wikipedia'], ['카라타 에리카(1997년 9월 19일 ~)는 일본의 배우, 모델이다.', \"{'word': '카라타 에리카', 'start_idx': 0, 'end_idx': 6, 'type': 'PER'}\", ['배우', '모델'], 'POH', 'per:title', 'wikipedia'], ['코부치 켄타로（小渕健太郎,こぶち けんたろう,1977년 3월 13일 - O형）은, 미야자키현 미야자키시 출신의 뮤지션, 작사가, 작곡가이다.', \"{'word': '코부치 켄타로', 'start_idx': 0, 'end_idx': 6, 'type': 'PER'}\", ['뮤지션', '작사가', '작곡가'], 'POH', 'per:title', 'wikipedia'], ['에리크 뷔야르(1968년 5월 4일 ~)는 프랑스의 영화감독, 소설가이다.', \"{'word': '에리크 뷔야르', 'start_idx': 0, 'end_idx': 6, 'type': 'PER'}\", ['영화감독', '소설가'], 'POH', 'per:title', 'wikipedia'], ['잭 앵글린(Jack Anglin, 1916년 5월 13일 ~ 1963년 3월 8일)은 미국의 컨트리 음악 가수, 작사가, 기타 연주자이다.', \"{'word': '잭 앵글린', 'start_idx': 0, 'end_idx': 4, 'type': 'PER'}\", ['가수', '작사가', '기타 연주자'], 'POH', 'per:title', 'wikipedia'], ['타카하시 케이타로(、1978년 ~)는 일본의 만화가, 일러스트레이터이다. 가나가와현 출신으로 어린시절 별명은 浜慶（하마케이)로 자신의 이름과 같이 「慶」가 사용되었을 뿐인 점포에서 따온 것이다.', \"{'word': '타카하시 케이타로', 'start_idx': 0, 'end_idx': 8, 'type': 'PER'}\", ['만화가', '일러스트레이터'], 'POH', 'per:title', 'wikipedia'], ['클로이 베넷(1992년 4월 18일 ~)은 미국의 배우, 가수이다.', \"{'word': '클로이 베넷', 'start_idx': 0, 'end_idx': 5, 'type': 'PER'}\", ['배우', '가수'], 'POH', 'per:title', 'wikipedia'], ['성시경(成始璄, 1979년 4월 17일 ~)은 대한민국의 가수, 작곡가, 방송인 등이다.', \"{'word': '성시경', 'start_idx': 0, 'end_idx': 2, 'type': 'PER'}\", ['가수', '작곡가', '방송인'], 'POH', 'per:title', 'wikipedia'], ['아드리아나 카셀로티(Adriana Caselotti, 1916년 5월 6일 ~ 1997년 1월 18일)는 미국의 배우, 성우, 가수이다.', \"{'word': '아드리아나 카셀로티', 'start_idx': 0, 'end_idx': 9, 'type': 'PER'}\", ['배우', '성우', '가수'], 'POH', 'per:title', 'wikipedia'], ['이와이 슌지(1963년 1월 24일 ~)는 일본의 영화 감독, 영상 작가, 각본가, 음악가이다.', \"{'word': '이와이 슌지', 'start_idx': 0, 'end_idx': 5, 'type': 'PER'}\", ['영화 감독', '영상 작가', '각본가', '음악가'], 'POH', 'per:title', 'wikipedia'], ['존 타우너 윌리엄스(1932년 2월 8일 ~)는 미국의 서양고전음악 작곡가, 지휘자이자 영화 음악 작곡가이다.', \"{'word': '존 타우너 윌리엄스', 'start_idx': 0, 'end_idx': 9, 'type': 'PER'}\", ['작곡가', '지휘자'], 'POH', 'per:title', 'wikipedia'], ['이치현(李治賢, 본명 이용균, 1955년 9월 27일 ~)은 대한민국의 가수, 싱어송라이터, 밴드 리더이다.', \"{'word': '이치현', 'start_idx': 0, 'end_idx': 2, 'type': 'PER'}\", ['가수', '싱어송라이터'], 'POH', 'per:title', 'wikipedia'], ['변정수 씨는 1994년 21살의 나이에 7살 연상 남편과 결혼해 슬하에 두 딸 유채원, 유정원 씨를 두고 있다.', \"{'word': '변정수', 'start_idx': 0, 'end_idx': 2, 'type': 'PER'}\", ['딸 유채원', '유정원'], 'PER', 'per:children', 'wikitree'], ['프란체스코 솔리메나(Francesco Solimena, 1657년 10월 4일 ~ 1747년 4월 5일)는 이탈리아 출신으로, 바로크 시대의 화가, 건축가이다.', \"{'word': '프란체스코 솔리메나', 'start_idx': 0, 'end_idx': 9, 'type': 'PER'}\", ['화가', '건축가'], 'POH', 'per:title', 'wikipedia'], ['존 크라이어(1965년 4월 16일 ~)는 본명이 조너선 나이븐 크라이어인 미국의 배우, 각본가, 연출가이다.', \"{'word': '조너선 나이븐 크라이어', 'start_idx': 28, 'end_idx': 39, 'type': 'PER'}\", ['배우', '각본가', '연출가'], 'POH', 'per:title', 'wikipedia'], ['우에다 신야(1970년 5월 7일 ~)은 일본의 희극인, MC, 배우이다.', \"{'word': '우에다 신야', 'start_idx': 0, 'end_idx': 5, 'type': 'PER'}\", ['희극인', 'MC', '배우'], 'POH', 'per:title', 'wikipedia'], ['릴리 콜린스(1989년 3월 18일 ~)는 미국과 영국의 배우, 모델이다.', \"{'word': '릴리 콜린스', 'start_idx': 0, 'end_idx': 5, 'type': 'PER'}\", ['배우', '모델'], 'POH', 'per:title', 'wikipedia'], ['그의 아들 성삼문, 성삼빙, 성삼고, 성삼성과 손자 네 명이 모두 처형당하여 그의 후사는 끊겼다. 가까운 친척으로는 그의 사촌 성희의 후손들이 살아남아 현존하고 있다.', \"{'word': '성삼문', 'start_idx': 6, 'end_idx': 8, 'type': 'PER'}\", ['성삼빙', '성삼고', '성삼성'], 'PER', 'per:siblings', 'wikipedia'], ['오자와 세이지(1935년 9월 1일 ~)는 일본의 피아노 연주자, 지휘자이다.', \"{'word': '오자와 세이지', 'start_idx': 0, 'end_idx': 6, 'type': 'PER'}\", ['피아노 연주자', '지휘자'], 'POH', 'per:title', 'wikipedia'], ['토드 하워드(Todd Howard)는 미국의 비디오게임 디자이너, 감독, 프로듀서다.', \"{'word': '토드 하워드', 'start_idx': 0, 'end_idx': 5, 'type': 'PER'}\", ['비디오게임 디자이너', '감독', '프로듀서'], 'POH', 'per:title', 'wikipedia'], ['구로사와 기요시(1955년 7월 19일 ~)는 일본의 영화감독, 각본가, 평론가, 소설가다.', \"{'word': '구로사와 기요시', 'start_idx': 0, 'end_idx': 7, 'type': 'PER'}\", ['영화감독', '각본가'], 'POH', 'per:title', 'wikipedia'], ['정채연(1997년 12월 1일 ~)은 대한민국의 가수, 배우이다.', \"{'word': '정채연', 'start_idx': 0, 'end_idx': 2, 'type': 'PER'}\", ['가수', '배우'], 'POH', 'per:title', 'wikipedia'], ['랴오이우(1958년 8월 4일 ~)는 필명인 라오웨이로 알려져 있는 중국의 작가, 시인, 언론인, 음악가이다.', \"{'word': '라오웨이', 'start_idx': 25, 'end_idx': 28, 'type': 'PER'}\", ['작가', '시인', '언론인', '음악가'], 'POH', 'per:title', 'wikipedia'], ['민해경(閔海景, ~)은 대한민국의 여성 가수, 텔레비전 연기자, 뮤지컬 배우이다.', \"{'word': '민해경', 'start_idx': 0, 'end_idx': 2, 'type': 'PER'}\", ['가수', '텔레비전 연기자', '뮤지컬 배우'], 'POH', 'per:title', 'wikipedia'], ['이 영화는 지적장애를 가진 주인공이 기타 연주를 통해 세상과 소통하고 성장하는 과정을 담은 휴먼 다큐멘터리 영화로, 현진식 감독을 비롯해 국내 다큐멘터리 영화 ‘님아, 그 강을 건너지 마오’의 진모영 감독이 프로듀서로 참여했다.', \"{'word': '현진식', 'start_idx': 65, 'end_idx': 67, 'type': 'PER'}\", ['님아', '그 강을 건너지 마오'], 'POH', 'no_relation', 'wikitree'], ['가오즈성(1964년 4월 20일 중국 산시성 위린시 자현 ~)은 중국의 변호사, 활동가, 반체제 인사, 인권 운동가이다.', \"{'word': '가오즈성', 'start_idx': 0, 'end_idx': 3, 'type': 'PER'}\", ['변호사', '활동가', '반체제 인사', '인권 운동가'], 'POH', 'per:title', 'wikipedia'], ['베루키(능력치에 따라 시라소몬, 홍수몬, 카포에라 3종 중 하나), 이브이(진화 방법에 따라 샤미드, 쥬피썬더, 부스터, 에브이, 블래키, 리피아, 글레이시아, 님피아 8종 중 하나)같은 다양한 진화체가 있는 경우도 존재한다.', \"{'word': '이브이', 'start_idx': 38, 'end_idx': 40, 'type': 'PER'}\", ['샤미드', '쥬피썬더', '부스터', '에브이', '블래키', '리피아', '글레이시아', '님피아'], 'POH', 'no_relation', 'wikipedia'], ['제1대 바르가스 요사 후작 호르헤 마리오 페드로 바르가스 요사(1936년 3월 28일 ~)는 페루의 작가, 정치인, 언론인, 수필가이다. 라틴 아메리카에서 가장 중요한 소설가와 수필가 중 한 사람이며, 라틴 아메리카의 붐 세대를 이끌어 가는 작가 중 한 사람이다.', \"{'word': '호르헤 마리오 페드로 바르가스 요사', 'start_idx': 15, 'end_idx': 33, 'type': 'PER'}\", ['작가', '정치인', '언론인', '수필가'], 'POH', 'per:title', 'wikipedia'], ['서마라 위빙(Samara Weaving, 1992년 2월 23일 ~)은 오스트레일리아의 배우, 모델이다.', \"{'word': '서마라 위빙', 'start_idx': 0, 'end_idx': 5, 'type': 'PER'}\", ['배우', '모델'], 'POH', 'per:title', 'wikipedia']] 45\n"
     ]
    }
   ],
   "source": [
    "multi_entity = []\n",
    "for idx, i in enumerate(train_data['object_entity']):\n",
    "    i = eval(i)\n",
    "    if ',' in i['word']:\n",
    "        if re.findall(r'[가-힣]+, ', i['word']):\n",
    "            multi_entity.append([train_data.iloc[idx, 1], train_data.iloc[idx, 2], list(map(str.strip, i['word'].split(','))), i['type'], train_data.iloc[idx, 4], train_data.iloc[idx, 5]])\n",
    "print(multi_entity, len(multi_entity))"
   ]
  },
  {
   "cell_type": "code",
   "execution_count": 67,
   "metadata": {},
   "outputs": [
    {
     "name": "stdout",
     "output_type": "stream",
     "text": [
      "          id                                           sentence  \\\n",
      "4          4  작가, 시인, 싱어송라이터로 불리는 하상욱 씨는 지난 2012년 발행한 시집 '서울...   \n",
      "5          5  작가, 시인, 싱어송라이터로 불리는 하상욱 씨는 지난 2012년 발행한 시집 '서울...   \n",
      "15        15       강수지(1967년 5월 20일 ~)는 대한민국의 가수, 작사가, 방송인 등이다.   \n",
      "16        16       강수지(1967년 5월 20일 ~)는 대한민국의 가수, 작사가, 방송인 등이다.   \n",
      "17        17       강수지(1967년 5월 20일 ~)는 대한민국의 가수, 작사가, 방송인 등이다.   \n",
      "...      ...                                                ...   \n",
      "70447  70447  제1대 바르가스 요사 후작 호르헤 마리오 페드로 바르가스 요사(1936년 3월 28...   \n",
      "70448  70448  제1대 바르가스 요사 후작 호르헤 마리오 페드로 바르가스 요사(1936년 3월 28...   \n",
      "70449  70449  제1대 바르가스 요사 후작 호르헤 마리오 페드로 바르가스 요사(1936년 3월 28...   \n",
      "70454  70454  서마라 위빙(Samara Weaving, 1992년 2월 23일 ~)은 오스트레일리...   \n",
      "70455  70455  서마라 위빙(Samara Weaving, 1992년 2월 23일 ~)은 오스트레일리...   \n",
      "\n",
      "                                          subject_entity  \\\n",
      "4      {'word': '하상욱', 'start_idx': 20, 'end_idx': 22...   \n",
      "5      {'word': '하상욱', 'start_idx': 20, 'end_idx': 22...   \n",
      "15     {'word': '강수지', 'start_idx': 0, 'end_idx': 2, ...   \n",
      "16     {'word': '강수지', 'start_idx': 0, 'end_idx': 2, ...   \n",
      "17     {'word': '강수지', 'start_idx': 0, 'end_idx': 2, ...   \n",
      "...                                                  ...   \n",
      "70447  {'word': '호르헤 마리오 페드로 바르가스 요사', 'start_idx': 1...   \n",
      "70448  {'word': '호르헤 마리오 페드로 바르가스 요사', 'start_idx': 1...   \n",
      "70449  {'word': '호르헤 마리오 페드로 바르가스 요사', 'start_idx': 1...   \n",
      "70454  {'word': '서마라 위빙', 'start_idx': 0, 'end_idx': ...   \n",
      "70455  {'word': '서마라 위빙', 'start_idx': 0, 'end_idx': ...   \n",
      "\n",
      "                                           object_entity      label     source  \n",
      "4      {'word':'시인', 'start_idx': 0, 'end_idx': 0, 't...  per:title   wikitree  \n",
      "5      {'word':'싱어송라이터', 'start_idx': 0, 'end_idx': 0...  per:title   wikitree  \n",
      "15     {'word':'가수', 'start_idx': 0, 'end_idx': 0, 't...  per:title  wikipedia  \n",
      "16     {'word':'작사가', 'start_idx': 0, 'end_idx': 0, '...  per:title  wikipedia  \n",
      "17     {'word':'방송인', 'start_idx': 0, 'end_idx': 0, '...  per:title  wikipedia  \n",
      "...                                                  ...        ...        ...  \n",
      "70447  {'word':'수필가, 정치인, 언론인', 'start_idx': 0, 'end_...  per:title  wikipedia  \n",
      "70448  {'word':'수필가, 언론인, 작가', 'start_idx': 0, 'end_i...  per:title  wikipedia  \n",
      "70449  {'word':'수필가, 언론인, 정치인', 'start_idx': 0, 'end_...  per:title  wikipedia  \n",
      "70454  {'word':'배우', 'start_idx': 0, 'end_idx': 0, 't...  per:title  wikipedia  \n",
      "70455  {'word':'모델', 'start_idx': 0, 'end_idx': 0, 't...  per:title  wikipedia  \n",
      "\n",
      "[69852 rows x 6 columns]\n"
     ]
    }
   ],
   "source": [
    "multi_label_aug_one = pd.DataFrame(columns=['id', 'sentence', 'subject_entity', 'object_entity', 'label', 'source'])\n",
    "multi_label_aug_com = pd.DataFrame(columns=['id', 'sentence', 'subject_entity', 'object_entity', 'label', 'source'])\n",
    "multi_label_aug_per = pd.DataFrame(columns=['id', 'sentence', 'subject_entity', 'object_entity', 'label', 'source'])\n",
    "idx = 0\n",
    "for i in range(len(multi_entity)):\n",
    "    for j in range(len(multi_entity[i][2])):\n",
    "        #print(idx)\n",
    "        obj_entity = \"{'word':'%s', 'start_idx': 0, 'end_idx': 0, 'type': '%s'}\" %(multi_entity[i][2][j], multi_entity[i][3])\n",
    "        dummy = [idx] + multi_entity[i][:2] + [obj_entity] + multi_entity[i][4:]\n",
    "        #print(dummy)\n",
    "        multi_label_aug_one.loc[idx] = dummy\n",
    "        idx += 1\n",
    "    combi = []\n",
    "    for j in range(1, len(multi_entity[i][2])):\n",
    "        combi += list(combinations(multi_entity[i][2], j))\n",
    "    for j in range(len(combi)):\n",
    "        entity = ', '.join(combi[j])\n",
    "        obj_entity = \"{'word':'%s', 'start_idx': 0, 'end_idx': 0, 'type': '%s'}\" %(entity, multi_entity[i][3])\n",
    "        dummy = [idx] + multi_entity[i][:2] + [obj_entity] + multi_entity[i][4:]\n",
    "        #print(dummy)\n",
    "        multi_label_aug_com.loc[idx] = dummy\n",
    "        idx += 1\n",
    "    permu = []\n",
    "    for j in range(1, len(multi_entity[i][2])):\n",
    "        permu += list(permutations(multi_entity[i][2], j))\n",
    "    for j in range(len(permu)):\n",
    "        entity = ', '.join(permu[j])\n",
    "        obj_entity = \"{'word':'%s', 'start_idx': 0, 'end_idx': 0, 'type': '%s'}\" %(entity, multi_entity[i][3])\n",
    "        dummy = [idx] + multi_entity[i][:2] + [obj_entity] + multi_entity[i][4:]\n",
    "        #print(dummy)\n",
    "        multi_label_aug_per.loc[idx] = dummy\n",
    "        idx += 1\n",
    "print(multi_label_aug_per)"
   ]
  },
  {
   "cell_type": "code",
   "execution_count": 68,
   "metadata": {},
   "outputs": [],
   "source": [
    "multi_label_aug_one = pd.concat([train_data, multi_label_aug_one], ignore_index=True)\n",
    "multi_label_aug_com = pd.concat([train_data, multi_label_aug_com], ignore_index=True)\n",
    "multi_label_aug_per = pd.concat([train_data, multi_label_aug_per], ignore_index=True)"
   ]
  },
  {
   "cell_type": "code",
   "execution_count": 69,
   "metadata": {},
   "outputs": [
    {
     "data": {
      "text/html": [
       "<div>\n",
       "<style scoped>\n",
       "    .dataframe tbody tr th:only-of-type {\n",
       "        vertical-align: middle;\n",
       "    }\n",
       "\n",
       "    .dataframe tbody tr th {\n",
       "        vertical-align: top;\n",
       "    }\n",
       "\n",
       "    .dataframe thead th {\n",
       "        text-align: right;\n",
       "    }\n",
       "</style>\n",
       "<table border=\"1\" class=\"dataframe\">\n",
       "  <thead>\n",
       "    <tr style=\"text-align: right;\">\n",
       "      <th></th>\n",
       "      <th>id</th>\n",
       "      <th>sentence</th>\n",
       "      <th>subject_entity</th>\n",
       "      <th>object_entity</th>\n",
       "      <th>label</th>\n",
       "      <th>source</th>\n",
       "    </tr>\n",
       "  </thead>\n",
       "  <tbody>\n",
       "    <tr>\n",
       "      <th>26088</th>\n",
       "      <td>854</td>\n",
       "      <td>베루키(능력치에 따라 시라소몬, 홍수몬, 카포에라 3종 중 하나), 이브이(진화 방...</td>\n",
       "      <td>{'word': '이브이', 'start_idx': 38, 'end_idx': 40...</td>\n",
       "      <td>{'word':'블래키', 'start_idx': 0, 'end_idx': 0, '...</td>\n",
       "      <td>no_relation</td>\n",
       "      <td>wikipedia</td>\n",
       "    </tr>\n",
       "    <tr>\n",
       "      <th>26089</th>\n",
       "      <td>855</td>\n",
       "      <td>베루키(능력치에 따라 시라소몬, 홍수몬, 카포에라 3종 중 하나), 이브이(진화 방...</td>\n",
       "      <td>{'word': '이브이', 'start_idx': 38, 'end_idx': 40...</td>\n",
       "      <td>{'word':'리피아', 'start_idx': 0, 'end_idx': 0, '...</td>\n",
       "      <td>no_relation</td>\n",
       "      <td>wikipedia</td>\n",
       "    </tr>\n",
       "    <tr>\n",
       "      <th>26090</th>\n",
       "      <td>856</td>\n",
       "      <td>베루키(능력치에 따라 시라소몬, 홍수몬, 카포에라 3종 중 하나), 이브이(진화 방...</td>\n",
       "      <td>{'word': '이브이', 'start_idx': 38, 'end_idx': 40...</td>\n",
       "      <td>{'word':'글레이시아', 'start_idx': 0, 'end_idx': 0,...</td>\n",
       "      <td>no_relation</td>\n",
       "      <td>wikipedia</td>\n",
       "    </tr>\n",
       "    <tr>\n",
       "      <th>26091</th>\n",
       "      <td>857</td>\n",
       "      <td>베루키(능력치에 따라 시라소몬, 홍수몬, 카포에라 3종 중 하나), 이브이(진화 방...</td>\n",
       "      <td>{'word': '이브이', 'start_idx': 38, 'end_idx': 40...</td>\n",
       "      <td>{'word':'님피아', 'start_idx': 0, 'end_idx': 0, '...</td>\n",
       "      <td>no_relation</td>\n",
       "      <td>wikipedia</td>\n",
       "    </tr>\n",
       "    <tr>\n",
       "      <th>26092</th>\n",
       "      <td>70392</td>\n",
       "      <td>제1대 바르가스 요사 후작 호르헤 마리오 페드로 바르가스 요사(1936년 3월 28...</td>\n",
       "      <td>{'word': '호르헤 마리오 페드로 바르가스 요사', 'start_idx': 1...</td>\n",
       "      <td>{'word':'작가', 'start_idx': 0, 'end_idx': 0, 't...</td>\n",
       "      <td>per:title</td>\n",
       "      <td>wikipedia</td>\n",
       "    </tr>\n",
       "    <tr>\n",
       "      <th>26093</th>\n",
       "      <td>70393</td>\n",
       "      <td>제1대 바르가스 요사 후작 호르헤 마리오 페드로 바르가스 요사(1936년 3월 28...</td>\n",
       "      <td>{'word': '호르헤 마리오 페드로 바르가스 요사', 'start_idx': 1...</td>\n",
       "      <td>{'word':'정치인', 'start_idx': 0, 'end_idx': 0, '...</td>\n",
       "      <td>per:title</td>\n",
       "      <td>wikipedia</td>\n",
       "    </tr>\n",
       "    <tr>\n",
       "      <th>26094</th>\n",
       "      <td>70394</td>\n",
       "      <td>제1대 바르가스 요사 후작 호르헤 마리오 페드로 바르가스 요사(1936년 3월 28...</td>\n",
       "      <td>{'word': '호르헤 마리오 페드로 바르가스 요사', 'start_idx': 1...</td>\n",
       "      <td>{'word':'언론인', 'start_idx': 0, 'end_idx': 0, '...</td>\n",
       "      <td>per:title</td>\n",
       "      <td>wikipedia</td>\n",
       "    </tr>\n",
       "    <tr>\n",
       "      <th>26095</th>\n",
       "      <td>70395</td>\n",
       "      <td>제1대 바르가스 요사 후작 호르헤 마리오 페드로 바르가스 요사(1936년 3월 28...</td>\n",
       "      <td>{'word': '호르헤 마리오 페드로 바르가스 요사', 'start_idx': 1...</td>\n",
       "      <td>{'word':'수필가', 'start_idx': 0, 'end_idx': 0, '...</td>\n",
       "      <td>per:title</td>\n",
       "      <td>wikipedia</td>\n",
       "    </tr>\n",
       "    <tr>\n",
       "      <th>26096</th>\n",
       "      <td>70450</td>\n",
       "      <td>서마라 위빙(Samara Weaving, 1992년 2월 23일 ~)은 오스트레일리...</td>\n",
       "      <td>{'word': '서마라 위빙', 'start_idx': 0, 'end_idx': ...</td>\n",
       "      <td>{'word':'배우', 'start_idx': 0, 'end_idx': 0, 't...</td>\n",
       "      <td>per:title</td>\n",
       "      <td>wikipedia</td>\n",
       "    </tr>\n",
       "    <tr>\n",
       "      <th>26097</th>\n",
       "      <td>70451</td>\n",
       "      <td>서마라 위빙(Samara Weaving, 1992년 2월 23일 ~)은 오스트레일리...</td>\n",
       "      <td>{'word': '서마라 위빙', 'start_idx': 0, 'end_idx': ...</td>\n",
       "      <td>{'word':'모델', 'start_idx': 0, 'end_idx': 0, 't...</td>\n",
       "      <td>per:title</td>\n",
       "      <td>wikipedia</td>\n",
       "    </tr>\n",
       "  </tbody>\n",
       "</table>\n",
       "</div>"
      ],
      "text/plain": [
       "          id                                           sentence  \\\n",
       "26088    854  베루키(능력치에 따라 시라소몬, 홍수몬, 카포에라 3종 중 하나), 이브이(진화 방...   \n",
       "26089    855  베루키(능력치에 따라 시라소몬, 홍수몬, 카포에라 3종 중 하나), 이브이(진화 방...   \n",
       "26090    856  베루키(능력치에 따라 시라소몬, 홍수몬, 카포에라 3종 중 하나), 이브이(진화 방...   \n",
       "26091    857  베루키(능력치에 따라 시라소몬, 홍수몬, 카포에라 3종 중 하나), 이브이(진화 방...   \n",
       "26092  70392  제1대 바르가스 요사 후작 호르헤 마리오 페드로 바르가스 요사(1936년 3월 28...   \n",
       "26093  70393  제1대 바르가스 요사 후작 호르헤 마리오 페드로 바르가스 요사(1936년 3월 28...   \n",
       "26094  70394  제1대 바르가스 요사 후작 호르헤 마리오 페드로 바르가스 요사(1936년 3월 28...   \n",
       "26095  70395  제1대 바르가스 요사 후작 호르헤 마리오 페드로 바르가스 요사(1936년 3월 28...   \n",
       "26096  70450  서마라 위빙(Samara Weaving, 1992년 2월 23일 ~)은 오스트레일리...   \n",
       "26097  70451  서마라 위빙(Samara Weaving, 1992년 2월 23일 ~)은 오스트레일리...   \n",
       "\n",
       "                                          subject_entity  \\\n",
       "26088  {'word': '이브이', 'start_idx': 38, 'end_idx': 40...   \n",
       "26089  {'word': '이브이', 'start_idx': 38, 'end_idx': 40...   \n",
       "26090  {'word': '이브이', 'start_idx': 38, 'end_idx': 40...   \n",
       "26091  {'word': '이브이', 'start_idx': 38, 'end_idx': 40...   \n",
       "26092  {'word': '호르헤 마리오 페드로 바르가스 요사', 'start_idx': 1...   \n",
       "26093  {'word': '호르헤 마리오 페드로 바르가스 요사', 'start_idx': 1...   \n",
       "26094  {'word': '호르헤 마리오 페드로 바르가스 요사', 'start_idx': 1...   \n",
       "26095  {'word': '호르헤 마리오 페드로 바르가스 요사', 'start_idx': 1...   \n",
       "26096  {'word': '서마라 위빙', 'start_idx': 0, 'end_idx': ...   \n",
       "26097  {'word': '서마라 위빙', 'start_idx': 0, 'end_idx': ...   \n",
       "\n",
       "                                           object_entity        label  \\\n",
       "26088  {'word':'블래키', 'start_idx': 0, 'end_idx': 0, '...  no_relation   \n",
       "26089  {'word':'리피아', 'start_idx': 0, 'end_idx': 0, '...  no_relation   \n",
       "26090  {'word':'글레이시아', 'start_idx': 0, 'end_idx': 0,...  no_relation   \n",
       "26091  {'word':'님피아', 'start_idx': 0, 'end_idx': 0, '...  no_relation   \n",
       "26092  {'word':'작가', 'start_idx': 0, 'end_idx': 0, 't...    per:title   \n",
       "26093  {'word':'정치인', 'start_idx': 0, 'end_idx': 0, '...    per:title   \n",
       "26094  {'word':'언론인', 'start_idx': 0, 'end_idx': 0, '...    per:title   \n",
       "26095  {'word':'수필가', 'start_idx': 0, 'end_idx': 0, '...    per:title   \n",
       "26096  {'word':'배우', 'start_idx': 0, 'end_idx': 0, 't...    per:title   \n",
       "26097  {'word':'모델', 'start_idx': 0, 'end_idx': 0, 't...    per:title   \n",
       "\n",
       "          source  \n",
       "26088  wikipedia  \n",
       "26089  wikipedia  \n",
       "26090  wikipedia  \n",
       "26091  wikipedia  \n",
       "26092  wikipedia  \n",
       "26093  wikipedia  \n",
       "26094  wikipedia  \n",
       "26095  wikipedia  \n",
       "26096  wikipedia  \n",
       "26097  wikipedia  "
      ]
     },
     "execution_count": 69,
     "metadata": {},
     "output_type": "execute_result"
    }
   ],
   "source": [
    "multi_label_aug_one.tail(10)"
   ]
  },
  {
   "cell_type": "code",
   "execution_count": 55,
   "metadata": {},
   "outputs": [
    {
     "data": {
      "text/html": [
       "<div>\n",
       "<style scoped>\n",
       "    .dataframe tbody tr th:only-of-type {\n",
       "        vertical-align: middle;\n",
       "    }\n",
       "\n",
       "    .dataframe tbody tr th {\n",
       "        vertical-align: top;\n",
       "    }\n",
       "\n",
       "    .dataframe thead th {\n",
       "        text-align: right;\n",
       "    }\n",
       "</style>\n",
       "<table border=\"1\" class=\"dataframe\">\n",
       "  <thead>\n",
       "    <tr style=\"text-align: right;\">\n",
       "      <th></th>\n",
       "      <th>id</th>\n",
       "      <th>sentence</th>\n",
       "      <th>subject_entity</th>\n",
       "      <th>object_entity</th>\n",
       "      <th>label</th>\n",
       "      <th>source</th>\n",
       "    </tr>\n",
       "  </thead>\n",
       "  <tbody>\n",
       "    <tr>\n",
       "      <th>33040</th>\n",
       "      <td>70913</td>\n",
       "      <td>토드 하워드(Todd Howard)는 미국의 비디오게임 디자이너, 감독, 프로듀서다.</td>\n",
       "      <td>{'word': '토드 하워드', 'start_idx': 0, 'end_idx': ...</td>\n",
       "      <td>{'word':'비디오게임 디자이너, 프로듀서', 'start_idx': 0, 'e...</td>\n",
       "      <td>per:title</td>\n",
       "      <td>wikipedia</td>\n",
       "    </tr>\n",
       "    <tr>\n",
       "      <th>33041</th>\n",
       "      <td>70914</td>\n",
       "      <td>토드 하워드(Todd Howard)는 미국의 비디오게임 디자이너, 감독, 프로듀서다.</td>\n",
       "      <td>{'word': '토드 하워드', 'start_idx': 0, 'end_idx': ...</td>\n",
       "      <td>{'word':'감독, 프로듀서', 'start_idx': 0, 'end_idx':...</td>\n",
       "      <td>per:title</td>\n",
       "      <td>wikipedia</td>\n",
       "    </tr>\n",
       "    <tr>\n",
       "      <th>33042</th>\n",
       "      <td>70926</td>\n",
       "      <td>클로이 베넷(1992년 4월 18일 ~)은 미국의 배우, 가수이다.</td>\n",
       "      <td>{'word': '클로이 베넷', 'start_idx': 0, 'end_idx': ...</td>\n",
       "      <td>{'word':'배우', 'start_idx': 0, 'end_idx': 0, 't...</td>\n",
       "      <td>per:title</td>\n",
       "      <td>wikipedia</td>\n",
       "    </tr>\n",
       "    <tr>\n",
       "      <th>33043</th>\n",
       "      <td>70927</td>\n",
       "      <td>클로이 베넷(1992년 4월 18일 ~)은 미국의 배우, 가수이다.</td>\n",
       "      <td>{'word': '클로이 베넷', 'start_idx': 0, 'end_idx': ...</td>\n",
       "      <td>{'word':'가수', 'start_idx': 0, 'end_idx': 0, 't...</td>\n",
       "      <td>per:title</td>\n",
       "      <td>wikipedia</td>\n",
       "    </tr>\n",
       "    <tr>\n",
       "      <th>33044</th>\n",
       "      <td>70933</td>\n",
       "      <td>잭 앵글린(Jack Anglin, 1916년 5월 13일 ~ 1963년 3월 8일)...</td>\n",
       "      <td>{'word': '잭 앵글린', 'start_idx': 0, 'end_idx': 4...</td>\n",
       "      <td>{'word':'가수', 'start_idx': 0, 'end_idx': 0, 't...</td>\n",
       "      <td>per:title</td>\n",
       "      <td>wikipedia</td>\n",
       "    </tr>\n",
       "    <tr>\n",
       "      <th>33045</th>\n",
       "      <td>70934</td>\n",
       "      <td>잭 앵글린(Jack Anglin, 1916년 5월 13일 ~ 1963년 3월 8일)...</td>\n",
       "      <td>{'word': '잭 앵글린', 'start_idx': 0, 'end_idx': 4...</td>\n",
       "      <td>{'word':'작사가', 'start_idx': 0, 'end_idx': 0, '...</td>\n",
       "      <td>per:title</td>\n",
       "      <td>wikipedia</td>\n",
       "    </tr>\n",
       "    <tr>\n",
       "      <th>33046</th>\n",
       "      <td>70935</td>\n",
       "      <td>잭 앵글린(Jack Anglin, 1916년 5월 13일 ~ 1963년 3월 8일)...</td>\n",
       "      <td>{'word': '잭 앵글린', 'start_idx': 0, 'end_idx': 4...</td>\n",
       "      <td>{'word':'기타 연주자', 'start_idx': 0, 'end_idx': 0...</td>\n",
       "      <td>per:title</td>\n",
       "      <td>wikipedia</td>\n",
       "    </tr>\n",
       "    <tr>\n",
       "      <th>33047</th>\n",
       "      <td>70936</td>\n",
       "      <td>잭 앵글린(Jack Anglin, 1916년 5월 13일 ~ 1963년 3월 8일)...</td>\n",
       "      <td>{'word': '잭 앵글린', 'start_idx': 0, 'end_idx': 4...</td>\n",
       "      <td>{'word':'가수, 작사가', 'start_idx': 0, 'end_idx': ...</td>\n",
       "      <td>per:title</td>\n",
       "      <td>wikipedia</td>\n",
       "    </tr>\n",
       "    <tr>\n",
       "      <th>33048</th>\n",
       "      <td>70937</td>\n",
       "      <td>잭 앵글린(Jack Anglin, 1916년 5월 13일 ~ 1963년 3월 8일)...</td>\n",
       "      <td>{'word': '잭 앵글린', 'start_idx': 0, 'end_idx': 4...</td>\n",
       "      <td>{'word':'가수, 기타 연주자', 'start_idx': 0, 'end_idx...</td>\n",
       "      <td>per:title</td>\n",
       "      <td>wikipedia</td>\n",
       "    </tr>\n",
       "    <tr>\n",
       "      <th>33049</th>\n",
       "      <td>70938</td>\n",
       "      <td>잭 앵글린(Jack Anglin, 1916년 5월 13일 ~ 1963년 3월 8일)...</td>\n",
       "      <td>{'word': '잭 앵글린', 'start_idx': 0, 'end_idx': 4...</td>\n",
       "      <td>{'word':'작사가, 기타 연주자', 'start_idx': 0, 'end_id...</td>\n",
       "      <td>per:title</td>\n",
       "      <td>wikipedia</td>\n",
       "    </tr>\n",
       "  </tbody>\n",
       "</table>\n",
       "</div>"
      ],
      "text/plain": [
       "          id                                           sentence  \\\n",
       "33040  70913    토드 하워드(Todd Howard)는 미국의 비디오게임 디자이너, 감독, 프로듀서다.   \n",
       "33041  70914    토드 하워드(Todd Howard)는 미국의 비디오게임 디자이너, 감독, 프로듀서다.   \n",
       "33042  70926              클로이 베넷(1992년 4월 18일 ~)은 미국의 배우, 가수이다.   \n",
       "33043  70927              클로이 베넷(1992년 4월 18일 ~)은 미국의 배우, 가수이다.   \n",
       "33044  70933  잭 앵글린(Jack Anglin, 1916년 5월 13일 ~ 1963년 3월 8일)...   \n",
       "33045  70934  잭 앵글린(Jack Anglin, 1916년 5월 13일 ~ 1963년 3월 8일)...   \n",
       "33046  70935  잭 앵글린(Jack Anglin, 1916년 5월 13일 ~ 1963년 3월 8일)...   \n",
       "33047  70936  잭 앵글린(Jack Anglin, 1916년 5월 13일 ~ 1963년 3월 8일)...   \n",
       "33048  70937  잭 앵글린(Jack Anglin, 1916년 5월 13일 ~ 1963년 3월 8일)...   \n",
       "33049  70938  잭 앵글린(Jack Anglin, 1916년 5월 13일 ~ 1963년 3월 8일)...   \n",
       "\n",
       "                                          subject_entity  \\\n",
       "33040  {'word': '토드 하워드', 'start_idx': 0, 'end_idx': ...   \n",
       "33041  {'word': '토드 하워드', 'start_idx': 0, 'end_idx': ...   \n",
       "33042  {'word': '클로이 베넷', 'start_idx': 0, 'end_idx': ...   \n",
       "33043  {'word': '클로이 베넷', 'start_idx': 0, 'end_idx': ...   \n",
       "33044  {'word': '잭 앵글린', 'start_idx': 0, 'end_idx': 4...   \n",
       "33045  {'word': '잭 앵글린', 'start_idx': 0, 'end_idx': 4...   \n",
       "33046  {'word': '잭 앵글린', 'start_idx': 0, 'end_idx': 4...   \n",
       "33047  {'word': '잭 앵글린', 'start_idx': 0, 'end_idx': 4...   \n",
       "33048  {'word': '잭 앵글린', 'start_idx': 0, 'end_idx': 4...   \n",
       "33049  {'word': '잭 앵글린', 'start_idx': 0, 'end_idx': 4...   \n",
       "\n",
       "                                           object_entity      label     source  \n",
       "33040  {'word':'비디오게임 디자이너, 프로듀서', 'start_idx': 0, 'e...  per:title  wikipedia  \n",
       "33041  {'word':'감독, 프로듀서', 'start_idx': 0, 'end_idx':...  per:title  wikipedia  \n",
       "33042  {'word':'배우', 'start_idx': 0, 'end_idx': 0, 't...  per:title  wikipedia  \n",
       "33043  {'word':'가수', 'start_idx': 0, 'end_idx': 0, 't...  per:title  wikipedia  \n",
       "33044  {'word':'가수', 'start_idx': 0, 'end_idx': 0, 't...  per:title  wikipedia  \n",
       "33045  {'word':'작사가', 'start_idx': 0, 'end_idx': 0, '...  per:title  wikipedia  \n",
       "33046  {'word':'기타 연주자', 'start_idx': 0, 'end_idx': 0...  per:title  wikipedia  \n",
       "33047  {'word':'가수, 작사가', 'start_idx': 0, 'end_idx': ...  per:title  wikipedia  \n",
       "33048  {'word':'가수, 기타 연주자', 'start_idx': 0, 'end_idx...  per:title  wikipedia  \n",
       "33049  {'word':'작사가, 기타 연주자', 'start_idx': 0, 'end_id...  per:title  wikipedia  "
      ]
     },
     "execution_count": 55,
     "metadata": {},
     "output_type": "execute_result"
    }
   ],
   "source": [
    "multi_label_aug_com.tail(10)"
   ]
  },
  {
   "cell_type": "code",
   "execution_count": 70,
   "metadata": {},
   "outputs": [
    {
     "data": {
      "text/html": [
       "<div>\n",
       "<style scoped>\n",
       "    .dataframe tbody tr th:only-of-type {\n",
       "        vertical-align: middle;\n",
       "    }\n",
       "\n",
       "    .dataframe tbody tr th {\n",
       "        vertical-align: top;\n",
       "    }\n",
       "\n",
       "    .dataframe thead th {\n",
       "        text-align: right;\n",
       "    }\n",
       "</style>\n",
       "<table border=\"1\" class=\"dataframe\">\n",
       "  <thead>\n",
       "    <tr style=\"text-align: right;\">\n",
       "      <th></th>\n",
       "      <th>id</th>\n",
       "      <th>sentence</th>\n",
       "      <th>subject_entity</th>\n",
       "      <th>object_entity</th>\n",
       "      <th>label</th>\n",
       "      <th>source</th>\n",
       "    </tr>\n",
       "  </thead>\n",
       "  <tbody>\n",
       "    <tr>\n",
       "      <th>95818</th>\n",
       "      <td>70442</td>\n",
       "      <td>제1대 바르가스 요사 후작 호르헤 마리오 페드로 바르가스 요사(1936년 3월 28...</td>\n",
       "      <td>{'word': '호르헤 마리오 페드로 바르가스 요사', 'start_idx': 1...</td>\n",
       "      <td>{'word':'언론인, 수필가, 작가', 'start_idx': 0, 'end_i...</td>\n",
       "      <td>per:title</td>\n",
       "      <td>wikipedia</td>\n",
       "    </tr>\n",
       "    <tr>\n",
       "      <th>95819</th>\n",
       "      <td>70443</td>\n",
       "      <td>제1대 바르가스 요사 후작 호르헤 마리오 페드로 바르가스 요사(1936년 3월 28...</td>\n",
       "      <td>{'word': '호르헤 마리오 페드로 바르가스 요사', 'start_idx': 1...</td>\n",
       "      <td>{'word':'언론인, 수필가, 정치인', 'start_idx': 0, 'end_...</td>\n",
       "      <td>per:title</td>\n",
       "      <td>wikipedia</td>\n",
       "    </tr>\n",
       "    <tr>\n",
       "      <th>95820</th>\n",
       "      <td>70444</td>\n",
       "      <td>제1대 바르가스 요사 후작 호르헤 마리오 페드로 바르가스 요사(1936년 3월 28...</td>\n",
       "      <td>{'word': '호르헤 마리오 페드로 바르가스 요사', 'start_idx': 1...</td>\n",
       "      <td>{'word':'수필가, 작가, 정치인', 'start_idx': 0, 'end_i...</td>\n",
       "      <td>per:title</td>\n",
       "      <td>wikipedia</td>\n",
       "    </tr>\n",
       "    <tr>\n",
       "      <th>95821</th>\n",
       "      <td>70445</td>\n",
       "      <td>제1대 바르가스 요사 후작 호르헤 마리오 페드로 바르가스 요사(1936년 3월 28...</td>\n",
       "      <td>{'word': '호르헤 마리오 페드로 바르가스 요사', 'start_idx': 1...</td>\n",
       "      <td>{'word':'수필가, 작가, 언론인', 'start_idx': 0, 'end_i...</td>\n",
       "      <td>per:title</td>\n",
       "      <td>wikipedia</td>\n",
       "    </tr>\n",
       "    <tr>\n",
       "      <th>95822</th>\n",
       "      <td>70446</td>\n",
       "      <td>제1대 바르가스 요사 후작 호르헤 마리오 페드로 바르가스 요사(1936년 3월 28...</td>\n",
       "      <td>{'word': '호르헤 마리오 페드로 바르가스 요사', 'start_idx': 1...</td>\n",
       "      <td>{'word':'수필가, 정치인, 작가', 'start_idx': 0, 'end_i...</td>\n",
       "      <td>per:title</td>\n",
       "      <td>wikipedia</td>\n",
       "    </tr>\n",
       "    <tr>\n",
       "      <th>95823</th>\n",
       "      <td>70447</td>\n",
       "      <td>제1대 바르가스 요사 후작 호르헤 마리오 페드로 바르가스 요사(1936년 3월 28...</td>\n",
       "      <td>{'word': '호르헤 마리오 페드로 바르가스 요사', 'start_idx': 1...</td>\n",
       "      <td>{'word':'수필가, 정치인, 언론인', 'start_idx': 0, 'end_...</td>\n",
       "      <td>per:title</td>\n",
       "      <td>wikipedia</td>\n",
       "    </tr>\n",
       "    <tr>\n",
       "      <th>95824</th>\n",
       "      <td>70448</td>\n",
       "      <td>제1대 바르가스 요사 후작 호르헤 마리오 페드로 바르가스 요사(1936년 3월 28...</td>\n",
       "      <td>{'word': '호르헤 마리오 페드로 바르가스 요사', 'start_idx': 1...</td>\n",
       "      <td>{'word':'수필가, 언론인, 작가', 'start_idx': 0, 'end_i...</td>\n",
       "      <td>per:title</td>\n",
       "      <td>wikipedia</td>\n",
       "    </tr>\n",
       "    <tr>\n",
       "      <th>95825</th>\n",
       "      <td>70449</td>\n",
       "      <td>제1대 바르가스 요사 후작 호르헤 마리오 페드로 바르가스 요사(1936년 3월 28...</td>\n",
       "      <td>{'word': '호르헤 마리오 페드로 바르가스 요사', 'start_idx': 1...</td>\n",
       "      <td>{'word':'수필가, 언론인, 정치인', 'start_idx': 0, 'end_...</td>\n",
       "      <td>per:title</td>\n",
       "      <td>wikipedia</td>\n",
       "    </tr>\n",
       "    <tr>\n",
       "      <th>95826</th>\n",
       "      <td>70454</td>\n",
       "      <td>서마라 위빙(Samara Weaving, 1992년 2월 23일 ~)은 오스트레일리...</td>\n",
       "      <td>{'word': '서마라 위빙', 'start_idx': 0, 'end_idx': ...</td>\n",
       "      <td>{'word':'배우', 'start_idx': 0, 'end_idx': 0, 't...</td>\n",
       "      <td>per:title</td>\n",
       "      <td>wikipedia</td>\n",
       "    </tr>\n",
       "    <tr>\n",
       "      <th>95827</th>\n",
       "      <td>70455</td>\n",
       "      <td>서마라 위빙(Samara Weaving, 1992년 2월 23일 ~)은 오스트레일리...</td>\n",
       "      <td>{'word': '서마라 위빙', 'start_idx': 0, 'end_idx': ...</td>\n",
       "      <td>{'word':'모델', 'start_idx': 0, 'end_idx': 0, 't...</td>\n",
       "      <td>per:title</td>\n",
       "      <td>wikipedia</td>\n",
       "    </tr>\n",
       "  </tbody>\n",
       "</table>\n",
       "</div>"
      ],
      "text/plain": [
       "          id                                           sentence  \\\n",
       "95818  70442  제1대 바르가스 요사 후작 호르헤 마리오 페드로 바르가스 요사(1936년 3월 28...   \n",
       "95819  70443  제1대 바르가스 요사 후작 호르헤 마리오 페드로 바르가스 요사(1936년 3월 28...   \n",
       "95820  70444  제1대 바르가스 요사 후작 호르헤 마리오 페드로 바르가스 요사(1936년 3월 28...   \n",
       "95821  70445  제1대 바르가스 요사 후작 호르헤 마리오 페드로 바르가스 요사(1936년 3월 28...   \n",
       "95822  70446  제1대 바르가스 요사 후작 호르헤 마리오 페드로 바르가스 요사(1936년 3월 28...   \n",
       "95823  70447  제1대 바르가스 요사 후작 호르헤 마리오 페드로 바르가스 요사(1936년 3월 28...   \n",
       "95824  70448  제1대 바르가스 요사 후작 호르헤 마리오 페드로 바르가스 요사(1936년 3월 28...   \n",
       "95825  70449  제1대 바르가스 요사 후작 호르헤 마리오 페드로 바르가스 요사(1936년 3월 28...   \n",
       "95826  70454  서마라 위빙(Samara Weaving, 1992년 2월 23일 ~)은 오스트레일리...   \n",
       "95827  70455  서마라 위빙(Samara Weaving, 1992년 2월 23일 ~)은 오스트레일리...   \n",
       "\n",
       "                                          subject_entity  \\\n",
       "95818  {'word': '호르헤 마리오 페드로 바르가스 요사', 'start_idx': 1...   \n",
       "95819  {'word': '호르헤 마리오 페드로 바르가스 요사', 'start_idx': 1...   \n",
       "95820  {'word': '호르헤 마리오 페드로 바르가스 요사', 'start_idx': 1...   \n",
       "95821  {'word': '호르헤 마리오 페드로 바르가스 요사', 'start_idx': 1...   \n",
       "95822  {'word': '호르헤 마리오 페드로 바르가스 요사', 'start_idx': 1...   \n",
       "95823  {'word': '호르헤 마리오 페드로 바르가스 요사', 'start_idx': 1...   \n",
       "95824  {'word': '호르헤 마리오 페드로 바르가스 요사', 'start_idx': 1...   \n",
       "95825  {'word': '호르헤 마리오 페드로 바르가스 요사', 'start_idx': 1...   \n",
       "95826  {'word': '서마라 위빙', 'start_idx': 0, 'end_idx': ...   \n",
       "95827  {'word': '서마라 위빙', 'start_idx': 0, 'end_idx': ...   \n",
       "\n",
       "                                           object_entity      label     source  \n",
       "95818  {'word':'언론인, 수필가, 작가', 'start_idx': 0, 'end_i...  per:title  wikipedia  \n",
       "95819  {'word':'언론인, 수필가, 정치인', 'start_idx': 0, 'end_...  per:title  wikipedia  \n",
       "95820  {'word':'수필가, 작가, 정치인', 'start_idx': 0, 'end_i...  per:title  wikipedia  \n",
       "95821  {'word':'수필가, 작가, 언론인', 'start_idx': 0, 'end_i...  per:title  wikipedia  \n",
       "95822  {'word':'수필가, 정치인, 작가', 'start_idx': 0, 'end_i...  per:title  wikipedia  \n",
       "95823  {'word':'수필가, 정치인, 언론인', 'start_idx': 0, 'end_...  per:title  wikipedia  \n",
       "95824  {'word':'수필가, 언론인, 작가', 'start_idx': 0, 'end_i...  per:title  wikipedia  \n",
       "95825  {'word':'수필가, 언론인, 정치인', 'start_idx': 0, 'end_...  per:title  wikipedia  \n",
       "95826  {'word':'배우', 'start_idx': 0, 'end_idx': 0, 't...  per:title  wikipedia  \n",
       "95827  {'word':'모델', 'start_idx': 0, 'end_idx': 0, 't...  per:title  wikipedia  "
      ]
     },
     "execution_count": 70,
     "metadata": {},
     "output_type": "execute_result"
    }
   ],
   "source": [
    "multi_label_aug_per.tail(10)"
   ]
  },
  {
   "cell_type": "code",
   "execution_count": 71,
   "metadata": {},
   "outputs": [],
   "source": [
    "multi_label_aug_one.to_csv(\"../../dataset/train/multi_label_aug_one.csv\")\n",
    "multi_label_aug_com.to_csv(\"../../dataset/train/multi_label_aug_com.csv\")\n",
    "multi_label_aug_per.to_csv(\"../../dataset/train/multi_label_aug_per.csv\")"
   ]
  },
  {
   "cell_type": "code",
   "execution_count": 5,
   "metadata": {},
   "outputs": [
    {
     "name": "stdout",
     "output_type": "stream",
     "text": [
      "0.1\n"
     ]
    }
   ],
   "source": [
    "print(1e-01)"
   ]
  }
 ],
 "metadata": {
  "kernelspec": {
   "display_name": "Python 3.8.13 ('klue')",
   "language": "python",
   "name": "python3"
  },
  "language_info": {
   "codemirror_mode": {
    "name": "ipython",
    "version": 3
   },
   "file_extension": ".py",
   "mimetype": "text/x-python",
   "name": "python",
   "nbconvert_exporter": "python",
   "pygments_lexer": "ipython3",
   "version": "3.8.15"
  },
  "orig_nbformat": 4,
  "vscode": {
   "interpreter": {
    "hash": "cdf5d1a2b21d5315a0b7a0779e9f9212b6d3b593604d472f2d14684b88d9f7c0"
   }
  }
 },
 "nbformat": 4,
 "nbformat_minor": 2
}
